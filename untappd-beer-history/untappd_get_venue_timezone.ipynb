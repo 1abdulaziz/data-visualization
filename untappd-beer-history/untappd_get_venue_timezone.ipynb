{
 "cells": [
  {
   "cell_type": "markdown",
   "metadata": {},
   "source": [
    "Get the timezone for each venue's lat-long from the Google Maps timezone API: https://developers.google.com/maps/documentation/timezone/intro\n",
    "\n",
    "Then convert each check-in's datetime to the timezone of the venue at which it was checked in."
   ]
  },
  {
   "cell_type": "code",
   "execution_count": 1,
   "metadata": {
    "collapsed": true
   },
   "outputs": [],
   "source": [
    "import time, requests, pytz, pandas as pd\n",
    "from keys import google_timezone_api_key\n",
    "from dateutil import parser as date_parser"
   ]
  },
  {
   "cell_type": "code",
   "execution_count": 2,
   "metadata": {
    "collapsed": true
   },
   "outputs": [],
   "source": [
    "# define pause interval to not hammer their server\n",
    "pause = 0.25"
   ]
  },
  {
   "cell_type": "code",
   "execution_count": 3,
   "metadata": {
    "collapsed": false
   },
   "outputs": [
    {
     "data": {
      "text/html": [
       "<div>\n",
       "<table border=\"1\" class=\"dataframe\">\n",
       "  <thead>\n",
       "    <tr style=\"text-align: right;\">\n",
       "      <th></th>\n",
       "      <th>date_pacific_tz</th>\n",
       "      <th>beer_name</th>\n",
       "      <th>beer_style</th>\n",
       "      <th>brewery_name</th>\n",
       "      <th>brewery_place</th>\n",
       "      <th>brewery_type</th>\n",
       "      <th>rating</th>\n",
       "      <th>beer_avg_rating</th>\n",
       "      <th>brewery_avg_rating</th>\n",
       "      <th>beer_abv</th>\n",
       "      <th>...</th>\n",
       "      <th>venue_lat</th>\n",
       "      <th>venue_lon</th>\n",
       "      <th>venue_total_checkins</th>\n",
       "      <th>checkin_id</th>\n",
       "      <th>beer_url</th>\n",
       "      <th>brewery_url</th>\n",
       "      <th>venue_url</th>\n",
       "      <th>brewery_lat</th>\n",
       "      <th>brewery_lon</th>\n",
       "      <th>venue_latlng</th>\n",
       "    </tr>\n",
       "  </thead>\n",
       "  <tbody>\n",
       "    <tr>\n",
       "      <th>0</th>\n",
       "      <td>2016-06-09 20:43:09-07:00</td>\n",
       "      <td>Angel City IPA</td>\n",
       "      <td>IPA - American</td>\n",
       "      <td>Angel City Brewery</td>\n",
       "      <td>Los Angeles, CA United States</td>\n",
       "      <td>Micro Brewery</td>\n",
       "      <td>3.50</td>\n",
       "      <td>3.56</td>\n",
       "      <td>3.47</td>\n",
       "      <td>6.1</td>\n",
       "      <td>...</td>\n",
       "      <td>37.8605</td>\n",
       "      <td>-122.271</td>\n",
       "      <td>NaN</td>\n",
       "      <td>321628572</td>\n",
       "      <td>https://untappd.com/b/angel-city-brewery-angel...</td>\n",
       "      <td>https://untappd.com/w/angel-city-brewery/4406</td>\n",
       "      <td>https://untappd.com/v/boeing-manor/509841</td>\n",
       "      <td>34.052234</td>\n",
       "      <td>-118.243685</td>\n",
       "      <td>37.8605,-122.271</td>\n",
       "    </tr>\n",
       "    <tr>\n",
       "      <th>1</th>\n",
       "      <td>2016-06-08 01:45:36-07:00</td>\n",
       "      <td>Cascade Premium Light</td>\n",
       "      <td>Lager - Pale</td>\n",
       "      <td>Cascade Brewery Co. (Australia)</td>\n",
       "      <td>South Hobart, Tas. Australia</td>\n",
       "      <td>Macro Brewery</td>\n",
       "      <td>2.00</td>\n",
       "      <td>2.32</td>\n",
       "      <td>2.93</td>\n",
       "      <td>2.6</td>\n",
       "      <td>...</td>\n",
       "      <td>-37.8129</td>\n",
       "      <td>144.961</td>\n",
       "      <td>NaN</td>\n",
       "      <td>321044810</td>\n",
       "      <td>https://untappd.com/b/cascade-brewery-co-austr...</td>\n",
       "      <td>https://untappd.com/w/cascade-brewery-co-austr...</td>\n",
       "      <td>https://untappd.com/v/golden-monkey/1201269</td>\n",
       "      <td>-42.894523</td>\n",
       "      <td>147.309491</td>\n",
       "      <td>-37.8129,144.961</td>\n",
       "    </tr>\n",
       "    <tr>\n",
       "      <th>2</th>\n",
       "      <td>2016-06-07 22:39:59-07:00</td>\n",
       "      <td>Naked Lager</td>\n",
       "      <td>Lager - Helles</td>\n",
       "      <td>Naked For Satan</td>\n",
       "      <td>Australia</td>\n",
       "      <td>Nano Brewery</td>\n",
       "      <td>3.75</td>\n",
       "      <td>3.47</td>\n",
       "      <td>3.24</td>\n",
       "      <td>4.2</td>\n",
       "      <td>...</td>\n",
       "      <td>-37.7988</td>\n",
       "      <td>144.978</td>\n",
       "      <td>NaN</td>\n",
       "      <td>321038174</td>\n",
       "      <td>https://untappd.com/b/naked-for-satan-naked-la...</td>\n",
       "      <td>https://untappd.com/w/naked-for-satan/83569</td>\n",
       "      <td>https://untappd.com/v/naked-for-satan/86227</td>\n",
       "      <td>-25.274398</td>\n",
       "      <td>133.775136</td>\n",
       "      <td>-37.7988,144.978</td>\n",
       "    </tr>\n",
       "    <tr>\n",
       "      <th>3</th>\n",
       "      <td>2016-06-07 21:25:57-07:00</td>\n",
       "      <td>Golden Ale</td>\n",
       "      <td>Golden Ale</td>\n",
       "      <td>Venom Brewing</td>\n",
       "      <td>Australia</td>\n",
       "      <td>Micro Brewery</td>\n",
       "      <td>3.25</td>\n",
       "      <td>3.58</td>\n",
       "      <td>3.61</td>\n",
       "      <td>4.8</td>\n",
       "      <td>...</td>\n",
       "      <td>-37.7986</td>\n",
       "      <td>144.981</td>\n",
       "      <td>NaN</td>\n",
       "      <td>321031246</td>\n",
       "      <td>https://untappd.com/b/venom-brewing-golden-ale...</td>\n",
       "      <td>https://untappd.com/w/venom-brewing/219040</td>\n",
       "      <td>https://untappd.com/v/town-hall-hotel/52668</td>\n",
       "      <td>-25.274398</td>\n",
       "      <td>133.775136</td>\n",
       "      <td>-37.7986,144.981</td>\n",
       "    </tr>\n",
       "    <tr>\n",
       "      <th>4</th>\n",
       "      <td>2016-06-07 20:37:02-07:00</td>\n",
       "      <td>Fat Yak</td>\n",
       "      <td>Pale Ale - American</td>\n",
       "      <td>Matilda Bay Brewing Company</td>\n",
       "      <td>Port Melbourne, Vic. Australia</td>\n",
       "      <td>Micro Brewery</td>\n",
       "      <td>4.00</td>\n",
       "      <td>3.39</td>\n",
       "      <td>3.23</td>\n",
       "      <td>4.7</td>\n",
       "      <td>...</td>\n",
       "      <td>-37.8056</td>\n",
       "      <td>144.983</td>\n",
       "      <td>NaN</td>\n",
       "      <td>321022902</td>\n",
       "      <td>https://untappd.com/b/matilda-bay-brewing-comp...</td>\n",
       "      <td>https://untappd.com/w/matilda-bay-brewing-comp...</td>\n",
       "      <td>https://untappd.com/v/bowl-bowl/4803853</td>\n",
       "      <td>-37.836926</td>\n",
       "      <td>144.944550</td>\n",
       "      <td>-37.8056,144.983</td>\n",
       "    </tr>\n",
       "  </tbody>\n",
       "</table>\n",
       "<p>5 rows × 26 columns</p>\n",
       "</div>"
      ],
      "text/plain": [
       "             date_pacific_tz              beer_name           beer_style  \\\n",
       "0  2016-06-09 20:43:09-07:00         Angel City IPA       IPA - American   \n",
       "1  2016-06-08 01:45:36-07:00  Cascade Premium Light         Lager - Pale   \n",
       "2  2016-06-07 22:39:59-07:00            Naked Lager       Lager - Helles   \n",
       "3  2016-06-07 21:25:57-07:00             Golden Ale           Golden Ale   \n",
       "4  2016-06-07 20:37:02-07:00                Fat Yak  Pale Ale - American   \n",
       "\n",
       "                      brewery_name                   brewery_place  \\\n",
       "0               Angel City Brewery   Los Angeles, CA United States   \n",
       "1  Cascade Brewery Co. (Australia)    South Hobart, Tas. Australia   \n",
       "2                  Naked For Satan                       Australia   \n",
       "3                    Venom Brewing                       Australia   \n",
       "4      Matilda Bay Brewing Company  Port Melbourne, Vic. Australia   \n",
       "\n",
       "    brewery_type  rating  beer_avg_rating  brewery_avg_rating  beer_abv  \\\n",
       "0  Micro Brewery    3.50             3.56                3.47       6.1   \n",
       "1  Macro Brewery    2.00             2.32                2.93       2.6   \n",
       "2   Nano Brewery    3.75             3.47                3.24       4.2   \n",
       "3  Micro Brewery    3.25             3.58                3.61       4.8   \n",
       "4  Micro Brewery    4.00             3.39                3.23       4.7   \n",
       "\n",
       "         ...         venue_lat  venue_lon  venue_total_checkins checkin_id  \\\n",
       "0        ...           37.8605   -122.271                   NaN  321628572   \n",
       "1        ...          -37.8129    144.961                   NaN  321044810   \n",
       "2        ...          -37.7988    144.978                   NaN  321038174   \n",
       "3        ...          -37.7986    144.981                   NaN  321031246   \n",
       "4        ...          -37.8056    144.983                   NaN  321022902   \n",
       "\n",
       "                                            beer_url  \\\n",
       "0  https://untappd.com/b/angel-city-brewery-angel...   \n",
       "1  https://untappd.com/b/cascade-brewery-co-austr...   \n",
       "2  https://untappd.com/b/naked-for-satan-naked-la...   \n",
       "3  https://untappd.com/b/venom-brewing-golden-ale...   \n",
       "4  https://untappd.com/b/matilda-bay-brewing-comp...   \n",
       "\n",
       "                                         brewery_url  \\\n",
       "0      https://untappd.com/w/angel-city-brewery/4406   \n",
       "1  https://untappd.com/w/cascade-brewery-co-austr...   \n",
       "2        https://untappd.com/w/naked-for-satan/83569   \n",
       "3         https://untappd.com/w/venom-brewing/219040   \n",
       "4  https://untappd.com/w/matilda-bay-brewing-comp...   \n",
       "\n",
       "                                     venue_url  brewery_lat  brewery_lon  \\\n",
       "0    https://untappd.com/v/boeing-manor/509841    34.052234  -118.243685   \n",
       "1  https://untappd.com/v/golden-monkey/1201269   -42.894523   147.309491   \n",
       "2  https://untappd.com/v/naked-for-satan/86227   -25.274398   133.775136   \n",
       "3  https://untappd.com/v/town-hall-hotel/52668   -25.274398   133.775136   \n",
       "4      https://untappd.com/v/bowl-bowl/4803853   -37.836926   144.944550   \n",
       "\n",
       "       venue_latlng  \n",
       "0  37.8605,-122.271  \n",
       "1  -37.8129,144.961  \n",
       "2  -37.7988,144.978  \n",
       "3  -37.7986,144.981  \n",
       "4  -37.8056,144.983  \n",
       "\n",
       "[5 rows x 26 columns]"
      ]
     },
     "execution_count": 3,
     "metadata": {},
     "output_type": "execute_result"
    }
   ],
   "source": [
    "# load the data, parse datetime string to datetime object, and combine lat-long into single column\n",
    "df = pd.read_csv('data/untappd_details_geocoded.csv', encoding='utf-8')\n",
    "df['date_pacific_tz'] = df['date_pacific_tz'].map(lambda x: date_parser.parse(x))\n",
    "df['venue_latlng'] = df.apply(lambda row: '{},{}'.format(row['venue_lat'], row['venue_lon']), axis=1)\n",
    "df.head()"
   ]
  },
  {
   "cell_type": "code",
   "execution_count": 4,
   "metadata": {
    "collapsed": false
   },
   "outputs": [
    {
     "name": "stdout",
     "output_type": "stream",
     "text": [
      "1430\n",
      "427\n"
     ]
    }
   ],
   "source": [
    "# how many total venue lat-longs are there, and how many unique lat-longs are there?\n",
    "print len(df['venue_latlng'])\n",
    "\n",
    "venue_latlngs_unique = pd.Series(df['venue_latlng'].unique())\n",
    "print len(venue_latlngs_unique)"
   ]
  },
  {
   "cell_type": "code",
   "execution_count": 5,
   "metadata": {
    "collapsed": false
   },
   "outputs": [],
   "source": [
    "venue_latlngs_unique = venue_latlngs_unique.sort_values()"
   ]
  },
  {
   "cell_type": "code",
   "execution_count": 6,
   "metadata": {
    "collapsed": true
   },
   "outputs": [],
   "source": [
    "# send each unique lat-long to the google timezone api to retrieve the local time zone id at that location\n",
    "def get_timezone_google(latlng, timestamp=0):\n",
    "    time.sleep(pause)\n",
    "    url = u'https://maps.googleapis.com/maps/api/timezone/json?location={}&timestamp={}&key={}'\n",
    "    request = url.format(latlng, timestamp, google_timezone_api_key)\n",
    "    response = requests.get(request)\n",
    "    data = response.json()\n",
    "    try:\n",
    "        return data['timeZoneId']\n",
    "    except:\n",
    "        return None\n",
    "    \n",
    "timezones = venue_latlngs_unique.map(get_timezone_google)"
   ]
  },
  {
   "cell_type": "code",
   "execution_count": 7,
   "metadata": {
    "collapsed": false
   },
   "outputs": [],
   "source": [
    "# create a dict with key of lat-long and value of timezone\n",
    "latlng_timezone = {}\n",
    "for label in timezones.index:\n",
    "    key = venue_latlngs_unique[label]\n",
    "    val = timezones[label]\n",
    "    latlng_timezone[key] = val"
   ]
  },
  {
   "cell_type": "code",
   "execution_count": 8,
   "metadata": {
    "collapsed": true
   },
   "outputs": [],
   "source": [
    "# for each row in the df, look up the lat-long in the dict to get the local timezone\n",
    "def get_timezone_from_dict(venue_latlng):\n",
    "    try:\n",
    "        return latlng_timezone[venue_latlng]\n",
    "    except:\n",
    "        return None\n",
    "\n",
    "df['venue_timezone'] = df['venue_latlng'].map(get_timezone_from_dict)\n",
    "df = df.drop('venue_latlng', axis=1)"
   ]
  },
  {
   "cell_type": "code",
   "execution_count": 16,
   "metadata": {
    "collapsed": false
   },
   "outputs": [],
   "source": [
    "# backfill timezones from the next earlier observation as this is more likely to be accurate\n",
    "# compared to randomly using the default timezone\n",
    "df['venue_timezone'] = df['venue_timezone'].fillna(method='bfill')"
   ]
  },
  {
   "cell_type": "code",
   "execution_count": 17,
   "metadata": {
    "collapsed": true
   },
   "outputs": [],
   "source": [
    "# convert each row's datetime to the local timezone of the venue i checked into\n",
    "def localize_date_time(row):\n",
    "    date_time = row['date_pacific_tz']\n",
    "    local_timezone = row['venue_timezone']\n",
    "    try:\n",
    "        return date_time.astimezone(pytz.timezone(local_timezone))\n",
    "    except:\n",
    "        return None\n",
    "    \n",
    "df['date_local_tz'] = df.apply(localize_date_time, axis=1)"
   ]
  },
  {
   "cell_type": "code",
   "execution_count": 18,
   "metadata": {
    "collapsed": false
   },
   "outputs": [
    {
     "data": {
      "text/html": [
       "<div>\n",
       "<table border=\"1\" class=\"dataframe\">\n",
       "  <thead>\n",
       "    <tr style=\"text-align: right;\">\n",
       "      <th></th>\n",
       "      <th>venue_name</th>\n",
       "      <th>venue_place</th>\n",
       "      <th>venue_timezone</th>\n",
       "      <th>date_pacific_tz</th>\n",
       "      <th>date_local_tz</th>\n",
       "    </tr>\n",
       "  </thead>\n",
       "  <tbody>\n",
       "    <tr>\n",
       "      <th>0</th>\n",
       "      <td>Boeing Manor</td>\n",
       "      <td>Berkeley, CA</td>\n",
       "      <td>America/Los_Angeles</td>\n",
       "      <td>2016-06-09 20:43:09-07:00</td>\n",
       "      <td>2016-06-09 20:43:09-07:00</td>\n",
       "    </tr>\n",
       "    <tr>\n",
       "      <th>1</th>\n",
       "      <td>Golden Monkey</td>\n",
       "      <td>389 Lonsdale St. Melbourne, VIC</td>\n",
       "      <td>Australia/Hobart</td>\n",
       "      <td>2016-06-08 01:45:36-07:00</td>\n",
       "      <td>2016-06-08 18:45:36+10:00</td>\n",
       "    </tr>\n",
       "    <tr>\n",
       "      <th>2</th>\n",
       "      <td>Naked For Satan</td>\n",
       "      <td>285 Brunswick St. Melbourne, VIC</td>\n",
       "      <td>Australia/Hobart</td>\n",
       "      <td>2016-06-07 22:39:59-07:00</td>\n",
       "      <td>2016-06-08 15:39:59+10:00</td>\n",
       "    </tr>\n",
       "    <tr>\n",
       "      <th>3</th>\n",
       "      <td>Town Hall Hotel</td>\n",
       "      <td>166 Johnston St. Fitzroy, VIC</td>\n",
       "      <td>Australia/Hobart</td>\n",
       "      <td>2016-06-07 21:25:57-07:00</td>\n",
       "      <td>2016-06-08 14:25:57+10:00</td>\n",
       "    </tr>\n",
       "    <tr>\n",
       "      <th>4</th>\n",
       "      <td>Bowl Bowl</td>\n",
       "      <td>88 Smith St Fitzroy, VIC</td>\n",
       "      <td>Australia/Hobart</td>\n",
       "      <td>2016-06-07 20:37:02-07:00</td>\n",
       "      <td>2016-06-08 13:37:02+10:00</td>\n",
       "    </tr>\n",
       "    <tr>\n",
       "      <th>5</th>\n",
       "      <td>Nieuw Amsterdam</td>\n",
       "      <td>106-112 Hardware St Melbourne, VIC</td>\n",
       "      <td>Australia/Hobart</td>\n",
       "      <td>2016-06-07 02:49:24-07:00</td>\n",
       "      <td>2016-06-07 19:49:24+10:00</td>\n",
       "    </tr>\n",
       "    <tr>\n",
       "      <th>6</th>\n",
       "      <td>Great Ocean Road Resort</td>\n",
       "      <td>105 Great Ocean Road Anglesea, VIC</td>\n",
       "      <td>Australia/Hobart</td>\n",
       "      <td>2016-06-05 02:41:25-07:00</td>\n",
       "      <td>2016-06-05 19:41:25+10:00</td>\n",
       "    </tr>\n",
       "    <tr>\n",
       "      <th>7</th>\n",
       "      <td>NaN</td>\n",
       "      <td>NaN</td>\n",
       "      <td>Australia/Sydney</td>\n",
       "      <td>2016-06-03 15:22:43-07:00</td>\n",
       "      <td>2016-06-04 08:22:43+10:00</td>\n",
       "    </tr>\n",
       "    <tr>\n",
       "      <th>8</th>\n",
       "      <td>Trinity Bar</td>\n",
       "      <td>505 Crown St. Surry Hills, NSW</td>\n",
       "      <td>Australia/Sydney</td>\n",
       "      <td>2016-06-01 05:00:48-07:00</td>\n",
       "      <td>2016-06-01 22:00:48+10:00</td>\n",
       "    </tr>\n",
       "    <tr>\n",
       "      <th>9</th>\n",
       "      <td>Trinity Bar</td>\n",
       "      <td>505 Crown St. Surry Hills, NSW</td>\n",
       "      <td>Australia/Sydney</td>\n",
       "      <td>2016-06-01 04:11:27-07:00</td>\n",
       "      <td>2016-06-01 21:11:27+10:00</td>\n",
       "    </tr>\n",
       "  </tbody>\n",
       "</table>\n",
       "</div>"
      ],
      "text/plain": [
       "                venue_name                         venue_place  \\\n",
       "0             Boeing Manor                        Berkeley, CA   \n",
       "1            Golden Monkey     389 Lonsdale St. Melbourne, VIC   \n",
       "2          Naked For Satan    285 Brunswick St. Melbourne, VIC   \n",
       "3          Town Hall Hotel       166 Johnston St. Fitzroy, VIC   \n",
       "4                Bowl Bowl            88 Smith St Fitzroy, VIC   \n",
       "5          Nieuw Amsterdam  106-112 Hardware St Melbourne, VIC   \n",
       "6  Great Ocean Road Resort  105 Great Ocean Road Anglesea, VIC   \n",
       "7                      NaN                                 NaN   \n",
       "8              Trinity Bar      505 Crown St. Surry Hills, NSW   \n",
       "9              Trinity Bar      505 Crown St. Surry Hills, NSW   \n",
       "\n",
       "        venue_timezone            date_pacific_tz              date_local_tz  \n",
       "0  America/Los_Angeles  2016-06-09 20:43:09-07:00  2016-06-09 20:43:09-07:00  \n",
       "1     Australia/Hobart  2016-06-08 01:45:36-07:00  2016-06-08 18:45:36+10:00  \n",
       "2     Australia/Hobart  2016-06-07 22:39:59-07:00  2016-06-08 15:39:59+10:00  \n",
       "3     Australia/Hobart  2016-06-07 21:25:57-07:00  2016-06-08 14:25:57+10:00  \n",
       "4     Australia/Hobart  2016-06-07 20:37:02-07:00  2016-06-08 13:37:02+10:00  \n",
       "5     Australia/Hobart  2016-06-07 02:49:24-07:00  2016-06-07 19:49:24+10:00  \n",
       "6     Australia/Hobart  2016-06-05 02:41:25-07:00  2016-06-05 19:41:25+10:00  \n",
       "7     Australia/Sydney  2016-06-03 15:22:43-07:00  2016-06-04 08:22:43+10:00  \n",
       "8     Australia/Sydney  2016-06-01 05:00:48-07:00  2016-06-01 22:00:48+10:00  \n",
       "9     Australia/Sydney  2016-06-01 04:11:27-07:00  2016-06-01 21:11:27+10:00  "
      ]
     },
     "execution_count": 18,
     "metadata": {},
     "output_type": "execute_result"
    }
   ],
   "source": [
    "# look at the first 10 venues and their timezones\n",
    "df[['venue_name', 'venue_place', 'venue_timezone', 'date_pacific_tz', 'date_local_tz']].head(10)"
   ]
  },
  {
   "cell_type": "code",
   "execution_count": 20,
   "metadata": {
    "collapsed": true
   },
   "outputs": [],
   "source": [
    "# save to csv\n",
    "df.to_csv('data/untappd_details_geocoded_timezone.csv', index=False, encoding='utf-8')"
   ]
  },
  {
   "cell_type": "code",
   "execution_count": null,
   "metadata": {
    "collapsed": true
   },
   "outputs": [],
   "source": []
  }
 ],
 "metadata": {
  "kernelspec": {
   "display_name": "Python 2",
   "language": "python",
   "name": "python2"
  },
  "language_info": {
   "codemirror_mode": {
    "name": "ipython",
    "version": 2
   },
   "file_extension": ".py",
   "mimetype": "text/x-python",
   "name": "python",
   "nbconvert_exporter": "python",
   "pygments_lexer": "ipython2",
   "version": "2.7.11"
  }
 },
 "nbformat": 4,
 "nbformat_minor": 0
}
