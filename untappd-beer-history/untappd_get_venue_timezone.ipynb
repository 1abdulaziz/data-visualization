{
 "cells": [
  {
   "cell_type": "markdown",
   "metadata": {},
   "source": [
    "Get the timezone for each venue's lat-long from the Google Maps timezone API: https://developers.google.com/maps/documentation/timezone/intro\n",
    "\n",
    "Then convert each check-in's datetime to the timezone of the venue at which it was checked in."
   ]
  },
  {
   "cell_type": "code",
   "execution_count": 1,
   "metadata": {
    "collapsed": true
   },
   "outputs": [],
   "source": [
    "import time, requests, pytz, pandas as pd\n",
    "from keys import google_timezone_api_key\n",
    "from dateutil import parser as date_parser"
   ]
  },
  {
   "cell_type": "code",
   "execution_count": 2,
   "metadata": {
    "collapsed": true
   },
   "outputs": [],
   "source": [
    "# define pause interval to not hammer their server\n",
    "pause = 0.25"
   ]
  },
  {
   "cell_type": "code",
   "execution_count": 3,
   "metadata": {
    "collapsed": false
   },
   "outputs": [
    {
     "data": {
      "text/html": [
       "<div>\n",
       "<table border=\"1\" class=\"dataframe\">\n",
       "  <thead>\n",
       "    <tr style=\"text-align: right;\">\n",
       "      <th></th>\n",
       "      <th>date_pacific_tz</th>\n",
       "      <th>beer_name</th>\n",
       "      <th>beer_style</th>\n",
       "      <th>brewery_name</th>\n",
       "      <th>brewery_place</th>\n",
       "      <th>brewery_type</th>\n",
       "      <th>rating</th>\n",
       "      <th>beer_avg_rating</th>\n",
       "      <th>brewery_avg_rating</th>\n",
       "      <th>beer_abv</th>\n",
       "      <th>...</th>\n",
       "      <th>venue_lat</th>\n",
       "      <th>venue_lon</th>\n",
       "      <th>venue_total_checkins</th>\n",
       "      <th>checkin_id</th>\n",
       "      <th>beer_url</th>\n",
       "      <th>brewery_url</th>\n",
       "      <th>venue_url</th>\n",
       "      <th>brewery_lat</th>\n",
       "      <th>brewery_lon</th>\n",
       "      <th>venue_latlng</th>\n",
       "    </tr>\n",
       "  </thead>\n",
       "  <tbody>\n",
       "    <tr>\n",
       "      <th>0</th>\n",
       "      <td>2016-06-11 23:14:09-07:00</td>\n",
       "      <td>Liberty Ale</td>\n",
       "      <td>IPA - American</td>\n",
       "      <td>Anchor Brewing Company</td>\n",
       "      <td>San Francisco, CA United States</td>\n",
       "      <td>Micro Brewery</td>\n",
       "      <td>4.00</td>\n",
       "      <td>3.49</td>\n",
       "      <td>3.50</td>\n",
       "      <td>5.9</td>\n",
       "      <td>...</td>\n",
       "      <td>37.8665</td>\n",
       "      <td>-122.282</td>\n",
       "      <td>18.0</td>\n",
       "      <td>322871654</td>\n",
       "      <td>https://untappd.com/b/anchor-brewing-company-l...</td>\n",
       "      <td>https://untappd.com/w/anchor-brewing-company/3891</td>\n",
       "      <td>https://untappd.com/v/chateau-szibbo/2699353</td>\n",
       "      <td>37.774929</td>\n",
       "      <td>-122.419415</td>\n",
       "      <td>37.8665,-122.282</td>\n",
       "    </tr>\n",
       "    <tr>\n",
       "      <th>1</th>\n",
       "      <td>2016-06-11 22:46:58-07:00</td>\n",
       "      <td>Anchor IPA</td>\n",
       "      <td>IPA - American</td>\n",
       "      <td>Anchor Brewing Company</td>\n",
       "      <td>San Francisco, CA United States</td>\n",
       "      <td>Micro Brewery</td>\n",
       "      <td>3.75</td>\n",
       "      <td>3.48</td>\n",
       "      <td>3.50</td>\n",
       "      <td>6.5</td>\n",
       "      <td>...</td>\n",
       "      <td>37.8665</td>\n",
       "      <td>-122.282</td>\n",
       "      <td>18.0</td>\n",
       "      <td>322868109</td>\n",
       "      <td>https://untappd.com/b/anchor-brewing-company-a...</td>\n",
       "      <td>https://untappd.com/w/anchor-brewing-company/3891</td>\n",
       "      <td>https://untappd.com/v/chateau-szibbo/2699353</td>\n",
       "      <td>37.774929</td>\n",
       "      <td>-122.419415</td>\n",
       "      <td>37.8665,-122.282</td>\n",
       "    </tr>\n",
       "    <tr>\n",
       "      <th>2</th>\n",
       "      <td>2016-06-11 21:06:04-07:00</td>\n",
       "      <td>Apocalypse IPA</td>\n",
       "      <td>IPA - American</td>\n",
       "      <td>10 Barrel Brewing Co.</td>\n",
       "      <td>Bend, OR United States</td>\n",
       "      <td>Micro Brewery</td>\n",
       "      <td>4.00</td>\n",
       "      <td>3.78</td>\n",
       "      <td>3.67</td>\n",
       "      <td>6.8</td>\n",
       "      <td>...</td>\n",
       "      <td>37.8665</td>\n",
       "      <td>-122.282</td>\n",
       "      <td>18.0</td>\n",
       "      <td>322842097</td>\n",
       "      <td>https://untappd.com/b/10-barrel-brewing-co-apo...</td>\n",
       "      <td>https://untappd.com/w/10-barrel-brewing-co/3436</td>\n",
       "      <td>https://untappd.com/v/chateau-szibbo/2699353</td>\n",
       "      <td>44.058173</td>\n",
       "      <td>-121.315310</td>\n",
       "      <td>37.8665,-122.282</td>\n",
       "    </tr>\n",
       "    <tr>\n",
       "      <th>3</th>\n",
       "      <td>2016-06-11 21:03:12-07:00</td>\n",
       "      <td>Angel City IPA</td>\n",
       "      <td>IPA - American</td>\n",
       "      <td>Angel City Brewery</td>\n",
       "      <td>Los Angeles, CA United States</td>\n",
       "      <td>Micro Brewery</td>\n",
       "      <td>3.50</td>\n",
       "      <td>3.56</td>\n",
       "      <td>3.47</td>\n",
       "      <td>6.1</td>\n",
       "      <td>...</td>\n",
       "      <td>37.8665</td>\n",
       "      <td>-122.282</td>\n",
       "      <td>18.0</td>\n",
       "      <td>322841026</td>\n",
       "      <td>https://untappd.com/b/angel-city-brewery-angel...</td>\n",
       "      <td>https://untappd.com/w/angel-city-brewery/4406</td>\n",
       "      <td>https://untappd.com/v/chateau-szibbo/2699353</td>\n",
       "      <td>34.052234</td>\n",
       "      <td>-118.243685</td>\n",
       "      <td>37.8665,-122.282</td>\n",
       "    </tr>\n",
       "    <tr>\n",
       "      <th>4</th>\n",
       "      <td>2016-06-11 17:21:37-07:00</td>\n",
       "      <td>Apocalypse IPA</td>\n",
       "      <td>IPA - American</td>\n",
       "      <td>10 Barrel Brewing Co.</td>\n",
       "      <td>Bend, OR United States</td>\n",
       "      <td>Micro Brewery</td>\n",
       "      <td>4.00</td>\n",
       "      <td>3.78</td>\n",
       "      <td>3.67</td>\n",
       "      <td>6.8</td>\n",
       "      <td>...</td>\n",
       "      <td>37.8665</td>\n",
       "      <td>-122.282</td>\n",
       "      <td>18.0</td>\n",
       "      <td>322684843</td>\n",
       "      <td>https://untappd.com/b/10-barrel-brewing-co-apo...</td>\n",
       "      <td>https://untappd.com/w/10-barrel-brewing-co/3436</td>\n",
       "      <td>https://untappd.com/v/chateau-szibbo/2699353</td>\n",
       "      <td>44.058173</td>\n",
       "      <td>-121.315310</td>\n",
       "      <td>37.8665,-122.282</td>\n",
       "    </tr>\n",
       "  </tbody>\n",
       "</table>\n",
       "<p>5 rows × 26 columns</p>\n",
       "</div>"
      ],
      "text/plain": [
       "             date_pacific_tz       beer_name      beer_style  \\\n",
       "0  2016-06-11 23:14:09-07:00     Liberty Ale  IPA - American   \n",
       "1  2016-06-11 22:46:58-07:00      Anchor IPA  IPA - American   \n",
       "2  2016-06-11 21:06:04-07:00  Apocalypse IPA  IPA - American   \n",
       "3  2016-06-11 21:03:12-07:00  Angel City IPA  IPA - American   \n",
       "4  2016-06-11 17:21:37-07:00  Apocalypse IPA  IPA - American   \n",
       "\n",
       "             brewery_name                    brewery_place   brewery_type  \\\n",
       "0  Anchor Brewing Company  San Francisco, CA United States  Micro Brewery   \n",
       "1  Anchor Brewing Company  San Francisco, CA United States  Micro Brewery   \n",
       "2   10 Barrel Brewing Co.           Bend, OR United States  Micro Brewery   \n",
       "3      Angel City Brewery    Los Angeles, CA United States  Micro Brewery   \n",
       "4   10 Barrel Brewing Co.           Bend, OR United States  Micro Brewery   \n",
       "\n",
       "   rating  beer_avg_rating  brewery_avg_rating  beer_abv        ...         \\\n",
       "0    4.00             3.49                3.50       5.9        ...          \n",
       "1    3.75             3.48                3.50       6.5        ...          \n",
       "2    4.00             3.78                3.67       6.8        ...          \n",
       "3    3.50             3.56                3.47       6.1        ...          \n",
       "4    4.00             3.78                3.67       6.8        ...          \n",
       "\n",
       "   venue_lat  venue_lon  venue_total_checkins checkin_id  \\\n",
       "0    37.8665   -122.282                  18.0  322871654   \n",
       "1    37.8665   -122.282                  18.0  322868109   \n",
       "2    37.8665   -122.282                  18.0  322842097   \n",
       "3    37.8665   -122.282                  18.0  322841026   \n",
       "4    37.8665   -122.282                  18.0  322684843   \n",
       "\n",
       "                                            beer_url  \\\n",
       "0  https://untappd.com/b/anchor-brewing-company-l...   \n",
       "1  https://untappd.com/b/anchor-brewing-company-a...   \n",
       "2  https://untappd.com/b/10-barrel-brewing-co-apo...   \n",
       "3  https://untappd.com/b/angel-city-brewery-angel...   \n",
       "4  https://untappd.com/b/10-barrel-brewing-co-apo...   \n",
       "\n",
       "                                         brewery_url  \\\n",
       "0  https://untappd.com/w/anchor-brewing-company/3891   \n",
       "1  https://untappd.com/w/anchor-brewing-company/3891   \n",
       "2    https://untappd.com/w/10-barrel-brewing-co/3436   \n",
       "3      https://untappd.com/w/angel-city-brewery/4406   \n",
       "4    https://untappd.com/w/10-barrel-brewing-co/3436   \n",
       "\n",
       "                                      venue_url  brewery_lat  brewery_lon  \\\n",
       "0  https://untappd.com/v/chateau-szibbo/2699353    37.774929  -122.419415   \n",
       "1  https://untappd.com/v/chateau-szibbo/2699353    37.774929  -122.419415   \n",
       "2  https://untappd.com/v/chateau-szibbo/2699353    44.058173  -121.315310   \n",
       "3  https://untappd.com/v/chateau-szibbo/2699353    34.052234  -118.243685   \n",
       "4  https://untappd.com/v/chateau-szibbo/2699353    44.058173  -121.315310   \n",
       "\n",
       "       venue_latlng  \n",
       "0  37.8665,-122.282  \n",
       "1  37.8665,-122.282  \n",
       "2  37.8665,-122.282  \n",
       "3  37.8665,-122.282  \n",
       "4  37.8665,-122.282  \n",
       "\n",
       "[5 rows x 26 columns]"
      ]
     },
     "execution_count": 3,
     "metadata": {},
     "output_type": "execute_result"
    }
   ],
   "source": [
    "# load the data, parse datetime string to datetime object, and combine lat-long into single column\n",
    "df = pd.read_csv('data/untappd_details_geocoded.csv', encoding='utf-8')\n",
    "df['date_pacific_tz'] = df['date_pacific_tz'].map(lambda x: date_parser.parse(x))\n",
    "df['venue_latlng'] = df.apply(lambda row: '{},{}'.format(row['venue_lat'], row['venue_lon']), axis=1)\n",
    "df.head()"
   ]
  },
  {
   "cell_type": "code",
   "execution_count": 4,
   "metadata": {
    "collapsed": false
   },
   "outputs": [
    {
     "name": "stdout",
     "output_type": "stream",
     "text": [
      "1435\n",
      "427\n"
     ]
    }
   ],
   "source": [
    "# how many total venue lat-longs are there, and how many unique lat-longs are there?\n",
    "print len(df['venue_latlng'])\n",
    "\n",
    "venue_latlngs_unique = pd.Series(df['venue_latlng'].unique())\n",
    "print len(venue_latlngs_unique)"
   ]
  },
  {
   "cell_type": "code",
   "execution_count": 5,
   "metadata": {
    "collapsed": false
   },
   "outputs": [],
   "source": [
    "venue_latlngs_unique = venue_latlngs_unique.sort_values()"
   ]
  },
  {
   "cell_type": "code",
   "execution_count": 6,
   "metadata": {
    "collapsed": true
   },
   "outputs": [],
   "source": [
    "# send each unique lat-long to the google timezone api to retrieve the local time zone id at that location\n",
    "def get_timezone_google(latlng, timestamp=0):\n",
    "    time.sleep(pause)\n",
    "    url = u'https://maps.googleapis.com/maps/api/timezone/json?location={}&timestamp={}&key={}'\n",
    "    request = url.format(latlng, timestamp, google_timezone_api_key)\n",
    "    response = requests.get(request)\n",
    "    data = response.json()\n",
    "    try:\n",
    "        return data['timeZoneId']\n",
    "    except:\n",
    "        return None\n",
    "    \n",
    "timezones = venue_latlngs_unique.map(get_timezone_google)"
   ]
  },
  {
   "cell_type": "code",
   "execution_count": 7,
   "metadata": {
    "collapsed": false
   },
   "outputs": [],
   "source": [
    "# create a dict with key of lat-long and value of timezone\n",
    "latlng_timezone = {}\n",
    "for label in timezones.index:\n",
    "    key = venue_latlngs_unique[label]\n",
    "    val = timezones[label]\n",
    "    latlng_timezone[key] = val"
   ]
  },
  {
   "cell_type": "code",
   "execution_count": 8,
   "metadata": {
    "collapsed": true
   },
   "outputs": [],
   "source": [
    "# for each row in the df, look up the lat-long in the dict to get the local timezone\n",
    "def get_timezone_from_dict(venue_latlng):\n",
    "    try:\n",
    "        return latlng_timezone[venue_latlng]\n",
    "    except:\n",
    "        return None\n",
    "\n",
    "df['venue_timezone'] = df['venue_latlng'].map(get_timezone_from_dict)\n",
    "df = df.drop('venue_latlng', axis=1)"
   ]
  },
  {
   "cell_type": "code",
   "execution_count": 9,
   "metadata": {
    "collapsed": false
   },
   "outputs": [],
   "source": [
    "# backfill timezones from the next earlier observation as this is more likely to be accurate\n",
    "# compared to randomly using the default timezone\n",
    "df['venue_timezone'] = df['venue_timezone'].fillna(method='bfill')"
   ]
  },
  {
   "cell_type": "code",
   "execution_count": 10,
   "metadata": {
    "collapsed": true
   },
   "outputs": [],
   "source": [
    "# convert each row's datetime to the local timezone of the venue i checked into\n",
    "def localize_date_time(row):\n",
    "    date_time = row['date_pacific_tz']\n",
    "    local_timezone = row['venue_timezone']\n",
    "    try:\n",
    "        return date_time.astimezone(pytz.timezone(local_timezone))\n",
    "    except:\n",
    "        return None\n",
    "    \n",
    "df['date_local_tz'] = df.apply(localize_date_time, axis=1)"
   ]
  },
  {
   "cell_type": "code",
   "execution_count": 11,
   "metadata": {
    "collapsed": false
   },
   "outputs": [
    {
     "data": {
      "text/html": [
       "<div>\n",
       "<table border=\"1\" class=\"dataframe\">\n",
       "  <thead>\n",
       "    <tr style=\"text-align: right;\">\n",
       "      <th></th>\n",
       "      <th>venue_name</th>\n",
       "      <th>venue_place</th>\n",
       "      <th>venue_timezone</th>\n",
       "      <th>date_pacific_tz</th>\n",
       "      <th>date_local_tz</th>\n",
       "    </tr>\n",
       "  </thead>\n",
       "  <tbody>\n",
       "    <tr>\n",
       "      <th>0</th>\n",
       "      <td>Chateau Szibbo</td>\n",
       "      <td>Berkeley, CA</td>\n",
       "      <td>America/Los_Angeles</td>\n",
       "      <td>2016-06-11 23:14:09-07:00</td>\n",
       "      <td>2016-06-11 23:14:09-07:00</td>\n",
       "    </tr>\n",
       "    <tr>\n",
       "      <th>1</th>\n",
       "      <td>Chateau Szibbo</td>\n",
       "      <td>Berkeley, CA</td>\n",
       "      <td>America/Los_Angeles</td>\n",
       "      <td>2016-06-11 22:46:58-07:00</td>\n",
       "      <td>2016-06-11 22:46:58-07:00</td>\n",
       "    </tr>\n",
       "    <tr>\n",
       "      <th>2</th>\n",
       "      <td>Chateau Szibbo</td>\n",
       "      <td>Berkeley, CA</td>\n",
       "      <td>America/Los_Angeles</td>\n",
       "      <td>2016-06-11 21:06:04-07:00</td>\n",
       "      <td>2016-06-11 21:06:04-07:00</td>\n",
       "    </tr>\n",
       "    <tr>\n",
       "      <th>3</th>\n",
       "      <td>Chateau Szibbo</td>\n",
       "      <td>Berkeley, CA</td>\n",
       "      <td>America/Los_Angeles</td>\n",
       "      <td>2016-06-11 21:03:12-07:00</td>\n",
       "      <td>2016-06-11 21:03:12-07:00</td>\n",
       "    </tr>\n",
       "    <tr>\n",
       "      <th>4</th>\n",
       "      <td>Chateau Szibbo</td>\n",
       "      <td>Berkeley, CA</td>\n",
       "      <td>America/Los_Angeles</td>\n",
       "      <td>2016-06-11 17:21:37-07:00</td>\n",
       "      <td>2016-06-11 17:21:37-07:00</td>\n",
       "    </tr>\n",
       "    <tr>\n",
       "      <th>5</th>\n",
       "      <td>Boeing Manor</td>\n",
       "      <td>Berkeley, CA</td>\n",
       "      <td>America/Los_Angeles</td>\n",
       "      <td>2016-06-09 20:43:09-07:00</td>\n",
       "      <td>2016-06-09 20:43:09-07:00</td>\n",
       "    </tr>\n",
       "    <tr>\n",
       "      <th>6</th>\n",
       "      <td>Golden Monkey</td>\n",
       "      <td>389 Lonsdale St. Melbourne, VIC</td>\n",
       "      <td>Australia/Hobart</td>\n",
       "      <td>2016-06-08 01:45:36-07:00</td>\n",
       "      <td>2016-06-08 18:45:36+10:00</td>\n",
       "    </tr>\n",
       "    <tr>\n",
       "      <th>7</th>\n",
       "      <td>Naked For Satan</td>\n",
       "      <td>285 Brunswick St. Melbourne, VIC</td>\n",
       "      <td>Australia/Hobart</td>\n",
       "      <td>2016-06-07 22:39:59-07:00</td>\n",
       "      <td>2016-06-08 15:39:59+10:00</td>\n",
       "    </tr>\n",
       "    <tr>\n",
       "      <th>8</th>\n",
       "      <td>Town Hall Hotel</td>\n",
       "      <td>166 Johnston St. Fitzroy, VIC</td>\n",
       "      <td>Australia/Hobart</td>\n",
       "      <td>2016-06-07 21:25:57-07:00</td>\n",
       "      <td>2016-06-08 14:25:57+10:00</td>\n",
       "    </tr>\n",
       "    <tr>\n",
       "      <th>9</th>\n",
       "      <td>Bowl Bowl</td>\n",
       "      <td>88 Smith St Fitzroy, VIC</td>\n",
       "      <td>Australia/Hobart</td>\n",
       "      <td>2016-06-07 20:37:02-07:00</td>\n",
       "      <td>2016-06-08 13:37:02+10:00</td>\n",
       "    </tr>\n",
       "  </tbody>\n",
       "</table>\n",
       "</div>"
      ],
      "text/plain": [
       "        venue_name                       venue_place       venue_timezone  \\\n",
       "0   Chateau Szibbo                      Berkeley, CA  America/Los_Angeles   \n",
       "1   Chateau Szibbo                      Berkeley, CA  America/Los_Angeles   \n",
       "2   Chateau Szibbo                      Berkeley, CA  America/Los_Angeles   \n",
       "3   Chateau Szibbo                      Berkeley, CA  America/Los_Angeles   \n",
       "4   Chateau Szibbo                      Berkeley, CA  America/Los_Angeles   \n",
       "5     Boeing Manor                      Berkeley, CA  America/Los_Angeles   \n",
       "6    Golden Monkey   389 Lonsdale St. Melbourne, VIC     Australia/Hobart   \n",
       "7  Naked For Satan  285 Brunswick St. Melbourne, VIC     Australia/Hobart   \n",
       "8  Town Hall Hotel     166 Johnston St. Fitzroy, VIC     Australia/Hobart   \n",
       "9        Bowl Bowl          88 Smith St Fitzroy, VIC     Australia/Hobart   \n",
       "\n",
       "             date_pacific_tz              date_local_tz  \n",
       "0  2016-06-11 23:14:09-07:00  2016-06-11 23:14:09-07:00  \n",
       "1  2016-06-11 22:46:58-07:00  2016-06-11 22:46:58-07:00  \n",
       "2  2016-06-11 21:06:04-07:00  2016-06-11 21:06:04-07:00  \n",
       "3  2016-06-11 21:03:12-07:00  2016-06-11 21:03:12-07:00  \n",
       "4  2016-06-11 17:21:37-07:00  2016-06-11 17:21:37-07:00  \n",
       "5  2016-06-09 20:43:09-07:00  2016-06-09 20:43:09-07:00  \n",
       "6  2016-06-08 01:45:36-07:00  2016-06-08 18:45:36+10:00  \n",
       "7  2016-06-07 22:39:59-07:00  2016-06-08 15:39:59+10:00  \n",
       "8  2016-06-07 21:25:57-07:00  2016-06-08 14:25:57+10:00  \n",
       "9  2016-06-07 20:37:02-07:00  2016-06-08 13:37:02+10:00  "
      ]
     },
     "execution_count": 11,
     "metadata": {},
     "output_type": "execute_result"
    }
   ],
   "source": [
    "# look at the first 10 venues and their timezones\n",
    "df[['venue_name', 'venue_place', 'venue_timezone', 'date_pacific_tz', 'date_local_tz']].head(10)"
   ]
  },
  {
   "cell_type": "code",
   "execution_count": 12,
   "metadata": {
    "collapsed": true
   },
   "outputs": [],
   "source": [
    "# save to csv\n",
    "df.to_csv('data/untappd_details_geocoded_timezone.csv', index=False, encoding='utf-8')"
   ]
  },
  {
   "cell_type": "code",
   "execution_count": null,
   "metadata": {
    "collapsed": true
   },
   "outputs": [],
   "source": []
  }
 ],
 "metadata": {
  "kernelspec": {
   "display_name": "Python 2",
   "language": "python",
   "name": "python2"
  },
  "language_info": {
   "codemirror_mode": {
    "name": "ipython",
    "version": 2
   },
   "file_extension": ".py",
   "mimetype": "text/x-python",
   "name": "python",
   "nbconvert_exporter": "python",
   "pygments_lexer": "ipython2",
   "version": "2.7.11"
  }
 },
 "nbformat": 4,
 "nbformat_minor": 0
}
