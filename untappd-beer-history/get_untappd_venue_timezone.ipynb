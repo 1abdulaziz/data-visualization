{
 "cells": [
  {
   "cell_type": "markdown",
   "metadata": {},
   "source": [
    "# Part 4: Get Untappd Check-In Venue Time Zones\n",
    "\n",
    "Get the timezone for each venue's lat-long from the Google Maps timezone API: https://developers.google.com/maps/documentation/timezone/intro\n",
    "\n",
    "Then convert each check-in's datetime to the timezone of the venue at which it was checked in."
   ]
  },
  {
   "cell_type": "code",
   "execution_count": 1,
   "metadata": {
    "collapsed": true
   },
   "outputs": [],
   "source": [
    "import time, requests, pytz, pandas as pd\n",
    "from keys import google_timezone_api_key\n",
    "from dateutil import parser as date_parser"
   ]
  },
  {
   "cell_type": "code",
   "execution_count": 2,
   "metadata": {
    "collapsed": true
   },
   "outputs": [],
   "source": [
    "# define pause interval to not hammer their server\n",
    "pause = 0.25"
   ]
  },
  {
   "cell_type": "code",
   "execution_count": 3,
   "metadata": {
    "collapsed": false
   },
   "outputs": [
    {
     "data": {
      "text/html": [
       "<div>\n",
       "<table border=\"1\" class=\"dataframe\">\n",
       "  <thead>\n",
       "    <tr style=\"text-align: right;\">\n",
       "      <th></th>\n",
       "      <th>date_pacific_tz</th>\n",
       "      <th>beer_name</th>\n",
       "      <th>beer_style</th>\n",
       "      <th>brewery_name</th>\n",
       "      <th>brewery_place</th>\n",
       "      <th>brewery_type</th>\n",
       "      <th>rating</th>\n",
       "      <th>beer_avg_rating</th>\n",
       "      <th>brewery_avg_rating</th>\n",
       "      <th>beer_abv</th>\n",
       "      <th>...</th>\n",
       "      <th>venue_lat</th>\n",
       "      <th>venue_lon</th>\n",
       "      <th>venue_total_checkins</th>\n",
       "      <th>checkin_id</th>\n",
       "      <th>beer_url</th>\n",
       "      <th>brewery_url</th>\n",
       "      <th>venue_url</th>\n",
       "      <th>brewery_lat</th>\n",
       "      <th>brewery_lon</th>\n",
       "      <th>venue_latlng</th>\n",
       "    </tr>\n",
       "  </thead>\n",
       "  <tbody>\n",
       "    <tr>\n",
       "      <th>0</th>\n",
       "      <td>2016-07-04 18:59:34-07:00</td>\n",
       "      <td>McRed</td>\n",
       "      <td>Red Ale - American Amber / Red</td>\n",
       "      <td>Humboldt Regeneration</td>\n",
       "      <td>McKinleyville, CA United States</td>\n",
       "      <td>Nano Brewery</td>\n",
       "      <td>3.75</td>\n",
       "      <td>3.25</td>\n",
       "      <td>3.77</td>\n",
       "      <td>5.4</td>\n",
       "      <td>...</td>\n",
       "      <td>NaN</td>\n",
       "      <td>NaN</td>\n",
       "      <td>NaN</td>\n",
       "      <td>332182456</td>\n",
       "      <td>https://untappd.com/b/humboldt-regeneration-mc...</td>\n",
       "      <td>https://untappd.com/w/humboldt-regeneration/49462</td>\n",
       "      <td>NaN</td>\n",
       "      <td>40.946515</td>\n",
       "      <td>-124.100621</td>\n",
       "      <td>nan,nan</td>\n",
       "    </tr>\n",
       "    <tr>\n",
       "      <th>1</th>\n",
       "      <td>2016-07-03 19:00:03-07:00</td>\n",
       "      <td>Earth Thirst</td>\n",
       "      <td>IPA - Imperial / Double</td>\n",
       "      <td>Eel River Brewing Co.</td>\n",
       "      <td>Fortuna, CA United States</td>\n",
       "      <td>Micro Brewery</td>\n",
       "      <td>2.50</td>\n",
       "      <td>3.68</td>\n",
       "      <td>3.56</td>\n",
       "      <td>8.2</td>\n",
       "      <td>...</td>\n",
       "      <td>40.5793</td>\n",
       "      <td>-124.153</td>\n",
       "      <td>3649.0</td>\n",
       "      <td>331728849</td>\n",
       "      <td>https://untappd.com/b/eel-river-brewing-co-ear...</td>\n",
       "      <td>https://untappd.com/w/eel-river-brewing-co/481</td>\n",
       "      <td>https://untappd.com/v/eel-river-brewing-compan...</td>\n",
       "      <td>40.598187</td>\n",
       "      <td>-124.157276</td>\n",
       "      <td>40.5793,-124.153</td>\n",
       "    </tr>\n",
       "    <tr>\n",
       "      <th>2</th>\n",
       "      <td>2016-07-03 18:58:48-07:00</td>\n",
       "      <td>Organic Amber Ale</td>\n",
       "      <td>Red Ale - American Amber / Red</td>\n",
       "      <td>Eel River Brewing Co.</td>\n",
       "      <td>Fortuna, CA United States</td>\n",
       "      <td>Micro Brewery</td>\n",
       "      <td>2.50</td>\n",
       "      <td>3.36</td>\n",
       "      <td>3.56</td>\n",
       "      <td>4.8</td>\n",
       "      <td>...</td>\n",
       "      <td>40.5793</td>\n",
       "      <td>-124.153</td>\n",
       "      <td>3649.0</td>\n",
       "      <td>331728103</td>\n",
       "      <td>https://untappd.com/b/eel-river-brewing-co-org...</td>\n",
       "      <td>https://untappd.com/w/eel-river-brewing-co/481</td>\n",
       "      <td>https://untappd.com/v/eel-river-brewing-compan...</td>\n",
       "      <td>40.598187</td>\n",
       "      <td>-124.157276</td>\n",
       "      <td>40.5793,-124.153</td>\n",
       "    </tr>\n",
       "    <tr>\n",
       "      <th>3</th>\n",
       "      <td>2016-07-03 18:04:39-07:00</td>\n",
       "      <td>Emerald Triangle IPA</td>\n",
       "      <td>IPA - American</td>\n",
       "      <td>Eel River Brewing Co.</td>\n",
       "      <td>Fortuna, CA United States</td>\n",
       "      <td>Micro Brewery</td>\n",
       "      <td>4.00</td>\n",
       "      <td>3.56</td>\n",
       "      <td>3.56</td>\n",
       "      <td>6.7</td>\n",
       "      <td>...</td>\n",
       "      <td>40.5793</td>\n",
       "      <td>-124.153</td>\n",
       "      <td>3649.0</td>\n",
       "      <td>331692205</td>\n",
       "      <td>https://untappd.com/b/eel-river-brewing-co-eme...</td>\n",
       "      <td>https://untappd.com/w/eel-river-brewing-co/481</td>\n",
       "      <td>https://untappd.com/v/eel-river-brewing-compan...</td>\n",
       "      <td>40.598187</td>\n",
       "      <td>-124.157276</td>\n",
       "      <td>40.5793,-124.153</td>\n",
       "    </tr>\n",
       "    <tr>\n",
       "      <th>4</th>\n",
       "      <td>2016-07-03 18:03:50-07:00</td>\n",
       "      <td>Blonde Ale</td>\n",
       "      <td>Blonde Ale</td>\n",
       "      <td>Eelriver Brewing Company</td>\n",
       "      <td>United States</td>\n",
       "      <td>Macro Brewery</td>\n",
       "      <td>3.50</td>\n",
       "      <td>3.54</td>\n",
       "      <td>3.59</td>\n",
       "      <td>5.8</td>\n",
       "      <td>...</td>\n",
       "      <td>40.5793</td>\n",
       "      <td>-124.153</td>\n",
       "      <td>3649.0</td>\n",
       "      <td>331691575</td>\n",
       "      <td>https://untappd.com/b/eelriver-brewing-company...</td>\n",
       "      <td>https://untappd.com/w/eelriver-brewing-company...</td>\n",
       "      <td>https://untappd.com/v/eel-river-brewing-compan...</td>\n",
       "      <td>37.090240</td>\n",
       "      <td>-95.712891</td>\n",
       "      <td>40.5793,-124.153</td>\n",
       "    </tr>\n",
       "  </tbody>\n",
       "</table>\n",
       "<p>5 rows × 26 columns</p>\n",
       "</div>"
      ],
      "text/plain": [
       "             date_pacific_tz             beer_name  \\\n",
       "0  2016-07-04 18:59:34-07:00                 McRed   \n",
       "1  2016-07-03 19:00:03-07:00          Earth Thirst   \n",
       "2  2016-07-03 18:58:48-07:00     Organic Amber Ale   \n",
       "3  2016-07-03 18:04:39-07:00  Emerald Triangle IPA   \n",
       "4  2016-07-03 18:03:50-07:00            Blonde Ale   \n",
       "\n",
       "                       beer_style              brewery_name  \\\n",
       "0  Red Ale - American Amber / Red     Humboldt Regeneration   \n",
       "1         IPA - Imperial / Double     Eel River Brewing Co.   \n",
       "2  Red Ale - American Amber / Red     Eel River Brewing Co.   \n",
       "3                  IPA - American     Eel River Brewing Co.   \n",
       "4                      Blonde Ale  Eelriver Brewing Company   \n",
       "\n",
       "                     brewery_place   brewery_type  rating  beer_avg_rating  \\\n",
       "0  McKinleyville, CA United States   Nano Brewery    3.75             3.25   \n",
       "1        Fortuna, CA United States  Micro Brewery    2.50             3.68   \n",
       "2        Fortuna, CA United States  Micro Brewery    2.50             3.36   \n",
       "3        Fortuna, CA United States  Micro Brewery    4.00             3.56   \n",
       "4                    United States  Macro Brewery    3.50             3.54   \n",
       "\n",
       "   brewery_avg_rating  beer_abv        ...         venue_lat  venue_lon  \\\n",
       "0                3.77       5.4        ...               NaN        NaN   \n",
       "1                3.56       8.2        ...           40.5793   -124.153   \n",
       "2                3.56       4.8        ...           40.5793   -124.153   \n",
       "3                3.56       6.7        ...           40.5793   -124.153   \n",
       "4                3.59       5.8        ...           40.5793   -124.153   \n",
       "\n",
       "   venue_total_checkins checkin_id  \\\n",
       "0                   NaN  332182456   \n",
       "1                3649.0  331728849   \n",
       "2                3649.0  331728103   \n",
       "3                3649.0  331692205   \n",
       "4                3649.0  331691575   \n",
       "\n",
       "                                            beer_url  \\\n",
       "0  https://untappd.com/b/humboldt-regeneration-mc...   \n",
       "1  https://untappd.com/b/eel-river-brewing-co-ear...   \n",
       "2  https://untappd.com/b/eel-river-brewing-co-org...   \n",
       "3  https://untappd.com/b/eel-river-brewing-co-eme...   \n",
       "4  https://untappd.com/b/eelriver-brewing-company...   \n",
       "\n",
       "                                         brewery_url  \\\n",
       "0  https://untappd.com/w/humboldt-regeneration/49462   \n",
       "1     https://untappd.com/w/eel-river-brewing-co/481   \n",
       "2     https://untappd.com/w/eel-river-brewing-co/481   \n",
       "3     https://untappd.com/w/eel-river-brewing-co/481   \n",
       "4  https://untappd.com/w/eelriver-brewing-company...   \n",
       "\n",
       "                                           venue_url  brewery_lat  \\\n",
       "0                                                NaN    40.946515   \n",
       "1  https://untappd.com/v/eel-river-brewing-compan...    40.598187   \n",
       "2  https://untappd.com/v/eel-river-brewing-compan...    40.598187   \n",
       "3  https://untappd.com/v/eel-river-brewing-compan...    40.598187   \n",
       "4  https://untappd.com/v/eel-river-brewing-compan...    37.090240   \n",
       "\n",
       "   brewery_lon      venue_latlng  \n",
       "0  -124.100621           nan,nan  \n",
       "1  -124.157276  40.5793,-124.153  \n",
       "2  -124.157276  40.5793,-124.153  \n",
       "3  -124.157276  40.5793,-124.153  \n",
       "4   -95.712891  40.5793,-124.153  \n",
       "\n",
       "[5 rows x 26 columns]"
      ]
     },
     "execution_count": 3,
     "metadata": {},
     "output_type": "execute_result"
    }
   ],
   "source": [
    "# load the data, parse datetime string to datetime object, and combine lat-long into single column\n",
    "df = pd.read_csv('data/untappd_details_geocoded.csv', encoding='utf-8')\n",
    "df['date_pacific_tz'] = df['date_pacific_tz'].map(lambda x: date_parser.parse(x))\n",
    "df['venue_latlng'] = df.apply(lambda row: '{},{}'.format(row['venue_lat'], row['venue_lon']), axis=1)\n",
    "df.head()"
   ]
  },
  {
   "cell_type": "code",
   "execution_count": 4,
   "metadata": {
    "collapsed": false
   },
   "outputs": [
    {
     "name": "stdout",
     "output_type": "stream",
     "text": [
      "1480\n",
      "439\n"
     ]
    }
   ],
   "source": [
    "# how many total venue lat-longs are there, and how many unique lat-longs are there?\n",
    "print(len(df['venue_latlng']))\n",
    "\n",
    "venue_latlngs_unique = pd.Series(df['venue_latlng'].unique())\n",
    "print(len(venue_latlngs_unique))"
   ]
  },
  {
   "cell_type": "code",
   "execution_count": 5,
   "metadata": {
    "collapsed": false
   },
   "outputs": [],
   "source": [
    "venue_latlngs_unique = venue_latlngs_unique.sort_values()"
   ]
  },
  {
   "cell_type": "code",
   "execution_count": 6,
   "metadata": {
    "collapsed": true
   },
   "outputs": [],
   "source": [
    "# send each unique lat-long to the google timezone api to retrieve the local time zone id at that location\n",
    "def get_timezone_google(latlng, timestamp=0):\n",
    "    time.sleep(pause)\n",
    "    url = 'https://maps.googleapis.com/maps/api/timezone/json?location={}&timestamp={}&key={}'\n",
    "    request = url.format(latlng, timestamp, google_timezone_api_key)\n",
    "    response = requests.get(request)\n",
    "    data = response.json()\n",
    "    try:\n",
    "        return data['timeZoneId']\n",
    "    except:\n",
    "        return None\n",
    "    \n",
    "timezones = venue_latlngs_unique.map(get_timezone_google)"
   ]
  },
  {
   "cell_type": "code",
   "execution_count": 7,
   "metadata": {
    "collapsed": false
   },
   "outputs": [],
   "source": [
    "# create a dict with key of lat-long and value of timezone\n",
    "latlng_timezone = {}\n",
    "for label in timezones.index:\n",
    "    key = venue_latlngs_unique[label]\n",
    "    val = timezones[label]\n",
    "    latlng_timezone[key] = val"
   ]
  },
  {
   "cell_type": "code",
   "execution_count": 8,
   "metadata": {
    "collapsed": true
   },
   "outputs": [],
   "source": [
    "# for each row in the df, look up the lat-long in the dict to get the local timezone\n",
    "def get_timezone_from_dict(venue_latlng):\n",
    "    try:\n",
    "        return latlng_timezone[venue_latlng]\n",
    "    except:\n",
    "        return None\n",
    "\n",
    "df['venue_timezone'] = df['venue_latlng'].map(get_timezone_from_dict)\n",
    "df = df.drop('venue_latlng', axis=1)"
   ]
  },
  {
   "cell_type": "code",
   "execution_count": 9,
   "metadata": {
    "collapsed": false
   },
   "outputs": [],
   "source": [
    "# backfill timezones from the next earlier observation as this is more likely to be accurate...\n",
    "# ...than randomly using the default timezone\n",
    "df['venue_timezone'] = df['venue_timezone'].fillna(method='bfill')"
   ]
  },
  {
   "cell_type": "code",
   "execution_count": 10,
   "metadata": {
    "collapsed": true
   },
   "outputs": [],
   "source": [
    "# convert each row's datetime to the local timezone of the venue i checked into\n",
    "def localize_date_time(row):\n",
    "    date_time = row['date_pacific_tz']\n",
    "    local_timezone = row['venue_timezone']\n",
    "    try:\n",
    "        return date_time.astimezone(pytz.timezone(local_timezone))\n",
    "    except:\n",
    "        return None\n",
    "    \n",
    "df['date_local_tz'] = df.apply(localize_date_time, axis=1)"
   ]
  },
  {
   "cell_type": "code",
   "execution_count": 11,
   "metadata": {
    "collapsed": false
   },
   "outputs": [
    {
     "data": {
      "text/html": [
       "<div>\n",
       "<table border=\"1\" class=\"dataframe\">\n",
       "  <thead>\n",
       "    <tr style=\"text-align: right;\">\n",
       "      <th></th>\n",
       "      <th>venue_name</th>\n",
       "      <th>venue_place</th>\n",
       "      <th>venue_timezone</th>\n",
       "      <th>date_pacific_tz</th>\n",
       "      <th>date_local_tz</th>\n",
       "    </tr>\n",
       "  </thead>\n",
       "  <tbody>\n",
       "    <tr>\n",
       "      <th>0</th>\n",
       "      <td>NaN</td>\n",
       "      <td>NaN</td>\n",
       "      <td>America/Los_Angeles</td>\n",
       "      <td>2016-07-04 18:59:34-07:00</td>\n",
       "      <td>2016-07-04 18:59:34-07:00</td>\n",
       "    </tr>\n",
       "    <tr>\n",
       "      <th>1</th>\n",
       "      <td>Eel River Brewing Company</td>\n",
       "      <td>NaN</td>\n",
       "      <td>America/Los_Angeles</td>\n",
       "      <td>2016-07-03 19:00:03-07:00</td>\n",
       "      <td>2016-07-03 19:00:03-07:00</td>\n",
       "    </tr>\n",
       "    <tr>\n",
       "      <th>2</th>\n",
       "      <td>Eel River Brewing Company</td>\n",
       "      <td>NaN</td>\n",
       "      <td>America/Los_Angeles</td>\n",
       "      <td>2016-07-03 18:58:48-07:00</td>\n",
       "      <td>2016-07-03 18:58:48-07:00</td>\n",
       "    </tr>\n",
       "    <tr>\n",
       "      <th>3</th>\n",
       "      <td>Eel River Brewing Company</td>\n",
       "      <td>NaN</td>\n",
       "      <td>America/Los_Angeles</td>\n",
       "      <td>2016-07-03 18:04:39-07:00</td>\n",
       "      <td>2016-07-03 18:04:39-07:00</td>\n",
       "    </tr>\n",
       "    <tr>\n",
       "      <th>4</th>\n",
       "      <td>Eel River Brewing Company</td>\n",
       "      <td>NaN</td>\n",
       "      <td>America/Los_Angeles</td>\n",
       "      <td>2016-07-03 18:03:50-07:00</td>\n",
       "      <td>2016-07-03 18:03:50-07:00</td>\n",
       "    </tr>\n",
       "    <tr>\n",
       "      <th>5</th>\n",
       "      <td>Eel River Brewing Company</td>\n",
       "      <td>NaN</td>\n",
       "      <td>America/Los_Angeles</td>\n",
       "      <td>2016-07-03 17:49:15-07:00</td>\n",
       "      <td>2016-07-03 17:49:15-07:00</td>\n",
       "    </tr>\n",
       "    <tr>\n",
       "      <th>6</th>\n",
       "      <td>Eel River Brewing Company</td>\n",
       "      <td>NaN</td>\n",
       "      <td>America/Los_Angeles</td>\n",
       "      <td>2016-07-03 17:44:47-07:00</td>\n",
       "      <td>2016-07-03 17:44:47-07:00</td>\n",
       "    </tr>\n",
       "    <tr>\n",
       "      <th>7</th>\n",
       "      <td>Six Rivers Brewery</td>\n",
       "      <td>NaN</td>\n",
       "      <td>America/Los_Angeles</td>\n",
       "      <td>2016-07-03 16:07:21-07:00</td>\n",
       "      <td>2016-07-03 16:07:21-07:00</td>\n",
       "    </tr>\n",
       "    <tr>\n",
       "      <th>8</th>\n",
       "      <td>Humboldt Regeneration Brewery &amp; Farm</td>\n",
       "      <td>NaN</td>\n",
       "      <td>America/Los_Angeles</td>\n",
       "      <td>2016-07-03 15:33:19-07:00</td>\n",
       "      <td>2016-07-03 15:33:19-07:00</td>\n",
       "    </tr>\n",
       "    <tr>\n",
       "      <th>9</th>\n",
       "      <td>Humboldt Regeneration Brewery &amp; Farm</td>\n",
       "      <td>NaN</td>\n",
       "      <td>America/Los_Angeles</td>\n",
       "      <td>2016-07-03 15:25:04-07:00</td>\n",
       "      <td>2016-07-03 15:25:04-07:00</td>\n",
       "    </tr>\n",
       "  </tbody>\n",
       "</table>\n",
       "</div>"
      ],
      "text/plain": [
       "                             venue_name  venue_place       venue_timezone  \\\n",
       "0                                   NaN          NaN  America/Los_Angeles   \n",
       "1             Eel River Brewing Company          NaN  America/Los_Angeles   \n",
       "2             Eel River Brewing Company          NaN  America/Los_Angeles   \n",
       "3             Eel River Brewing Company          NaN  America/Los_Angeles   \n",
       "4             Eel River Brewing Company          NaN  America/Los_Angeles   \n",
       "5             Eel River Brewing Company          NaN  America/Los_Angeles   \n",
       "6             Eel River Brewing Company          NaN  America/Los_Angeles   \n",
       "7                    Six Rivers Brewery          NaN  America/Los_Angeles   \n",
       "8  Humboldt Regeneration Brewery & Farm          NaN  America/Los_Angeles   \n",
       "9  Humboldt Regeneration Brewery & Farm          NaN  America/Los_Angeles   \n",
       "\n",
       "             date_pacific_tz              date_local_tz  \n",
       "0  2016-07-04 18:59:34-07:00  2016-07-04 18:59:34-07:00  \n",
       "1  2016-07-03 19:00:03-07:00  2016-07-03 19:00:03-07:00  \n",
       "2  2016-07-03 18:58:48-07:00  2016-07-03 18:58:48-07:00  \n",
       "3  2016-07-03 18:04:39-07:00  2016-07-03 18:04:39-07:00  \n",
       "4  2016-07-03 18:03:50-07:00  2016-07-03 18:03:50-07:00  \n",
       "5  2016-07-03 17:49:15-07:00  2016-07-03 17:49:15-07:00  \n",
       "6  2016-07-03 17:44:47-07:00  2016-07-03 17:44:47-07:00  \n",
       "7  2016-07-03 16:07:21-07:00  2016-07-03 16:07:21-07:00  \n",
       "8  2016-07-03 15:33:19-07:00  2016-07-03 15:33:19-07:00  \n",
       "9  2016-07-03 15:25:04-07:00  2016-07-03 15:25:04-07:00  "
      ]
     },
     "execution_count": 11,
     "metadata": {},
     "output_type": "execute_result"
    }
   ],
   "source": [
    "# look at the first 10 venues and their timezones\n",
    "df[['venue_name', 'venue_place', 'venue_timezone', 'date_pacific_tz', 'date_local_tz']].head(10)"
   ]
  },
  {
   "cell_type": "code",
   "execution_count": 12,
   "metadata": {
    "collapsed": true
   },
   "outputs": [],
   "source": [
    "# save to csv\n",
    "df.to_csv('data/untappd_details_geocoded_timezone.csv', index=False, encoding='utf-8')"
   ]
  },
  {
   "cell_type": "code",
   "execution_count": null,
   "metadata": {
    "collapsed": true
   },
   "outputs": [],
   "source": []
  }
 ],
 "metadata": {
  "kernelspec": {
   "display_name": "Python 3",
   "language": "python",
   "name": "python3"
  },
  "language_info": {
   "codemirror_mode": {
    "name": "ipython",
    "version": 3
   },
   "file_extension": ".py",
   "mimetype": "text/x-python",
   "name": "python",
   "nbconvert_exporter": "python",
   "pygments_lexer": "ipython3",
   "version": "3.5.1"
  }
 },
 "nbformat": 4,
 "nbformat_minor": 0
}
