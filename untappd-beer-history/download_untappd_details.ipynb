{
 "cells": [
  {
   "cell_type": "markdown",
   "metadata": {},
   "source": [
    "# Download Your Beer, Brewery, and Venue Details from Untappd\n",
    "\n",
    "This script depends on the ```pandas``` and ```selenium``` packages"
   ]
  },
  {
   "cell_type": "code",
   "execution_count": null,
   "metadata": {
    "collapsed": false
   },
   "outputs": [],
   "source": [
    "import time, random, pandas as pd, pytz\n",
    "from dateutil import parser as date_parser\n",
    "from datetime import datetime as dt\n",
    "from selenium import webdriver\n",
    "from selenium.webdriver.chrome.options import Options\n",
    "from selenium.webdriver.common.by import By"
   ]
  },
  {
   "cell_type": "code",
   "execution_count": null,
   "metadata": {
    "collapsed": true
   },
   "outputs": [],
   "source": [
    "# define the options for launching chrome\n",
    "chrome_options = Options()\n",
    "chrome_options.add_argument('--disable-extensions')\n",
    "chrome_options.binary_location = 'C:/Program Files (x86)/Google/Chrome/Application/chrome.exe'\n",
    "executable_path = 'chromedriver.exe'\n",
    "maximize_window = False"
   ]
  },
  {
   "cell_type": "code",
   "execution_count": null,
   "metadata": {
    "collapsed": true
   },
   "outputs": [],
   "source": [
    "# define the pause durations\n",
    "short_pause_min = 1\n",
    "short_pause_max = 2\n",
    "\n",
    "# define pause functions\n",
    "def pause(duration_min, duration_max):\n",
    "    duration = (duration_max - duration_min) * random.random() + duration_min\n",
    "    time.sleep(duration)\n",
    "\n",
    "def pause_short():\n",
    "    pause(short_pause_min, short_pause_max)"
   ]
  },
  {
   "cell_type": "code",
   "execution_count": null,
   "metadata": {
    "collapsed": false
   },
   "outputs": [],
   "source": [
    "# determine the time the script started at\n",
    "start_time = time.time()\n",
    "print 'start time {}'.format(dt.fromtimestamp(start_time).strftime('%H:%M:%S'))"
   ]
  },
  {
   "cell_type": "code",
   "execution_count": null,
   "metadata": {
    "collapsed": false
   },
   "outputs": [],
   "source": [
    "# load the check-ins data set (which currently lacks full details)\n",
    "df = pd.read_csv('data/untappd.csv')[0:10]"
   ]
  },
  {
   "cell_type": "code",
   "execution_count": null,
   "metadata": {
    "collapsed": true
   },
   "outputs": [],
   "source": [
    "# create the lists of urls to visit for beers, breweries, and venues\n",
    "# for efficiency, these lists are unique so we only visit each page once\n",
    "beer_urls = df[df['beer_url'].notnull()]['beer_url'].unique()\n",
    "brewery_urls = df[df['brewery_url'].notnull()]['brewery_url'].unique()\n",
    "venue_urls = df[df['venue_url'].notnull()]['venue_url'].unique()"
   ]
  },
  {
   "cell_type": "code",
   "execution_count": null,
   "metadata": {
    "collapsed": false
   },
   "outputs": [],
   "source": [
    "# launch the chrome driver, then clear cookies and cache\n",
    "driver = webdriver.Chrome(executable_path=executable_path, chrome_options=chrome_options)\n",
    "driver.delete_all_cookies()\n",
    "if maximize_window:\n",
    "    driver.maximize_window()"
   ]
  },
  {
   "cell_type": "markdown",
   "metadata": {},
   "source": [
    "## Get the beer, brewery, venue details\n",
    "\n",
    "Loop through each beer URL, then each brewery URL, then each venue URL to collect the details from each page. For efficiency, these lists of URLs are unique so we only visit each URL once, no matter how many times that URL appears in the dataframe. When we're done we'll copy the collected details to each row that contains the URL throughout the dataframe."
   ]
  },
  {
   "cell_type": "code",
   "execution_count": null,
   "metadata": {
    "collapsed": false
   },
   "outputs": [],
   "source": [
    "# extracts/returns all the details (style, abv, ibu, total check-ins, average rating) from a beer's page\n",
    "def get_beer_details():\n",
    "    \n",
    "    beer_style_query = '//div[@class=\"name\"]/p[@class=\"style\"]'\n",
    "    try:\n",
    "        beer_style_item = driver.find_elements(By.XPATH, beer_style_query)[0]\n",
    "        beer_style = beer_style_item.text\n",
    "    except:\n",
    "        beer_style = None\n",
    "    \n",
    "    beer_abv_query = '//div[@class=\"details\"]/p[@class=\"abv\"]'\n",
    "    try:\n",
    "        beer_abv_item = driver.find_elements(By.XPATH, beer_abv_query)[0]\n",
    "        beer_abv = beer_abv_item.text\n",
    "    except:\n",
    "        beer_abv = None\n",
    "    \n",
    "    beer_ibu_query = '//div[@class=\"details\"]/p[@class=\"ibu\"]'\n",
    "    try:\n",
    "        beer_ibu_item = driver.find_elements(By.XPATH, beer_ibu_query)[0]\n",
    "        beer_ibu = beer_ibu_item.text\n",
    "    except:\n",
    "        beer_ibu = None\n",
    "    \n",
    "    beer_total_checkins_query = '//div[@class=\"stats\"]/p/span[@class=\"count\"]'\n",
    "    try:\n",
    "        beer_total_checkins_item = driver.find_elements(By.XPATH, beer_total_checkins_query)[0]\n",
    "        beer_total_checkins = beer_total_checkins_item.text\n",
    "    except:\n",
    "        beer_total_checkins = None\n",
    "    \n",
    "    beer_avg_rating_query = '//div[@class=\"details\"]/p[@class=\"rating\"]'\n",
    "    try:\n",
    "        beer_avg_rating_item = driver.find_elements(By.XPATH, beer_avg_rating_query)[0]\n",
    "        beer_avg_rating = beer_avg_rating_item.text\n",
    "    except:\n",
    "        beer_avg_rating = None\n",
    "    \n",
    "    return beer_style, beer_total_checkins, beer_avg_rating, beer_abv, beer_ibu"
   ]
  },
  {
   "cell_type": "code",
   "execution_count": null,
   "metadata": {
    "collapsed": false
   },
   "outputs": [],
   "source": [
    "# get all the beers' details and save to a dict with the URLs as keys\n",
    "beer_details = {}\n",
    "for beer_url in beer_urls:\n",
    "    driver.get(beer_url)\n",
    "    beer_style, beer_total_checkins, beer_avg_rating, beer_abv, beer_ibu = get_beer_details()\n",
    "    beer_details[beer_url] = {'beer_style' : beer_style,\n",
    "                              'beer_total_checkins' : beer_total_checkins,\n",
    "                              'beer_avg_rating' : beer_avg_rating,\n",
    "                              'beer_abv' : beer_abv,\n",
    "                              'beer_ibu' : beer_ibu}    \n",
    "    pause_short()"
   ]
  },
  {
   "cell_type": "code",
   "execution_count": null,
   "metadata": {
    "collapsed": true
   },
   "outputs": [],
   "source": [
    "# extracts/returns all the details (place, type, avg rating, total check-ins) from a brewery's page\n",
    "def get_brewery_details():\n",
    "    \n",
    "    brewery_place_query = '//div[@class=\"basic\"]/div[@class=\"name\"]/p[@class=\"brewery\"]'\n",
    "    try:\n",
    "        brewery_place_item = driver.find_elements(By.XPATH, brewery_place_query)[0]\n",
    "        brewery_place = brewery_place_item.text\n",
    "    except:\n",
    "        brewery_place = None\n",
    "    \n",
    "    brewery_type_query = '//div[@class=\"name\"]/p[@class=\"style\"]'\n",
    "    try:\n",
    "        brewery_type_item = driver.find_elements(By.XPATH, brewery_type_query)[0]\n",
    "        brewery_type = brewery_type_item.text\n",
    "    except:\n",
    "        brewery_type = None\n",
    "    \n",
    "    brewery_avg_rating_query = '//div[@class=\"content\"]/div/p[@class=\"rating\"]/span[@class=\"num\"]'\n",
    "    try:\n",
    "        brewery_avg_rating_item = driver.find_elements(By.XPATH, brewery_avg_rating_query)[0]\n",
    "        brewery_avg_rating = brewery_avg_rating_item.text\n",
    "    except:\n",
    "        brewery_avg_rating = None\n",
    "    \n",
    "    brewery_total_checkins_query = '//div[@class=\"stats\"]/p/span[@class=\"count\"]'\n",
    "    try:\n",
    "        brewery_total_checkins_item = driver.find_elements(By.XPATH, brewery_total_checkins_query)[0]\n",
    "        brewery_total_checkins = brewery_total_checkins_item.text\n",
    "    except:\n",
    "        brewery_total_checkins = None\n",
    "    \n",
    "    return brewery_place, brewery_type, brewery_total_checkins, brewery_avg_rating"
   ]
  },
  {
   "cell_type": "code",
   "execution_count": null,
   "metadata": {
    "collapsed": false
   },
   "outputs": [],
   "source": [
    "# get all the breweries' details and save to a dict with the URLs as keys\n",
    "brewery_details = {}\n",
    "for brewery_url in brewery_urls:\n",
    "    if pd.notnull(brewery_url):\n",
    "        driver.get(brewery_url)\n",
    "        brewery_place, brewery_type, brewery_total_checkins, brewery_avg_rating = get_brewery_details()\n",
    "        brewery_details[brewery_url] = {'brewery_place' : brewery_place,\n",
    "                                        'brewery_type' : brewery_type,\n",
    "                                        'brewery_total_checkins' : brewery_total_checkins,\n",
    "                                        'brewery_avg_rating' : brewery_avg_rating}\n",
    "        pause_short()"
   ]
  },
  {
   "cell_type": "code",
   "execution_count": null,
   "metadata": {
    "collapsed": true
   },
   "outputs": [],
   "source": [
    "# extracts/returns all the details (place, type, total check-ins, lat/long) from a venue's page\n",
    "def get_venue_details():\n",
    "    \n",
    "    venue_place_query = '//div[@class=\"venue-intro\"]/p'\n",
    "    try:\n",
    "        venue_place_item = driver.find_elements(By.XPATH, venue_place_query)[1]\n",
    "        venue_place = venue_place_item.text\n",
    "    except:\n",
    "        venue_place = None\n",
    "    \n",
    "    venue_type_query = '//div[@class=\"venue-intro\"]/h2'\n",
    "    try:\n",
    "        venue_type_item = driver.find_elements(By.XPATH, venue_type_query)[0]\n",
    "        venue_type = venue_type_item.text\n",
    "    except:\n",
    "        venue_type = None\n",
    "    \n",
    "    venue_total_checkins_query = '//div[@class=\"stats\"]/ul/li'\n",
    "    try:\n",
    "        venue_total_checkins_item = driver.find_elements(By.XPATH, venue_total_checkins_query)[0]\n",
    "        venue_total_checkins = venue_total_checkins_item.text\n",
    "    except:\n",
    "        venue_total_checkins = None\n",
    "    \n",
    "    venue_lat_query = '//meta[@property=\"place:location:latitude\"]'\n",
    "    try:\n",
    "        venue_lat_item = driver.find_elements(By.XPATH, venue_lat_query)[0]\n",
    "        venue_lat = venue_lat_item.get_attribute('content')\n",
    "    except:\n",
    "        venue_lat = None\n",
    "    \n",
    "    venue_lon_query = '//meta[@property=\"place:location:longitude\"]'\n",
    "    try:\n",
    "        venue_lon_item = driver.find_elements(By.XPATH, venue_lon_query)[0]\n",
    "        venue_lon = venue_lon_item.get_attribute('content')\n",
    "    except:\n",
    "        venue_lon = None\n",
    "    \n",
    "    return venue_place, venue_type, venue_total_checkins, venue_lat, venue_lon"
   ]
  },
  {
   "cell_type": "code",
   "execution_count": null,
   "metadata": {
    "collapsed": false
   },
   "outputs": [],
   "source": [
    "# get all the venues' details and save to a dict with the URLs as keys\n",
    "venue_details = {}\n",
    "for venue_url in venue_urls:\n",
    "    driver.get(venue_url)\n",
    "    venue_place, venue_type, venue_total_checkins, venue_lat, venue_lon = get_venue_details()\n",
    "    venue_details[venue_url] = {'venue_place' : venue_place,\n",
    "                                'venue_type' : venue_type,\n",
    "                                'venue_total_checkins' : venue_total_checkins,\n",
    "                                'venue_lat' : venue_lat,\n",
    "                                'venue_lon' : venue_lon}    \n",
    "    pause_short()"
   ]
  },
  {
   "cell_type": "code",
   "execution_count": null,
   "metadata": {
    "collapsed": true
   },
   "outputs": [],
   "source": [
    "# all done, close the webdriver\n",
    "driver.close()"
   ]
  },
  {
   "cell_type": "code",
   "execution_count": null,
   "metadata": {
    "collapsed": false
   },
   "outputs": [],
   "source": [
    "# calculate the current time and the elapsed time\n",
    "current_time = time.time()\n",
    "print 'current time {}'.format(dt.fromtimestamp(current_time).strftime('%H:%M:%S'))\n",
    "print 'elapsed time: {:,.1f} secs'.format(current_time-start_time)"
   ]
  },
  {
   "cell_type": "markdown",
   "metadata": {},
   "source": [
    "## Add the beer, brewery, and venue details to the original dataframe"
   ]
  },
  {
   "cell_type": "code",
   "execution_count": null,
   "metadata": {
    "collapsed": false
   },
   "outputs": [],
   "source": [
    "# first, create new columns in the dataframe to contain the details\n",
    "df['beer_style'] = None\n",
    "df['beer_total_checkins'] = None\n",
    "df['beer_avg_rating'] = None\n",
    "df['beer_abv'] = None\n",
    "df['beer_ibu'] = None\n",
    "df['brewery_place'] = None\n",
    "df['brewery_type'] = None\n",
    "df['brewery_total_checkins'] = None\n",
    "df['brewery_avg_rating'] = None\n",
    "df['venue_place'] = None\n",
    "df['venue_type'] = None\n",
    "df['venue_total_checkins'] = None\n",
    "df['venue_lat'] = None\n",
    "df['venue_lon'] = None"
   ]
  },
  {
   "cell_type": "code",
   "execution_count": null,
   "metadata": {
    "collapsed": false,
    "scrolled": true
   },
   "outputs": [],
   "source": [
    "# for each url in each list of beer urls, get all the dataframe rows that contain this url\n",
    "# then find this url in the dict and copy each detail value from dict to the corresponding column in the df\n",
    "for beer_url in beer_urls:\n",
    "    labels = df[df['beer_url']==beer_url].index\n",
    "    df.loc[labels, 'beer_style'] = beer_details[beer_url]['beer_style']\n",
    "    df.loc[labels, 'beer_total_checkins'] = beer_details[beer_url]['beer_total_checkins']\n",
    "    df.loc[labels, 'beer_avg_rating'] = beer_details[beer_url]['beer_avg_rating']\n",
    "    df.loc[labels, 'beer_abv'] = beer_details[beer_url]['beer_abv']\n",
    "    df.loc[labels, 'beer_ibu'] = beer_details[beer_url]['beer_ibu']\n",
    "\n",
    "# do the same for the brewery urls\n",
    "for brewery_url in brewery_urls:\n",
    "    labels = df[df['brewery_url']==brewery_url].index\n",
    "    df.loc[labels, 'brewery_place'] = brewery_details[brewery_url]['brewery_place']\n",
    "    df.loc[labels, 'brewery_type'] = brewery_details[brewery_url]['brewery_type']\n",
    "    df.loc[labels, 'brewery_total_checkins'] = brewery_details[brewery_url]['brewery_total_checkins']\n",
    "    df.loc[labels, 'brewery_avg_rating'] = brewery_details[brewery_url]['brewery_avg_rating']\n",
    "\n",
    "# do the same for the venue urls\n",
    "for venue_url in venue_urls:\n",
    "    labels = df[df['venue_url']==venue_url].index\n",
    "    df.loc[labels, 'venue_place'] = venue_details[venue_url]['venue_place']\n",
    "    df.loc[labels, 'venue_type'] = venue_details[venue_url]['venue_type']\n",
    "    df.loc[labels, 'venue_total_checkins'] = venue_details[venue_url]['venue_total_checkins']\n",
    "    df.loc[labels, 'venue_lat'] = venue_details[venue_url]['venue_lat']\n",
    "    df.loc[labels, 'venue_lon'] = venue_details[venue_url]['venue_lon']"
   ]
  },
  {
   "cell_type": "markdown",
   "metadata": {},
   "source": [
    "## Clean up the details strings"
   ]
  },
  {
   "cell_type": "code",
   "execution_count": null,
   "metadata": {
    "collapsed": false
   },
   "outputs": [],
   "source": [
    "# define parse functions to clean strings and change datatypes for each field necessary\n",
    "def parse_avg_rating(val):\n",
    "    try:\n",
    "        return float(val.strip('(').strip(')'))\n",
    "    except:\n",
    "        return None\n",
    "    \n",
    "def parse_brewery_checkins_count(val):\n",
    "    try:\n",
    "        if 'M+' in val:\n",
    "            return float(val.replace(',', '').strip('M+')) * 1000000\n",
    "        else:\n",
    "            return float(val.replace(',', ''))\n",
    "    except:\n",
    "        return None\n",
    "     \n",
    "def parse_venue_checkins_count(val):\n",
    "    try:\n",
    "        return float(val.replace(',', '').strip('\\nTOTAL'))\n",
    "    except:\n",
    "        return None\n",
    "    \n",
    "def parse_beer_ibu(val):\n",
    "    try:\n",
    "        return float(val.strip(' IBU'))\n",
    "    except:\n",
    "        return None\n",
    "    \n",
    "def parse_beer_abv(val):\n",
    "    try:\n",
    "        return float(val.strip('% ABV'))\n",
    "    except:\n",
    "        return None"
   ]
  },
  {
   "cell_type": "code",
   "execution_count": null,
   "metadata": {
    "collapsed": false
   },
   "outputs": [],
   "source": [
    "# clean/transform each column using my parse functions or pandas' built-in strip/astype methods\n",
    "df['beer_total_checkins'] = df['beer_total_checkins'].map(parse_total_checkins_count)\n",
    "df['beer_avg_rating'] = df['beer_avg_rating'].map(parse_avg_rating)\n",
    "df['beer_ibu'] = df['beer_ibu'].map(parse_beer_ibu)\n",
    "df['beer_abv'] = df['beer_abv'].map(parse_beer_abv)\n",
    "df['brewery_avg_rating'] = df['brewery_avg_rating'].map(parse_avg_rating)\n",
    "df['brewery_total_checkins'] = df['brewery_total_checkins'].map(parse_brewery_checkins_count)\n",
    "df['venue_total_checkins'] = df['venue_total_checkins'].map(parse_venue_checkins_count)\n",
    "df['venue_place'] = df['venue_place'].str.strip(' (Map)')\n",
    "df['venue_lat'] = df['venue_lat'].astype(float)\n",
    "df['venue_lon'] = df['venue_lon'].astype(float)"
   ]
  },
  {
   "cell_type": "code",
   "execution_count": null,
   "metadata": {
    "collapsed": true
   },
   "outputs": [],
   "source": [
    "# sort the column names to be a bit more intuitive\n",
    "cols = ['date_pacific_tz', 'beer_name', 'beer_style', 'brewery_name', 'brewery_place', 'brewery_type',\n",
    "        'rating', 'beer_avg_rating', 'brewery_avg_rating', 'beer_abv', 'beer_ibu', 'beer_total_checkins',\n",
    "        'brewery_total_checkins', 'venue_name', 'venue_type', 'venue_place', 'venue_lat', 'venue_lon',\n",
    "        'venue_total_checkins', 'checkin_id', 'beer_url', 'brewery_url', 'venue_url']\n",
    "df = df.reindex(columns=cols)"
   ]
  },
  {
   "cell_type": "code",
   "execution_count": null,
   "metadata": {
    "collapsed": false
   },
   "outputs": [],
   "source": [
    "# show a slice of the final dataframe\n",
    "df.head()"
   ]
  },
  {
   "cell_type": "code",
   "execution_count": null,
   "metadata": {
    "collapsed": true
   },
   "outputs": [],
   "source": [
    "# save to csv\n",
    "df.to_csv('data/untappd_details.csv', index=False, encoding='utf-8')"
   ]
  },
  {
   "cell_type": "code",
   "execution_count": null,
   "metadata": {
    "collapsed": false
   },
   "outputs": [],
   "source": [
    "# calculate the end time and the elapsed time\n",
    "end_time = time.time()\n",
    "print 'end time {}'.format(dt.fromtimestamp(end_time).strftime('%H:%M:%S'))\n",
    "print 'elapsed time: {:,.1f} secs'.format(end_time-start_time)"
   ]
  }
 ],
 "metadata": {
  "kernelspec": {
   "display_name": "Python 2",
   "language": "python",
   "name": "python2"
  },
  "language_info": {
   "codemirror_mode": {
    "name": "ipython",
    "version": 2
   },
   "file_extension": ".py",
   "mimetype": "text/x-python",
   "name": "python",
   "nbconvert_exporter": "python",
   "pygments_lexer": "ipython2",
   "version": "2.7.11"
  }
 },
 "nbformat": 4,
 "nbformat_minor": 0
}
