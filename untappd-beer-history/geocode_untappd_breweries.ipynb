{
 "cells": [
  {
   "cell_type": "markdown",
   "metadata": {},
   "source": [
    "Geocode the *place* field for each brewery to lat-long with the Google Maps geocoding API.\n",
    "\n",
    "Then get the timezone for each venue's lat-long point with the Google Maps timezone API: https://developers.google.com/maps/documentation/timezone/intro\n",
    "\n",
    "Then convert each check-in's datetime to the timezone of the venue at which it was checked in."
   ]
  },
  {
   "cell_type": "code",
   "execution_count": null,
   "metadata": {
    "collapsed": true
   },
   "outputs": [],
   "source": []
  }
 ],
 "metadata": {
  "kernelspec": {
   "display_name": "Python 2",
   "language": "python",
   "name": "python2"
  },
  "language_info": {
   "codemirror_mode": {
    "name": "ipython",
    "version": 2
   },
   "file_extension": ".py",
   "mimetype": "text/x-python",
   "name": "python",
   "nbconvert_exporter": "python",
   "pygments_lexer": "ipython2",
   "version": "2.7.11"
  }
 },
 "nbformat": 4,
 "nbformat_minor": 0
}
