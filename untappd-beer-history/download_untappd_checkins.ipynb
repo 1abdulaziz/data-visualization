{
 "cells": [
  {
   "cell_type": "markdown",
   "metadata": {},
   "source": [
    "# Part 1: Download Your Untappd History Data\n",
    "\n"
   ]
  },
  {
   "cell_type": "code",
   "execution_count": 1,
   "metadata": {
    "collapsed": false
   },
   "outputs": [],
   "source": [
    "import time, random, pandas as pd, pytz\n",
    "from dateutil import parser as date_parser\n",
    "from datetime import datetime as dt\n",
    "from selenium import webdriver\n",
    "from selenium.webdriver.common.keys import Keys\n",
    "from selenium.webdriver.chrome.options import Options\n",
    "from selenium.webdriver.common.by import By\n",
    "from selenium.webdriver.common.action_chains import ActionChains\n",
    "\n",
    "from keys import untappd_username, untappd_password"
   ]
  },
  {
   "cell_type": "code",
   "execution_count": 2,
   "metadata": {
    "collapsed": true
   },
   "outputs": [],
   "source": [
    "# only get n check-ins, or get all of them if zero\n",
    "limit_checkin_count = 0\n",
    "\n",
    "# define the url to log into untappd and the url for the user's profile\n",
    "login_url = 'https://untappd.com/login'\n",
    "profile_url = 'https://untappd.com/user/{}'.format(untappd_username)"
   ]
  },
  {
   "cell_type": "code",
   "execution_count": 3,
   "metadata": {
    "collapsed": true
   },
   "outputs": [],
   "source": [
    "# define html element ids for username and password input boxes\n",
    "username_box_id = 'username'\n",
    "password_box_id = 'password'\n",
    "\n",
    "# define xpath queries to find the html elements of interest\n",
    "show_more_button_query = '//a[@class=\"yellow button more_checkins more_checkins_logged track-click\"]'\n",
    "checkin_item_query = '//div[@id=\"main-stream\"]/div[@class=\"item\"]'\n",
    "beer_name_query = '//div[@id=\"{}\"]/div[@class=\"checkin\"]/div[@class=\"top\"]/p[@class=\"text\"]/a'\n",
    "count_query = '//div[@class=\"stats-bar\"]/div[@class=\"stats\"]/a[@href=\"/user/{}\"]/span[@class=\"stat\"]'\n",
    "rating_query = '//div[@id=\"{}\"]/div[@class=\"checkin\"]/div[@class=\"top\"]/p[@class=\"checkin-comment\"]/span[contains(@class, \"rating\")]'\n",
    "date_query = '//div[@id=\"{}\"]/div[@class=\"checkin\"]/div[@class=\"feedback\"]/div[@class=\"bottom\"]/a[@class=\"time timezoner track-click\"]'"
   ]
  },
  {
   "cell_type": "code",
   "execution_count": 4,
   "metadata": {
    "collapsed": true
   },
   "outputs": [],
   "source": [
    "# define the pause durations\n",
    "short_pause_min = 1\n",
    "short_pause_max = 2\n",
    "medium_pause_min = 3\n",
    "medium_pause_max = 4\n",
    "long_pause_min = 5\n",
    "long_pause_max = 6"
   ]
  },
  {
   "cell_type": "code",
   "execution_count": 5,
   "metadata": {
    "collapsed": true
   },
   "outputs": [],
   "source": [
    "# define the options for launching chrome\n",
    "chrome_options = Options()\n",
    "chrome_options.add_argument('--disable-extensions')\n",
    "chrome_options.binary_location = 'C:/Program Files (x86)/Google/Chrome/Application/chrome.exe'\n",
    "executable_path = 'chromedriver.exe'\n",
    "maximize_window = False"
   ]
  },
  {
   "cell_type": "code",
   "execution_count": 6,
   "metadata": {
    "collapsed": true
   },
   "outputs": [],
   "source": [
    "# define pause functions\n",
    "def pause(duration_min, duration_max):\n",
    "    duration = (duration_max - duration_min) * random.random() + duration_min\n",
    "    time.sleep(duration)\n",
    "\n",
    "def pause_short():\n",
    "    pause(short_pause_min, short_pause_max)\n",
    "\n",
    "def pause_medium():\n",
    "    pause(medium_pause_min, medium_pause_max)\n",
    "    \n",
    "def pause_long():\n",
    "    pause(long_pause_min, long_pause_max)"
   ]
  },
  {
   "cell_type": "code",
   "execution_count": 7,
   "metadata": {
    "collapsed": true
   },
   "outputs": [],
   "source": [
    "def get_details(names_urls):\n",
    "\n",
    "    # initialize the name and link variables with empty strings\n",
    "    beer_name = ''\n",
    "    beer_url = ''\n",
    "    brewery_name = ''\n",
    "    brewery_url = ''\n",
    "    venue_name = ''\n",
    "    venue_url = ''\n",
    "\n",
    "    # for each name+link pair we found, see if it's a beer, a brewery, or a venue\n",
    "    for name, url in names_urls:\n",
    "        if '/b/' in url:\n",
    "            beer_name = name\n",
    "            beer_url = url\n",
    "        elif '/w/' in url:\n",
    "            brewery_name = name\n",
    "            brewery_url = url\n",
    "        elif '/v/' in url:\n",
    "            venue_name = name\n",
    "            venue_url = url\n",
    "\n",
    "    return beer_name, beer_url, brewery_name, brewery_url, venue_name, venue_url"
   ]
  },
  {
   "cell_type": "code",
   "execution_count": 8,
   "metadata": {
    "collapsed": false
   },
   "outputs": [
    {
     "name": "stdout",
     "output_type": "stream",
     "text": [
      "start time 11:46:47\n"
     ]
    }
   ],
   "source": [
    "# determine the time the script started at\n",
    "start_time = time.time()\n",
    "print('start time {}'.format(dt.fromtimestamp(start_time).strftime('%H:%M:%S')))"
   ]
  },
  {
   "cell_type": "code",
   "execution_count": 9,
   "metadata": {
    "collapsed": false
   },
   "outputs": [],
   "source": [
    "# launch the chrome driver, then clear cookies and cache\n",
    "driver = webdriver.Chrome(executable_path=executable_path, chrome_options=chrome_options)\n",
    "driver.delete_all_cookies()\n",
    "if maximize_window:\n",
    "    driver.maximize_window()"
   ]
  },
  {
   "cell_type": "code",
   "execution_count": 10,
   "metadata": {
    "collapsed": false
   },
   "outputs": [],
   "source": [
    "# log into untappd\n",
    "driver.get(login_url)\n",
    "pause_short()\n",
    "\n",
    "username_box = driver.find_element_by_id(username_box_id)\n",
    "username_box.clear()\n",
    "username_box.send_keys(untappd_username)\n",
    "username_box.send_keys(Keys.TAB)\n",
    "pause_short()\n",
    "\n",
    "password_box = driver.find_element_by_id(password_box_id)\n",
    "password_box.clear()\n",
    "password_box.send_keys(untappd_password)\n",
    "pause_short()\n",
    "\n",
    "password_box.send_keys(Keys.ENTER)"
   ]
  },
  {
   "cell_type": "code",
   "execution_count": 11,
   "metadata": {
    "collapsed": true
   },
   "outputs": [],
   "source": [
    "# go to the user's profile web page\n",
    "pause_long()\n",
    "driver.get(profile_url)"
   ]
  },
  {
   "cell_type": "code",
   "execution_count": 12,
   "metadata": {
    "collapsed": false
   },
   "outputs": [
    {
     "name": "stdout",
     "output_type": "stream",
     "text": [
      "1,480\n"
     ]
    }
   ],
   "source": [
    "# get the count of total check-ins\n",
    "pause_medium()\n",
    "checkin_count_item = driver.find_elements(By.XPATH, count_query.format(untappd_username))[0]\n",
    "checkin_count = int(checkin_count_item.text.replace(',', ''))\n",
    "print('{:,}'.format(checkin_count))"
   ]
  },
  {
   "cell_type": "code",
   "execution_count": 13,
   "metadata": {
    "collapsed": false
   },
   "outputs": [
    {
     "name": "stdout",
     "output_type": "stream",
     "text": [
      "1 40\n",
      "2 90\n",
      "3 165\n",
      "4 240\n",
      "5 365\n",
      "6 615\n",
      "7 915\n",
      "8 1,265\n",
      "9 1,480\n"
     ]
    }
   ],
   "source": [
    "# scroll down and click 'show more' until we find the total number of check-ins\n",
    "pause_short()\n",
    "count_found = 0\n",
    "scroll_count = 0\n",
    "actions = ActionChains(driver)\n",
    "\n",
    "checkin_count = limit_checkin_count if limit_checkin_count > 0 else checkin_count\n",
    "\n",
    "# until you've found all the check-ins you expect, scroll down, click 'show more' button, repeat\n",
    "while count_found < checkin_count:\n",
    "    \n",
    "    actions.key_down(Keys.END).key_up(Keys.END).perform()\n",
    "    pause_short()\n",
    "    \n",
    "    show_more_button = driver.find_elements(By.XPATH, show_more_button_query)[0]\n",
    "    actions.move_to_element(show_more_button).perform()\n",
    "    pause_short()\n",
    "    \n",
    "    actions.click(show_more_button).perform()   \n",
    "    pause_medium()\n",
    "    \n",
    "    scroll_count += 1\n",
    "    count_found = len(driver.find_elements(By.XPATH, checkin_item_query))\n",
    "    print('{} {:,}'.format(scroll_count, count_found))\n",
    "    \n",
    "pause_medium()\n",
    "actions.key_down(Keys.END).key_up(Keys.END).perform()\n",
    "pause_short()"
   ]
  },
  {
   "cell_type": "code",
   "execution_count": 14,
   "metadata": {
    "collapsed": false
   },
   "outputs": [
    {
     "name": "stdout",
     "output_type": "stream",
     "text": [
      "found 1,480 checkins\n",
      "current time 12:07:03\n",
      "elapsed time so far: 1,216.6 secs\n"
     ]
    }
   ],
   "source": [
    "# report how many total check-in items were found in the end, and the current time\n",
    "checkin_items = driver.find_elements(By.XPATH, checkin_item_query)\n",
    "current_time = time.time()\n",
    "print('found {:,} checkins'.format(len(checkin_items)))\n",
    "print('current time {}'.format(dt.fromtimestamp(current_time).strftime('%H:%M:%S')))\n",
    "print('elapsed time so far: {:,.1f} secs'.format(current_time-start_time))"
   ]
  },
  {
   "cell_type": "code",
   "execution_count": 15,
   "metadata": {
    "collapsed": false
   },
   "outputs": [],
   "source": [
    "# loop through each check-in item and get the beer, brewery, and venue details\n",
    "checkins = []\n",
    "for checkin_item in checkin_items:\n",
    "    \n",
    "    # get the check-in id then the names and links for the beer, brewery, and venue\n",
    "    checkin_item_id = checkin_item.get_attribute('id')\n",
    "    text_items = driver.find_elements(By.XPATH, beer_name_query.format(checkin_item_id))\n",
    "    names_urls = [(item.text, item.get_attribute('href')) for item in text_items]\n",
    "    \n",
    "    # get the beer, brewery, and venue details\n",
    "    beer_name, beer_url, brewery_name, brewery_url, venue_name, venue_url = get_details(names_urls)\n",
    "    \n",
    "    # when we're getting those details, get the rating\n",
    "    try:\n",
    "        rating_item = driver.find_elements(By.XPATH, rating_query.format(checkin_item_id))[0]\n",
    "        rating = int(rating_item.get_attribute('class').split(' r')[1]) / 100.\n",
    "    except:\n",
    "        rating = None\n",
    "    \n",
    "    # then get the date\n",
    "    date_item = driver.find_elements(By.XPATH, date_query.format(checkin_item_id))[0]\n",
    "    date = date_item.get_attribute('data-gregtime')\n",
    "    \n",
    "    # to get the style, public rating, public check-ins etc, you must visit the individual beer's page\n",
    "    \n",
    "    # now save the details to an object and append to the list\n",
    "    checkins.append({'checkin_id' : checkin_item_id.split('_')[1],\n",
    "                     'beer_name' : beer_name,\n",
    "                     'beer_url' : beer_url,\n",
    "                     'brewery_name' : brewery_name,\n",
    "                     'brewery_url' : brewery_url,\n",
    "                     'venue_name' : venue_name,\n",
    "                     'venue_url' : venue_url,\n",
    "                     'rating' : rating,\n",
    "                     'date' : date})"
   ]
  },
  {
   "cell_type": "code",
   "execution_count": 16,
   "metadata": {
    "collapsed": true
   },
   "outputs": [],
   "source": [
    "# all done, close the webdriver\n",
    "driver.close()"
   ]
  },
  {
   "cell_type": "code",
   "execution_count": 17,
   "metadata": {
    "collapsed": false
   },
   "outputs": [
    {
     "name": "stdout",
     "output_type": "stream",
     "text": [
      "end time 12:20:06\n",
      "elapsed time: 1,999.2 secs\n"
     ]
    }
   ],
   "source": [
    "# calculate the end time and the elapsed time\n",
    "end_time = time.time()\n",
    "print('end time {}'.format(dt.fromtimestamp(end_time).strftime('%H:%M:%S')))\n",
    "print('elapsed time: {:,.1f} secs'.format(end_time-start_time))"
   ]
  },
  {
   "cell_type": "code",
   "execution_count": 18,
   "metadata": {
    "collapsed": false
   },
   "outputs": [
    {
     "data": {
      "text/plain": [
       "{'beer_name': 'Morland Old Speckled Hen',\n",
       " 'beer_url': 'https://untappd.com/b/greene-king-morland-old-speckled-hen/3121',\n",
       " 'brewery_name': 'Greene King',\n",
       " 'brewery_url': 'https://untappd.com/w/greene-king/612',\n",
       " 'checkin_id': '17989067',\n",
       " 'date': 'Sat, 15 Dec 2012 23:32:01 +0000',\n",
       " 'rating': 3.5,\n",
       " 'venue_name': \"Schmidt's Pub\",\n",
       " 'venue_url': 'https://untappd.com/v/schmidts-pub/191667'}"
      ]
     },
     "execution_count": 18,
     "metadata": {},
     "output_type": "execute_result"
    }
   ],
   "source": [
    "# see my 10th check-in, as an example\n",
    "checkins[-10]"
   ]
  },
  {
   "cell_type": "code",
   "execution_count": 19,
   "metadata": {
    "collapsed": false
   },
   "outputs": [
    {
     "name": "stdout",
     "output_type": "stream",
     "text": [
      "created 1,480 rows\n"
     ]
    }
   ],
   "source": [
    "# turn the list of check-in dicts into a dataframe\n",
    "df = pd.DataFrame(checkins)\n",
    "print('created {:,} rows'.format(len(df)))"
   ]
  },
  {
   "cell_type": "code",
   "execution_count": 20,
   "metadata": {
    "collapsed": false
   },
   "outputs": [],
   "source": [
    "# convert each timestamp to pacific time\n",
    "def parse_convert_date(date_string):\n",
    "    date_time = date_parser.parse(date_string)\n",
    "    date_time_tz = date_time.replace(tzinfo=date_time.tzinfo).astimezone(pytz.timezone('US/Pacific'))\n",
    "    return date_time_tz\n",
    "    \n",
    "df['date_pacific_tz'] = df['date'].map(parse_convert_date)\n",
    "df = df.drop('date', axis=1)"
   ]
  },
  {
   "cell_type": "code",
   "execution_count": 21,
   "metadata": {
    "collapsed": false
   },
   "outputs": [
    {
     "data": {
      "text/html": [
       "<div>\n",
       "<table border=\"1\" class=\"dataframe\">\n",
       "  <thead>\n",
       "    <tr style=\"text-align: right;\">\n",
       "      <th></th>\n",
       "      <th>beer_name</th>\n",
       "      <th>beer_url</th>\n",
       "      <th>brewery_name</th>\n",
       "      <th>brewery_url</th>\n",
       "      <th>checkin_id</th>\n",
       "      <th>rating</th>\n",
       "      <th>venue_name</th>\n",
       "      <th>venue_url</th>\n",
       "      <th>date_pacific_tz</th>\n",
       "    </tr>\n",
       "  </thead>\n",
       "  <tbody>\n",
       "    <tr>\n",
       "      <th>0</th>\n",
       "      <td>McRed</td>\n",
       "      <td>https://untappd.com/b/humboldt-regeneration-mc...</td>\n",
       "      <td>Humboldt Regeneration</td>\n",
       "      <td>https://untappd.com/w/humboldt-regeneration/49462</td>\n",
       "      <td>332182456</td>\n",
       "      <td>3.75</td>\n",
       "      <td></td>\n",
       "      <td></td>\n",
       "      <td>2016-07-04 18:59:34-07:00</td>\n",
       "    </tr>\n",
       "    <tr>\n",
       "      <th>1</th>\n",
       "      <td>Earth Thirst</td>\n",
       "      <td>https://untappd.com/b/eel-river-brewing-co-ear...</td>\n",
       "      <td>Eel River Brewing Co.</td>\n",
       "      <td>https://untappd.com/w/eel-river-brewing-co/481</td>\n",
       "      <td>331728849</td>\n",
       "      <td>2.50</td>\n",
       "      <td>Eel River Brewing Company</td>\n",
       "      <td>https://untappd.com/v/eel-river-brewing-compan...</td>\n",
       "      <td>2016-07-03 19:00:03-07:00</td>\n",
       "    </tr>\n",
       "    <tr>\n",
       "      <th>2</th>\n",
       "      <td>Organic Amber Ale</td>\n",
       "      <td>https://untappd.com/b/eel-river-brewing-co-org...</td>\n",
       "      <td>Eel River Brewing Co.</td>\n",
       "      <td>https://untappd.com/w/eel-river-brewing-co/481</td>\n",
       "      <td>331728103</td>\n",
       "      <td>2.50</td>\n",
       "      <td>Eel River Brewing Company</td>\n",
       "      <td>https://untappd.com/v/eel-river-brewing-compan...</td>\n",
       "      <td>2016-07-03 18:58:48-07:00</td>\n",
       "    </tr>\n",
       "    <tr>\n",
       "      <th>3</th>\n",
       "      <td>Emerald Triangle IPA</td>\n",
       "      <td>https://untappd.com/b/eel-river-brewing-co-eme...</td>\n",
       "      <td>Eel River Brewing Co.</td>\n",
       "      <td>https://untappd.com/w/eel-river-brewing-co/481</td>\n",
       "      <td>331692205</td>\n",
       "      <td>4.00</td>\n",
       "      <td>Eel River Brewing Company</td>\n",
       "      <td>https://untappd.com/v/eel-river-brewing-compan...</td>\n",
       "      <td>2016-07-03 18:04:39-07:00</td>\n",
       "    </tr>\n",
       "    <tr>\n",
       "      <th>4</th>\n",
       "      <td>Blonde Ale</td>\n",
       "      <td>https://untappd.com/b/eelriver-brewing-company...</td>\n",
       "      <td>Eelriver Brewing Company</td>\n",
       "      <td>https://untappd.com/w/eelriver-brewing-company...</td>\n",
       "      <td>331691575</td>\n",
       "      <td>3.50</td>\n",
       "      <td>Eel River Brewing Company</td>\n",
       "      <td>https://untappd.com/v/eel-river-brewing-compan...</td>\n",
       "      <td>2016-07-03 18:03:50-07:00</td>\n",
       "    </tr>\n",
       "  </tbody>\n",
       "</table>\n",
       "</div>"
      ],
      "text/plain": [
       "              beer_name                                           beer_url  \\\n",
       "0                 McRed  https://untappd.com/b/humboldt-regeneration-mc...   \n",
       "1          Earth Thirst  https://untappd.com/b/eel-river-brewing-co-ear...   \n",
       "2     Organic Amber Ale  https://untappd.com/b/eel-river-brewing-co-org...   \n",
       "3  Emerald Triangle IPA  https://untappd.com/b/eel-river-brewing-co-eme...   \n",
       "4            Blonde Ale  https://untappd.com/b/eelriver-brewing-company...   \n",
       "\n",
       "               brewery_name  \\\n",
       "0     Humboldt Regeneration   \n",
       "1     Eel River Brewing Co.   \n",
       "2     Eel River Brewing Co.   \n",
       "3     Eel River Brewing Co.   \n",
       "4  Eelriver Brewing Company   \n",
       "\n",
       "                                         brewery_url checkin_id  rating  \\\n",
       "0  https://untappd.com/w/humboldt-regeneration/49462  332182456    3.75   \n",
       "1     https://untappd.com/w/eel-river-brewing-co/481  331728849    2.50   \n",
       "2     https://untappd.com/w/eel-river-brewing-co/481  331728103    2.50   \n",
       "3     https://untappd.com/w/eel-river-brewing-co/481  331692205    4.00   \n",
       "4  https://untappd.com/w/eelriver-brewing-company...  331691575    3.50   \n",
       "\n",
       "                  venue_name  \\\n",
       "0                              \n",
       "1  Eel River Brewing Company   \n",
       "2  Eel River Brewing Company   \n",
       "3  Eel River Brewing Company   \n",
       "4  Eel River Brewing Company   \n",
       "\n",
       "                                           venue_url           date_pacific_tz  \n",
       "0                                                    2016-07-04 18:59:34-07:00  \n",
       "1  https://untappd.com/v/eel-river-brewing-compan... 2016-07-03 19:00:03-07:00  \n",
       "2  https://untappd.com/v/eel-river-brewing-compan... 2016-07-03 18:58:48-07:00  \n",
       "3  https://untappd.com/v/eel-river-brewing-compan... 2016-07-03 18:04:39-07:00  \n",
       "4  https://untappd.com/v/eel-river-brewing-compan... 2016-07-03 18:03:50-07:00  "
      ]
     },
     "execution_count": 21,
     "metadata": {},
     "output_type": "execute_result"
    }
   ],
   "source": [
    "df.head()"
   ]
  },
  {
   "cell_type": "code",
   "execution_count": 22,
   "metadata": {
    "collapsed": true
   },
   "outputs": [],
   "source": [
    "# save the dataset to csv\n",
    "df.to_csv('data/untappd.csv', index=False, encoding='utf-8')"
   ]
  },
  {
   "cell_type": "code",
   "execution_count": null,
   "metadata": {
    "collapsed": true
   },
   "outputs": [],
   "source": []
  }
 ],
 "metadata": {
  "kernelspec": {
   "display_name": "Python 3",
   "language": "python",
   "name": "python3"
  },
  "language_info": {
   "codemirror_mode": {
    "name": "ipython",
    "version": 3
   },
   "file_extension": ".py",
   "mimetype": "text/x-python",
   "name": "python",
   "nbconvert_exporter": "python",
   "pygments_lexer": "ipython3",
   "version": "3.5.1"
  }
 },
 "nbformat": 4,
 "nbformat_minor": 0
}
