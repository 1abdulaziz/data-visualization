{
 "cells": [
  {
   "cell_type": "code",
   "execution_count": 1,
   "metadata": {
    "collapsed": false
   },
   "outputs": [],
   "source": [
    "import pandas as pd"
   ]
  },
  {
   "cell_type": "code",
   "execution_count": 2,
   "metadata": {
    "collapsed": false
   },
   "outputs": [
    {
     "data": {
      "text/html": [
       "<div>\n",
       "<table border=\"1\" class=\"dataframe\">\n",
       "  <thead>\n",
       "    <tr style=\"text-align: right;\">\n",
       "      <th></th>\n",
       "      <th>artist</th>\n",
       "      <th>album</th>\n",
       "      <th>track</th>\n",
       "      <th>datetime</th>\n",
       "    </tr>\n",
       "  </thead>\n",
       "  <tbody>\n",
       "    <tr>\n",
       "      <th>0</th>\n",
       "      <td>Banner Pilot</td>\n",
       "      <td>Monikers Split</td>\n",
       "      <td>Spit Out</td>\n",
       "      <td>2016-03-17 21:51:22</td>\n",
       "    </tr>\n",
       "    <tr>\n",
       "      <th>1</th>\n",
       "      <td>INDK</td>\n",
       "      <td>Kill Whitey!</td>\n",
       "      <td>Kings in Disguise</td>\n",
       "      <td>2016-03-17 21:49:10</td>\n",
       "    </tr>\n",
       "    <tr>\n",
       "      <th>2</th>\n",
       "      <td>NOFX</td>\n",
       "      <td>Ribbed</td>\n",
       "      <td>Shower Days</td>\n",
       "      <td>2016-03-17 21:46:59</td>\n",
       "    </tr>\n",
       "    <tr>\n",
       "      <th>3</th>\n",
       "      <td>Guttermouth</td>\n",
       "      <td>Musical Monkey</td>\n",
       "      <td>Abort Mission</td>\n",
       "      <td>2016-03-17 21:44:47</td>\n",
       "    </tr>\n",
       "    <tr>\n",
       "      <th>4</th>\n",
       "      <td>Misconduct</td>\n",
       "      <td>united as one</td>\n",
       "      <td>Stop the Fight</td>\n",
       "      <td>2016-03-17 21:42:35</td>\n",
       "    </tr>\n",
       "  </tbody>\n",
       "</table>\n",
       "</div>"
      ],
      "text/plain": [
       "         artist           album              track             datetime\n",
       "0  Banner Pilot  Monikers Split           Spit Out  2016-03-17 21:51:22\n",
       "1          INDK    Kill Whitey!  Kings in Disguise  2016-03-17 21:49:10\n",
       "2          NOFX          Ribbed        Shower Days  2016-03-17 21:46:59\n",
       "3   Guttermouth  Musical Monkey      Abort Mission  2016-03-17 21:44:47\n",
       "4    Misconduct   united as one     Stop the Fight  2016-03-17 21:42:35"
      ]
     },
     "execution_count": 2,
     "metadata": {},
     "output_type": "execute_result"
    }
   ],
   "source": [
    "# read the scrobbles data set\n",
    "df = pd.read_csv('data/lastfm_scrobbles.csv', parse_dates=True, infer_datetime_format=True)\n",
    "df = df.drop('timestamp', axis=1)\n",
    "df.head()"
   ]
  },
  {
   "cell_type": "code",
   "execution_count": 3,
   "metadata": {
    "collapsed": false
   },
   "outputs": [
    {
     "data": {
      "text/plain": [
       "True"
      ]
     },
     "execution_count": 3,
     "metadata": {},
     "output_type": "execute_result"
    }
   ],
   "source": [
    "df.index.is_unique"
   ]
  },
  {
   "cell_type": "code",
   "execution_count": 4,
   "metadata": {
    "collapsed": false
   },
   "outputs": [
    {
     "data": {
      "text/plain": [
       "222725"
      ]
     },
     "execution_count": 4,
     "metadata": {},
     "output_type": "execute_result"
    }
   ],
   "source": [
    "# according to last.fm web site, i have ~257,000 scrobbles\n",
    "len(df)"
   ]
  },
  {
   "cell_type": "code",
   "execution_count": 5,
   "metadata": {
    "collapsed": false
   },
   "outputs": [
    {
     "data": {
      "text/plain": [
       "14563"
      ]
     },
     "execution_count": 5,
     "metadata": {},
     "output_type": "execute_result"
    }
   ],
   "source": [
    "# according to last.fm web site, i have ~14,400 artists\n",
    "len(df['artist'].unique())"
   ]
  },
  {
   "cell_type": "code",
   "execution_count": 6,
   "metadata": {
    "collapsed": false
   },
   "outputs": [
    {
     "data": {
      "text/plain": [
       "David Bowie            2511\n",
       "The Kinks              2203\n",
       "The Beatles            1910\n",
       "Bob Dylan              1665\n",
       "Radiohead              1662\n",
       "Yo La Tengo            1531\n",
       "The Rolling Stones     1486\n",
       "Belle and Sebastian    1429\n",
       "Pavement               1417\n",
       "Frank Zappa            1331\n",
       "Name: artist, dtype: int64"
      ]
     },
     "execution_count": 6,
     "metadata": {},
     "output_type": "execute_result"
    }
   ],
   "source": [
    "# most listened to artists\n",
    "df['artist'].value_counts().head(10)"
   ]
  },
  {
   "cell_type": "code",
   "execution_count": 7,
   "metadata": {
    "collapsed": false
   },
   "outputs": [
    {
     "data": {
      "text/plain": [
       "The Kinks - The Kink Kronikles              746\n",
       "Fleet Foxes - Fleet Foxes                   544\n",
       "The Residents - The Commercial Album        529\n",
       "Frank Sinatra - Nothing But The Best        517\n",
       "Devo - Pioneers Who Got Scalped             492\n",
       "Madvillain - Madvillainy                    491\n",
       "Robert Johnson - King Of The Delta Blues    488\n",
       "The Clash - London Calling                  484\n",
       "Surfer Blood - Astro Coast                  484\n",
       "Vampire Weekend - Vampire Weekend           467\n",
       "Os Mutantes - Os Mutantes                   466\n",
       "Frank Black - Teenager of the Year          461\n",
       "Grizzly Bear - Veckatimest                  451\n",
       "The Dismemberment Plan - Emergency & I      441\n",
       "Girl Talk - Feed the Animals                441\n",
       "dtype: int64"
      ]
     },
     "execution_count": 7,
     "metadata": {},
     "output_type": "execute_result"
    }
   ],
   "source": [
    "# most listened to albums\n",
    "df.apply(lambda row: '{} - {}'.format(row['artist'], row['album']), axis=1).value_counts().head(15)"
   ]
  },
  {
   "cell_type": "code",
   "execution_count": 8,
   "metadata": {
    "collapsed": false
   },
   "outputs": [
    {
     "data": {
      "text/plain": [
       "Animal Collective - Summertime Clothes       91\n",
       "Surfer Blood - Floating Vibes                81\n",
       "Can - Vitamin C                              75\n",
       "The Dismemberment Plan - Gyroscope           75\n",
       "Fleet Foxes - White Winter Hymnal            73\n",
       "Can - I'm So Green                           72\n",
       "Surfer Blood - Take It Easy                  72\n",
       "Wu-Tang Clan - Shame on a Nigga              71\n",
       "The Kinks - Days                             70\n",
       "Panda Bear - Ponytail                        69\n",
       "Thelonious Monk - Epistrophy                 68\n",
       "The Unicorns - Ready To Die                  68\n",
       "The Jam - Pretty Green                       63\n",
       "Can - Sing Swan Song                         62\n",
       "Fleet Foxes - Tiger Mountain Peasant Song    62\n",
       "dtype: int64"
      ]
     },
     "execution_count": 8,
     "metadata": {},
     "output_type": "execute_result"
    }
   ],
   "source": [
    "# most listened to tracks\n",
    "df.apply(lambda row: '{} - {}'.format(row['artist'], row['track']), axis=1).value_counts().head(15)"
   ]
  },
  {
   "cell_type": "code",
   "execution_count": null,
   "metadata": {
    "collapsed": true
   },
   "outputs": [],
   "source": []
  }
 ],
 "metadata": {
  "kernelspec": {
   "display_name": "Python 2",
   "language": "python",
   "name": "python2"
  },
  "language_info": {
   "codemirror_mode": {
    "name": "ipython",
    "version": 2
   },
   "file_extension": ".py",
   "mimetype": "text/x-python",
   "name": "python",
   "nbconvert_exporter": "python",
   "pygments_lexer": "ipython2",
   "version": "2.7.11"
  }
 },
 "nbformat": 4,
 "nbformat_minor": 0
}
