{
 "cells": [
  {
   "cell_type": "code",
   "execution_count": 1,
   "metadata": {
    "collapsed": false
   },
   "outputs": [],
   "source": [
    "import pandas as pd"
   ]
  },
  {
   "cell_type": "code",
   "execution_count": 2,
   "metadata": {
    "collapsed": false
   },
   "outputs": [
    {
     "data": {
      "text/html": [
       "<div>\n",
       "<table border=\"1\" class=\"dataframe\">\n",
       "  <thead>\n",
       "    <tr style=\"text-align: right;\">\n",
       "      <th></th>\n",
       "      <th>artist</th>\n",
       "      <th>album</th>\n",
       "      <th>track</th>\n",
       "      <th>datetime</th>\n",
       "    </tr>\n",
       "  </thead>\n",
       "  <tbody>\n",
       "    <tr>\n",
       "      <th>0</th>\n",
       "      <td>Built to Spill</td>\n",
       "      <td>Keep It Like a Secret</td>\n",
       "      <td>Broken Chairs</td>\n",
       "      <td>2016-04-06 18:14:07</td>\n",
       "    </tr>\n",
       "    <tr>\n",
       "      <th>1</th>\n",
       "      <td>Built to Spill</td>\n",
       "      <td>Keep It Like a Secret</td>\n",
       "      <td>Temporarily Blind</td>\n",
       "      <td>2016-04-06 18:09:18</td>\n",
       "    </tr>\n",
       "    <tr>\n",
       "      <th>2</th>\n",
       "      <td>Built to Spill</td>\n",
       "      <td>Keep It Like a Secret</td>\n",
       "      <td>You Were Right</td>\n",
       "      <td>2016-04-06 18:04:33</td>\n",
       "    </tr>\n",
       "    <tr>\n",
       "      <th>3</th>\n",
       "      <td>Built to Spill</td>\n",
       "      <td>Keep It Like a Secret</td>\n",
       "      <td>Else</td>\n",
       "      <td>2016-04-06 18:00:24</td>\n",
       "    </tr>\n",
       "    <tr>\n",
       "      <th>4</th>\n",
       "      <td>Built to Spill</td>\n",
       "      <td>Keep It Like a Secret</td>\n",
       "      <td>Time Trap</td>\n",
       "      <td>2016-04-06 17:55:01</td>\n",
       "    </tr>\n",
       "  </tbody>\n",
       "</table>\n",
       "</div>"
      ],
      "text/plain": [
       "           artist                  album              track  \\\n",
       "0  Built to Spill  Keep It Like a Secret      Broken Chairs   \n",
       "1  Built to Spill  Keep It Like a Secret  Temporarily Blind   \n",
       "2  Built to Spill  Keep It Like a Secret     You Were Right   \n",
       "3  Built to Spill  Keep It Like a Secret               Else   \n",
       "4  Built to Spill  Keep It Like a Secret          Time Trap   \n",
       "\n",
       "              datetime  \n",
       "0  2016-04-06 18:14:07  \n",
       "1  2016-04-06 18:09:18  \n",
       "2  2016-04-06 18:04:33  \n",
       "3  2016-04-06 18:00:24  \n",
       "4  2016-04-06 17:55:01  "
      ]
     },
     "execution_count": 2,
     "metadata": {},
     "output_type": "execute_result"
    }
   ],
   "source": [
    "# read the scrobbles data set\n",
    "df = pd.read_csv('data/lastfm_scrobbles.csv', parse_dates=True, infer_datetime_format=True)\n",
    "df = df.drop('timestamp', axis=1)\n",
    "df.head()"
   ]
  },
  {
   "cell_type": "code",
   "execution_count": 3,
   "metadata": {
    "collapsed": false
   },
   "outputs": [
    {
     "data": {
      "text/plain": [
       "True"
      ]
     },
     "execution_count": 3,
     "metadata": {},
     "output_type": "execute_result"
    }
   ],
   "source": [
    "df.index.is_unique"
   ]
  },
  {
   "cell_type": "code",
   "execution_count": 4,
   "metadata": {
    "collapsed": false
   },
   "outputs": [
    {
     "data": {
      "text/plain": [
       "225319"
      ]
     },
     "execution_count": 4,
     "metadata": {},
     "output_type": "execute_result"
    }
   ],
   "source": [
    "# according to last.fm web site, i have ~260,000 scrobbles - missing the ones from before 2007\n",
    "len(df)"
   ]
  },
  {
   "cell_type": "code",
   "execution_count": 5,
   "metadata": {
    "collapsed": false
   },
   "outputs": [
    {
     "data": {
      "text/plain": [
       "15128"
      ]
     },
     "execution_count": 5,
     "metadata": {},
     "output_type": "execute_result"
    }
   ],
   "source": [
    "# how many artists?\n",
    "len(df['artist'].unique())"
   ]
  },
  {
   "cell_type": "code",
   "execution_count": 6,
   "metadata": {
    "collapsed": false
   },
   "outputs": [
    {
     "data": {
      "text/plain": [
       "David Bowie            2511\n",
       "The Kinks              2208\n",
       "The Beatles            1912\n",
       "Bob Dylan              1665\n",
       "Radiohead              1664\n",
       "Yo La Tengo            1536\n",
       "The Rolling Stones     1488\n",
       "Belle and Sebastian    1433\n",
       "Pavement               1418\n",
       "Frank Zappa            1334\n",
       "Name: artist, dtype: int64"
      ]
     },
     "execution_count": 6,
     "metadata": {},
     "output_type": "execute_result"
    }
   ],
   "source": [
    "# most listened to artists\n",
    "df['artist'].value_counts().head(10)"
   ]
  },
  {
   "cell_type": "code",
   "execution_count": 7,
   "metadata": {
    "collapsed": false
   },
   "outputs": [
    {
     "data": {
      "text/plain": [
       "The Kinks - The Kink Kronikles              746\n",
       "Fleet Foxes - Fleet Foxes                   544\n",
       "The Residents - The Commercial Album        530\n",
       "Frank Sinatra - Nothing But The Best        517\n",
       "Madvillain - Madvillainy                    493\n",
       "Devo - Pioneers Who Got Scalped             492\n",
       "Robert Johnson - King Of The Delta Blues    488\n",
       "The Clash - London Calling                  485\n",
       "Surfer Blood - Astro Coast                  484\n",
       "Vampire Weekend - Vampire Weekend           467\n",
       "Os Mutantes - Os Mutantes                   466\n",
       "Frank Black - Teenager of the Year          464\n",
       "Grizzly Bear - Veckatimest                  451\n",
       "The Dismemberment Plan - Emergency & I      441\n",
       "Girl Talk - Feed the Animals                441\n",
       "dtype: int64"
      ]
     },
     "execution_count": 7,
     "metadata": {},
     "output_type": "execute_result"
    }
   ],
   "source": [
    "# most listened to albums\n",
    "df.apply(lambda row: '{} - {}'.format(row['artist'], row['album']), axis=1).value_counts().head(15)"
   ]
  },
  {
   "cell_type": "code",
   "execution_count": 8,
   "metadata": {
    "collapsed": false
   },
   "outputs": [
    {
     "data": {
      "text/plain": [
       "Animal Collective - Summertime Clothes       91\n",
       "Surfer Blood - Floating Vibes                81\n",
       "The Dismemberment Plan - Gyroscope           75\n",
       "Can - Vitamin C                              75\n",
       "Fleet Foxes - White Winter Hymnal            73\n",
       "Can - I'm So Green                           72\n",
       "Surfer Blood - Take It Easy                  72\n",
       "Wu-Tang Clan - Shame on a Nigga              71\n",
       "The Kinks - Days                             70\n",
       "The Unicorns - Ready To Die                  69\n",
       "Panda Bear - Ponytail                        69\n",
       "Thelonious Monk - Epistrophy                 68\n",
       "The Jam - Pretty Green                       63\n",
       "Fleet Foxes - Tiger Mountain Peasant Song    62\n",
       "Can - Sing Swan Song                         62\n",
       "dtype: int64"
      ]
     },
     "execution_count": 8,
     "metadata": {},
     "output_type": "execute_result"
    }
   ],
   "source": [
    "# most listened to tracks\n",
    "df.apply(lambda row: '{} - {}'.format(row['artist'], row['track']), axis=1).value_counts().head(15)"
   ]
  },
  {
   "cell_type": "code",
   "execution_count": null,
   "metadata": {
    "collapsed": true
   },
   "outputs": [],
   "source": []
  }
 ],
 "metadata": {
  "kernelspec": {
   "display_name": "Python 2",
   "language": "python",
   "name": "python2"
  },
  "language_info": {
   "codemirror_mode": {
    "name": "ipython",
    "version": 2
   },
   "file_extension": ".py",
   "mimetype": "text/x-python",
   "name": "python",
   "nbconvert_exporter": "python",
   "pygments_lexer": "ipython2",
   "version": "2.7.11"
  }
 },
 "nbformat": 4,
 "nbformat_minor": 0
}
