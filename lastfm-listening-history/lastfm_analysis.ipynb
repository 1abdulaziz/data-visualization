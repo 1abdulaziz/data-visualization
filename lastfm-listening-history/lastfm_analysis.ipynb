{
 "cells": [
  {
   "cell_type": "code",
   "execution_count": 1,
   "metadata": {
    "collapsed": false
   },
   "outputs": [],
   "source": [
    "import pandas as pd"
   ]
  },
  {
   "cell_type": "code",
   "execution_count": 2,
   "metadata": {
    "collapsed": false
   },
   "outputs": [
    {
     "data": {
      "text/html": [
       "<div>\n",
       "<table border=\"1\" class=\"dataframe\">\n",
       "  <thead>\n",
       "    <tr style=\"text-align: right;\">\n",
       "      <th></th>\n",
       "      <th>artist</th>\n",
       "      <th>album</th>\n",
       "      <th>track</th>\n",
       "      <th>datetime</th>\n",
       "    </tr>\n",
       "  </thead>\n",
       "  <tbody>\n",
       "    <tr>\n",
       "      <th>0</th>\n",
       "      <td>Matt Dunkley</td>\n",
       "      <td>Six Cycles</td>\n",
       "      <td>Cycle 1</td>\n",
       "      <td>2016-03-25 00:14:58</td>\n",
       "    </tr>\n",
       "    <tr>\n",
       "      <th>1</th>\n",
       "      <td>Cremation Lily</td>\n",
       "      <td>Radiance and Instability</td>\n",
       "      <td>Radiance and Instability</td>\n",
       "      <td>2016-03-25 00:10:34</td>\n",
       "    </tr>\n",
       "    <tr>\n",
       "      <th>2</th>\n",
       "      <td>Jameszoo</td>\n",
       "      <td>NaN</td>\n",
       "      <td>Flake</td>\n",
       "      <td>2016-03-25 00:06:41</td>\n",
       "    </tr>\n",
       "    <tr>\n",
       "      <th>3</th>\n",
       "      <td>Vanessa Amara</td>\n",
       "      <td>NaN</td>\n",
       "      <td>Untitled 2</td>\n",
       "      <td>2016-03-25 00:03:07</td>\n",
       "    </tr>\n",
       "    <tr>\n",
       "      <th>4</th>\n",
       "      <td>Dalhous</td>\n",
       "      <td>The Composite Moods Collection Vol.1: House Nu...</td>\n",
       "      <td>Content For Feelings</td>\n",
       "      <td>2016-03-24 23:59:39</td>\n",
       "    </tr>\n",
       "  </tbody>\n",
       "</table>\n",
       "</div>"
      ],
      "text/plain": [
       "           artist                                              album  \\\n",
       "0    Matt Dunkley                                         Six Cycles   \n",
       "1  Cremation Lily                           Radiance and Instability   \n",
       "2        Jameszoo                                                NaN   \n",
       "3   Vanessa Amara                                                NaN   \n",
       "4         Dalhous  The Composite Moods Collection Vol.1: House Nu...   \n",
       "\n",
       "                      track             datetime  \n",
       "0                   Cycle 1  2016-03-25 00:14:58  \n",
       "1  Radiance and Instability  2016-03-25 00:10:34  \n",
       "2                     Flake  2016-03-25 00:06:41  \n",
       "3                Untitled 2  2016-03-25 00:03:07  \n",
       "4      Content For Feelings  2016-03-24 23:59:39  "
      ]
     },
     "execution_count": 2,
     "metadata": {},
     "output_type": "execute_result"
    }
   ],
   "source": [
    "# read the scrobbles data set\n",
    "df = pd.read_csv('data/lastfm_scrobbles.csv', parse_dates=True, infer_datetime_format=True)\n",
    "df = df.drop('timestamp', axis=1)\n",
    "df.head()"
   ]
  },
  {
   "cell_type": "code",
   "execution_count": 3,
   "metadata": {
    "collapsed": false
   },
   "outputs": [
    {
     "data": {
      "text/plain": [
       "True"
      ]
     },
     "execution_count": 3,
     "metadata": {},
     "output_type": "execute_result"
    }
   ],
   "source": [
    "df.index.is_unique"
   ]
  },
  {
   "cell_type": "code",
   "execution_count": 4,
   "metadata": {
    "collapsed": false
   },
   "outputs": [
    {
     "data": {
      "text/plain": [
       "224258"
      ]
     },
     "execution_count": 4,
     "metadata": {},
     "output_type": "execute_result"
    }
   ],
   "source": [
    "# according to last.fm web site, i have ~259,000 scrobbles - missing the ones from before 2007\n",
    "len(df)"
   ]
  },
  {
   "cell_type": "code",
   "execution_count": 5,
   "metadata": {
    "collapsed": false
   },
   "outputs": [
    {
     "data": {
      "text/plain": [
       "15016"
      ]
     },
     "execution_count": 5,
     "metadata": {},
     "output_type": "execute_result"
    }
   ],
   "source": [
    "# how many artists?\n",
    "len(df['artist'].unique())"
   ]
  },
  {
   "cell_type": "code",
   "execution_count": 6,
   "metadata": {
    "collapsed": false
   },
   "outputs": [
    {
     "data": {
      "text/plain": [
       "David Bowie            2511\n",
       "The Kinks              2208\n",
       "The Beatles            1912\n",
       "Bob Dylan              1665\n",
       "Radiohead              1663\n",
       "Yo La Tengo            1533\n",
       "The Rolling Stones     1488\n",
       "Belle and Sebastian    1430\n",
       "Pavement               1418\n",
       "Frank Zappa            1334\n",
       "Name: artist, dtype: int64"
      ]
     },
     "execution_count": 6,
     "metadata": {},
     "output_type": "execute_result"
    }
   ],
   "source": [
    "# most listened to artists\n",
    "df['artist'].value_counts().head(10)"
   ]
  },
  {
   "cell_type": "code",
   "execution_count": 7,
   "metadata": {
    "collapsed": false
   },
   "outputs": [
    {
     "data": {
      "text/plain": [
       "The Kinks - The Kink Kronikles                        746\n",
       "Fleet Foxes - Fleet Foxes                             544\n",
       "The Residents - The Commercial Album                  530\n",
       "Frank Sinatra - Nothing But The Best                  516\n",
       "Madvillain - Madvillainy                              493\n",
       "Devo - Pioneers Who Got Scalped                       492\n",
       "Robert Johnson - King Of The Delta Blues              488\n",
       "Surfer Blood - Astro Coast                            484\n",
       "The Clash - London Calling                            484\n",
       "Vampire Weekend - Vampire Weekend                     467\n",
       "Os Mutantes - Os Mutantes                             466\n",
       "Frank Black - Teenager of the Year                    464\n",
       "Grizzly Bear - Veckatimest                            451\n",
       "Neutral Milk Hotel - In the Aeroplane Over the Sea    441\n",
       "Girl Talk - Feed the Animals                          441\n",
       "dtype: int64"
      ]
     },
     "execution_count": 7,
     "metadata": {},
     "output_type": "execute_result"
    }
   ],
   "source": [
    "# most listened to albums\n",
    "df.apply(lambda row: '{} - {}'.format(row['artist'], row['album']), axis=1).value_counts().head(15)"
   ]
  },
  {
   "cell_type": "code",
   "execution_count": 8,
   "metadata": {
    "collapsed": false
   },
   "outputs": [
    {
     "data": {
      "text/plain": [
       "Animal Collective - Summertime Clothes     91\n",
       "Surfer Blood - Floating Vibes              81\n",
       "Can - Vitamin C                            75\n",
       "The Dismemberment Plan - Gyroscope         75\n",
       "Fleet Foxes - White Winter Hymnal          73\n",
       "Can - I'm So Green                         72\n",
       "Surfer Blood - Take It Easy                72\n",
       "Wu-Tang Clan - Shame on a Nigga            71\n",
       "The Kinks - Days                           70\n",
       "Panda Bear - Ponytail                      69\n",
       "The Unicorns - Ready To Die                69\n",
       "Thelonious Monk - Epistrophy               68\n",
       "The Jam - Pretty Green                     63\n",
       "Can - Sing Swan Song                       62\n",
       "The Velvet Underground - Pale Blue Eyes    62\n",
       "dtype: int64"
      ]
     },
     "execution_count": 8,
     "metadata": {},
     "output_type": "execute_result"
    }
   ],
   "source": [
    "# most listened to tracks\n",
    "df.apply(lambda row: '{} - {}'.format(row['artist'], row['track']), axis=1).value_counts().head(15)"
   ]
  },
  {
   "cell_type": "code",
   "execution_count": null,
   "metadata": {
    "collapsed": true
   },
   "outputs": [],
   "source": []
  }
 ],
 "metadata": {
  "kernelspec": {
   "display_name": "Python 2",
   "language": "python",
   "name": "python2"
  },
  "language_info": {
   "codemirror_mode": {
    "name": "ipython",
    "version": 2
   },
   "file_extension": ".py",
   "mimetype": "text/x-python",
   "name": "python",
   "nbconvert_exporter": "python",
   "pygments_lexer": "ipython2",
   "version": "2.7.11"
  }
 },
 "nbformat": 4,
 "nbformat_minor": 0
}
