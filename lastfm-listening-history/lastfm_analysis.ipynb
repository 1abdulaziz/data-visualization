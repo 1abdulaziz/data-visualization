{
 "cells": [
  {
   "cell_type": "code",
   "execution_count": 1,
   "metadata": {
    "collapsed": false
   },
   "outputs": [],
   "source": [
    "import pandas as pd"
   ]
  },
  {
   "cell_type": "code",
   "execution_count": 2,
   "metadata": {
    "collapsed": false
   },
   "outputs": [
    {
     "data": {
      "text/html": [
       "<div>\n",
       "<table border=\"1\" class=\"dataframe\">\n",
       "  <thead>\n",
       "    <tr style=\"text-align: right;\">\n",
       "      <th></th>\n",
       "      <th>artist</th>\n",
       "      <th>album</th>\n",
       "      <th>track</th>\n",
       "      <th>datetime</th>\n",
       "    </tr>\n",
       "  </thead>\n",
       "  <tbody>\n",
       "    <tr>\n",
       "      <th>0</th>\n",
       "      <td>George Harrison</td>\n",
       "      <td>All Things Must Pass (Remastered)</td>\n",
       "      <td>Wah-Wah</td>\n",
       "      <td>2016-03-14 23:45:10</td>\n",
       "    </tr>\n",
       "    <tr>\n",
       "      <th>1</th>\n",
       "      <td>Lemon Jelly</td>\n",
       "      <td>Lemon Jelly.ky</td>\n",
       "      <td>The Staunton Lick</td>\n",
       "      <td>2016-03-14 23:39:47</td>\n",
       "    </tr>\n",
       "    <tr>\n",
       "      <th>2</th>\n",
       "      <td>Jens Lekman</td>\n",
       "      <td>Night Falls Over Kortedala</td>\n",
       "      <td>A Postcard to Nina</td>\n",
       "      <td>2016-03-14 23:34:46</td>\n",
       "    </tr>\n",
       "    <tr>\n",
       "      <th>3</th>\n",
       "      <td>Wings</td>\n",
       "      <td>Wild Life</td>\n",
       "      <td>Love Is Strange - 1993 Digital Remaster</td>\n",
       "      <td>2016-03-14 23:29:57</td>\n",
       "    </tr>\n",
       "    <tr>\n",
       "      <th>4</th>\n",
       "      <td>Jonathan Richman</td>\n",
       "      <td>I, Jonathan</td>\n",
       "      <td>Parties In The U.S.A.</td>\n",
       "      <td>2016-03-14 23:25:13</td>\n",
       "    </tr>\n",
       "  </tbody>\n",
       "</table>\n",
       "</div>"
      ],
      "text/plain": [
       "             artist                              album  \\\n",
       "0   George Harrison  All Things Must Pass (Remastered)   \n",
       "1       Lemon Jelly                     Lemon Jelly.ky   \n",
       "2       Jens Lekman         Night Falls Over Kortedala   \n",
       "3             Wings                          Wild Life   \n",
       "4  Jonathan Richman                        I, Jonathan   \n",
       "\n",
       "                                     track             datetime  \n",
       "0                                  Wah-Wah  2016-03-14 23:45:10  \n",
       "1                        The Staunton Lick  2016-03-14 23:39:47  \n",
       "2                       A Postcard to Nina  2016-03-14 23:34:46  \n",
       "3  Love Is Strange - 1993 Digital Remaster  2016-03-14 23:29:57  \n",
       "4                    Parties In The U.S.A.  2016-03-14 23:25:13  "
      ]
     },
     "execution_count": 2,
     "metadata": {},
     "output_type": "execute_result"
    }
   ],
   "source": [
    "# read the scrobbles data set\n",
    "df = pd.read_csv('data/lastfm_scrobbles.csv', parse_dates=True, infer_datetime_format=True)\n",
    "df = df.drop('timestamp', axis=1)\n",
    "df.head()"
   ]
  },
  {
   "cell_type": "code",
   "execution_count": 3,
   "metadata": {
    "collapsed": false
   },
   "outputs": [
    {
     "data": {
      "text/plain": [
       "True"
      ]
     },
     "execution_count": 3,
     "metadata": {},
     "output_type": "execute_result"
    }
   ],
   "source": [
    "df.index.is_unique"
   ]
  },
  {
   "cell_type": "code",
   "execution_count": 4,
   "metadata": {
    "collapsed": false
   },
   "outputs": [
    {
     "data": {
      "text/plain": [
       "221759"
      ]
     },
     "execution_count": 4,
     "metadata": {},
     "output_type": "execute_result"
    }
   ],
   "source": [
    "# according to last.fm web site, i have ~257,000 scrobbles\n",
    "len(df)"
   ]
  },
  {
   "cell_type": "code",
   "execution_count": 5,
   "metadata": {
    "collapsed": false
   },
   "outputs": [
    {
     "data": {
      "text/plain": [
       "14464"
      ]
     },
     "execution_count": 5,
     "metadata": {},
     "output_type": "execute_result"
    }
   ],
   "source": [
    "# according to last.fm web site, i have ~14,400 artists\n",
    "len(df['artist'].unique())"
   ]
  },
  {
   "cell_type": "code",
   "execution_count": 6,
   "metadata": {
    "collapsed": false
   },
   "outputs": [
    {
     "data": {
      "text/plain": [
       "David Bowie            2511\n",
       "The Kinks              2203\n",
       "The Beatles            1910\n",
       "Bob Dylan              1665\n",
       "Radiohead              1662\n",
       "Yo La Tengo            1531\n",
       "The Rolling Stones     1486\n",
       "Belle and Sebastian    1429\n",
       "Pavement               1417\n",
       "Frank Zappa            1331\n",
       "Name: artist, dtype: int64"
      ]
     },
     "execution_count": 6,
     "metadata": {},
     "output_type": "execute_result"
    }
   ],
   "source": [
    "# most listened to artists\n",
    "df['artist'].value_counts().head(10)"
   ]
  },
  {
   "cell_type": "code",
   "execution_count": 7,
   "metadata": {
    "collapsed": false
   },
   "outputs": [
    {
     "data": {
      "text/plain": [
       "The Kinks - The Kink Kronikles              746\n",
       "Fleet Foxes - Fleet Foxes                   544\n",
       "The Residents - The Commercial Album        529\n",
       "Frank Sinatra - Nothing But The Best        516\n",
       "Devo - Pioneers Who Got Scalped             492\n",
       "Madvillain - Madvillainy                    491\n",
       "Robert Johnson - King Of The Delta Blues    488\n",
       "Surfer Blood - Astro Coast                  484\n",
       "The Clash - London Calling                  484\n",
       "Vampire Weekend - Vampire Weekend           467\n",
       "Os Mutantes - Os Mutantes                   466\n",
       "Frank Black - Teenager of the Year          461\n",
       "Grizzly Bear - Veckatimest                  451\n",
       "Girl Talk - Feed the Animals                441\n",
       "The Dismemberment Plan - Emergency & I      441\n",
       "dtype: int64"
      ]
     },
     "execution_count": 7,
     "metadata": {},
     "output_type": "execute_result"
    }
   ],
   "source": [
    "# most listened to albums\n",
    "df.apply(lambda row: '{} - {}'.format(row['artist'], row['album']), axis=1).value_counts().head(15)"
   ]
  },
  {
   "cell_type": "code",
   "execution_count": 8,
   "metadata": {
    "collapsed": false
   },
   "outputs": [
    {
     "data": {
      "text/plain": [
       "Animal Collective - Summertime Clothes       91\n",
       "Surfer Blood - Floating Vibes                81\n",
       "Can - Vitamin C                              75\n",
       "The Dismemberment Plan - Gyroscope           75\n",
       "Fleet Foxes - White Winter Hymnal            73\n",
       "Can - I'm So Green                           72\n",
       "Surfer Blood - Take It Easy                  72\n",
       "Wu-Tang Clan - Shame on a Nigga              71\n",
       "The Kinks - Days                             70\n",
       "Panda Bear - Ponytail                        69\n",
       "Thelonious Monk - Epistrophy                 68\n",
       "The Unicorns - Ready To Die                  68\n",
       "The Jam - Pretty Green                       63\n",
       "The Cars - Just What I Needed                62\n",
       "Fleet Foxes - Tiger Mountain Peasant Song    62\n",
       "dtype: int64"
      ]
     },
     "execution_count": 8,
     "metadata": {},
     "output_type": "execute_result"
    }
   ],
   "source": [
    "# most listened to tracks\n",
    "df.apply(lambda row: '{} - {}'.format(row['artist'], row['track']), axis=1).value_counts().head(15)"
   ]
  },
  {
   "cell_type": "code",
   "execution_count": null,
   "metadata": {
    "collapsed": true
   },
   "outputs": [],
   "source": []
  }
 ],
 "metadata": {
  "kernelspec": {
   "display_name": "Python 2",
   "language": "python",
   "name": "python2"
  },
  "language_info": {
   "codemirror_mode": {
    "name": "ipython",
    "version": 2
   },
   "file_extension": ".py",
   "mimetype": "text/x-python",
   "name": "python",
   "nbconvert_exporter": "python",
   "pygments_lexer": "ipython2",
   "version": "2.7.11"
  }
 },
 "nbformat": 4,
 "nbformat_minor": 0
}
