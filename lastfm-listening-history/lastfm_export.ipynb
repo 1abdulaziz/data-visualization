{
 "cells": [
  {
   "cell_type": "markdown",
   "metadata": {},
   "source": [
    "# Downloading Last.fm listening history\n",
    "\n",
    "We'll be using this API method: http://www.last.fm/api/show/user.getRecentTracks\n",
    "\n",
    "For anything more complicated, you might use this Python wrapper for the API: https://github.com/pylast/pylast"
   ]
  },
  {
   "cell_type": "code",
   "execution_count": 1,
   "metadata": {
    "collapsed": false
   },
   "outputs": [],
   "source": [
    "import requests, json, time, pandas as pd\n",
    "from keys import lastfm_api_key as key, lastfm_user_name as username"
   ]
  },
  {
   "cell_type": "code",
   "execution_count": 2,
   "metadata": {
    "collapsed": false
   },
   "outputs": [],
   "source": [
    "pause_duration = 0.2\n",
    "start_time = time.time()"
   ]
  },
  {
   "cell_type": "code",
   "execution_count": 3,
   "metadata": {
    "collapsed": false
   },
   "outputs": [],
   "source": [
    "# set up the url to connect to api\n",
    "url = 'https://ws.audioscrobbler.com/2.0/?method=user.getrecenttracks&user={}&api_key={}&limit={}&extended={}&page={}&format=json'\n",
    "limit = 200 #you can retrieve max 200 records per call - we'll do the max\n",
    "extended = 0 #retrieve extended data for each track, 0=no, 1=yes\n",
    "page = 1 #page to start at"
   ]
  },
  {
   "cell_type": "code",
   "execution_count": 4,
   "metadata": {
    "collapsed": false
   },
   "outputs": [
    {
     "name": "stdout",
     "output_type": "stream",
     "text": [
      "1109\n"
     ]
    }
   ],
   "source": [
    "# make first request, just to get the total number of pages\n",
    "request_url = url.format(username, key, limit, extended, page)\n",
    "total_pages = requests.get(request_url).json()['recenttracks']['@attr']['totalPages']\n",
    "print total_pages"
   ]
  },
  {
   "cell_type": "code",
   "execution_count": 5,
   "metadata": {
    "collapsed": true
   },
   "outputs": [],
   "source": [
    "# initialize lists to contain response fields\n",
    "responses = []\n",
    "artist_names = []\n",
    "album_names = []\n",
    "track_names = []\n",
    "timestamps = []"
   ]
  },
  {
   "cell_type": "code",
   "execution_count": 6,
   "metadata": {
    "collapsed": false
   },
   "outputs": [
    {
     "name": "stdout",
     "output_type": "stream",
     "text": [
      "10 20 30 40 50 60 70 80 90 100 110 120 130 140 150 160 170 180 190 200 210 220 230 240 250 260 270 280 290 300 310 320 330 340 350 360 370 380 390 400 410 420 430 440 450 460 470 480 490 500 510 520 530 540 550 560 570 580 590 600 610 620 630 640 650 660 670 680 690 700 710 720 730 740 750 760 770 780 790 800 810 820 830 840 850 860 870 880 890 900 910 920 930 940 950 960 970 980 990 1000 1010 1020 1030 1040 1050 1060 1070 1080 1090 1100\n"
     ]
    }
   ],
   "source": [
    "# request each page of data one at a time\n",
    "for page in range(1, int(total_pages) + 1, 1):\n",
    "    if page % 10 == 0: print page,\n",
    "    time.sleep(pause_duration)\n",
    "    request_url = url.format(username, key, limit, extended, page)\n",
    "    responses.append(requests.get(request_url))"
   ]
  },
  {
   "cell_type": "code",
   "execution_count": 7,
   "metadata": {
    "collapsed": true
   },
   "outputs": [],
   "source": [
    "# parse the fields out of each scrobble in each page (aka response) of scrobbles\n",
    "for response in responses:\n",
    "    scrobbles = response.json()\n",
    "    for scrobble in scrobbles['recenttracks']['track']:\n",
    "        # only retain completed scrobbles (aka, with timestamp and not 'now playing')\n",
    "        if 'date' in scrobble.keys():\n",
    "            artist_names.append(scrobble['artist']['#text'])\n",
    "            album_names.append(scrobble['album']['#text'])\n",
    "            track_names.append(scrobble['name'])\n",
    "            timestamps.append(scrobble['date']['uts'])"
   ]
  },
  {
   "cell_type": "code",
   "execution_count": 8,
   "metadata": {
    "collapsed": false
   },
   "outputs": [],
   "source": [
    "# create and populate a dataframe to contain the data\n",
    "df = pd.DataFrame()\n",
    "df['artist'] = artist_names\n",
    "df['album'] = album_names\n",
    "df['track'] = track_names\n",
    "df['timestamp'] = timestamps\n",
    "df['datetime'] = pd.to_datetime(df['timestamp'].astype(int), unit='s')"
   ]
  },
  {
   "cell_type": "code",
   "execution_count": 9,
   "metadata": {
    "collapsed": false
   },
   "outputs": [
    {
     "name": "stdout",
     "output_type": "stream",
     "text": [
      "221,759 total rows\n"
     ]
    },
    {
     "data": {
      "text/html": [
       "<div>\n",
       "<table border=\"1\" class=\"dataframe\">\n",
       "  <thead>\n",
       "    <tr style=\"text-align: right;\">\n",
       "      <th></th>\n",
       "      <th>artist</th>\n",
       "      <th>album</th>\n",
       "      <th>track</th>\n",
       "      <th>timestamp</th>\n",
       "      <th>datetime</th>\n",
       "    </tr>\n",
       "  </thead>\n",
       "  <tbody>\n",
       "    <tr>\n",
       "      <th>0</th>\n",
       "      <td>George Harrison</td>\n",
       "      <td>All Things Must Pass (Remastered)</td>\n",
       "      <td>Wah-Wah</td>\n",
       "      <td>1457999110</td>\n",
       "      <td>2016-03-14 23:45:10</td>\n",
       "    </tr>\n",
       "    <tr>\n",
       "      <th>1</th>\n",
       "      <td>Lemon Jelly</td>\n",
       "      <td>Lemon Jelly.ky</td>\n",
       "      <td>The Staunton Lick</td>\n",
       "      <td>1457998787</td>\n",
       "      <td>2016-03-14 23:39:47</td>\n",
       "    </tr>\n",
       "    <tr>\n",
       "      <th>2</th>\n",
       "      <td>Jens Lekman</td>\n",
       "      <td>Night Falls Over Kortedala</td>\n",
       "      <td>A Postcard to Nina</td>\n",
       "      <td>1457998486</td>\n",
       "      <td>2016-03-14 23:34:46</td>\n",
       "    </tr>\n",
       "    <tr>\n",
       "      <th>3</th>\n",
       "      <td>Wings</td>\n",
       "      <td>Wild Life</td>\n",
       "      <td>Love Is Strange - 1993 Digital Remaster</td>\n",
       "      <td>1457998197</td>\n",
       "      <td>2016-03-14 23:29:57</td>\n",
       "    </tr>\n",
       "    <tr>\n",
       "      <th>4</th>\n",
       "      <td>Jonathan Richman</td>\n",
       "      <td>I, Jonathan</td>\n",
       "      <td>Parties In The U.S.A.</td>\n",
       "      <td>1457997913</td>\n",
       "      <td>2016-03-14 23:25:13</td>\n",
       "    </tr>\n",
       "  </tbody>\n",
       "</table>\n",
       "</div>"
      ],
      "text/plain": [
       "             artist                              album  \\\n",
       "0   George Harrison  All Things Must Pass (Remastered)   \n",
       "1       Lemon Jelly                     Lemon Jelly.ky   \n",
       "2       Jens Lekman         Night Falls Over Kortedala   \n",
       "3             Wings                          Wild Life   \n",
       "4  Jonathan Richman                        I, Jonathan   \n",
       "\n",
       "                                     track   timestamp            datetime  \n",
       "0                                  Wah-Wah  1457999110 2016-03-14 23:45:10  \n",
       "1                        The Staunton Lick  1457998787 2016-03-14 23:39:47  \n",
       "2                       A Postcard to Nina  1457998486 2016-03-14 23:34:46  \n",
       "3  Love Is Strange - 1993 Digital Remaster  1457998197 2016-03-14 23:29:57  \n",
       "4                    Parties In The U.S.A.  1457997913 2016-03-14 23:25:13  "
      ]
     },
     "execution_count": 9,
     "metadata": {},
     "output_type": "execute_result"
    }
   ],
   "source": [
    "# save to csv and display the data\n",
    "df.to_csv('data/lastfm_scrobbles.csv', index=None, encoding='utf-8')\n",
    "print '{:,} total rows'.format(len(df))\n",
    "df.head()"
   ]
  },
  {
   "cell_type": "code",
   "execution_count": 10,
   "metadata": {
    "collapsed": false
   },
   "outputs": [
    {
     "name": "stdout",
     "output_type": "stream",
     "text": [
      "Process took 708.98 seconds to finish\n"
     ]
    }
   ],
   "source": [
    "print 'Process took {} seconds to finish'.format(round(time.time() - start_time, 2))"
   ]
  },
  {
   "cell_type": "code",
   "execution_count": null,
   "metadata": {
    "collapsed": true
   },
   "outputs": [],
   "source": []
  }
 ],
 "metadata": {
  "kernelspec": {
   "display_name": "Python 2",
   "language": "python",
   "name": "python2"
  },
  "language_info": {
   "codemirror_mode": {
    "name": "ipython",
    "version": 2
   },
   "file_extension": ".py",
   "mimetype": "text/x-python",
   "name": "python",
   "nbconvert_exporter": "python",
   "pygments_lexer": "ipython2",
   "version": "2.7.11"
  }
 },
 "nbformat": 4,
 "nbformat_minor": 0
}
