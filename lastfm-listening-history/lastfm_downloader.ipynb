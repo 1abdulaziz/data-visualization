{
 "cells": [
  {
   "cell_type": "markdown",
   "metadata": {},
   "source": [
    "# Download last.fm listening history\n",
    "\n",
    "  - To see this analysis live, check out my article [\"Analyzing Last.fm Listening History\"](http://geoffboeing.com/2016/05/analyzing-lastfm-history/)\n",
    "  - My last.fm page: http://www.last.fm/user/gboeing\n",
    "  - API documentation: http://www.last.fm/api\n",
    "  - For anything more complicated, you might use this Python wrapper for the API: https://github.com/pylast/pylast\n",
    "  \n",
    "This tool separately downloads your all-time most played tracks, artists, and albums. Then it downloads all of your scrobbles in order of recency. Each of these 4 data sets are saved to separate CSV files. It downloads the \"all-time most\" data separately because (at least for my data) my massive iTunes history scrobble-upload in 2007 is included in the all-time most played tracks/artists/albums but is excluded from the recent tracks API endpoint. For accurate analysis of my all-time scrobbles, I need to look at those separate all-time lists, or else 4 years of listening history (from iTunes) are ignored in the calculations.\n",
    "\n",
    "Replace the \"from keys import...\" line of code with two new lines of code (replace placeholder values with your actual values):\n",
    "  1. key=YOUR-LASTFM-API-KEY\n",
    "  2. username=YOUR-LASTFM-USERNAME"
   ]
  },
  {
   "cell_type": "code",
   "execution_count": 1,
   "metadata": {
    "collapsed": true
   },
   "outputs": [],
   "source": [
    "import requests, json, time, pandas as pd\n",
    "from keys import lastfm_api_key as key, lastfm_user_name as username"
   ]
  },
  {
   "cell_type": "code",
   "execution_count": 2,
   "metadata": {
    "collapsed": true
   },
   "outputs": [],
   "source": [
    "# how long to pause between consecutive API requests\n",
    "pause_duration = 0.2"
   ]
  },
  {
   "cell_type": "markdown",
   "metadata": {},
   "source": [
    "## First get your all-time most played tracks, artists, and albums"
   ]
  },
  {
   "cell_type": "code",
   "execution_count": 3,
   "metadata": {
    "collapsed": false
   },
   "outputs": [],
   "source": [
    "url = 'https://ws.audioscrobbler.com/2.0/?method=user.get{}&user={}&api_key={}&limit={}&extended={}&page={}&format=json'\n",
    "limit = 200 #api lets you retrieve up to 200 records per call\n",
    "extended = 0 #api lets you retrieve extended data for each track, 0=no, 1=yes\n",
    "page = 1 #page of results to start retrieving at"
   ]
  },
  {
   "cell_type": "code",
   "execution_count": 4,
   "metadata": {
    "collapsed": false
   },
   "outputs": [
    {
     "data": {
      "text/html": [
       "<div>\n",
       "<table border=\"1\" class=\"dataframe\">\n",
       "  <thead>\n",
       "    <tr style=\"text-align: right;\">\n",
       "      <th></th>\n",
       "      <th>artist</th>\n",
       "      <th>track</th>\n",
       "      <th>play_count</th>\n",
       "    </tr>\n",
       "  </thead>\n",
       "  <tbody>\n",
       "    <tr>\n",
       "      <th>0</th>\n",
       "      <td>Wolf Parade</td>\n",
       "      <td>Modern World</td>\n",
       "      <td>133</td>\n",
       "    </tr>\n",
       "    <tr>\n",
       "      <th>1</th>\n",
       "      <td>The Kinks</td>\n",
       "      <td>Waterloo Sunset</td>\n",
       "      <td>127</td>\n",
       "    </tr>\n",
       "    <tr>\n",
       "      <th>2</th>\n",
       "      <td>Badly Drawn Boy</td>\n",
       "      <td>Once Around the Block</td>\n",
       "      <td>117</td>\n",
       "    </tr>\n",
       "    <tr>\n",
       "      <th>3</th>\n",
       "      <td>The Zombies</td>\n",
       "      <td>This Will Be Our Year</td>\n",
       "      <td>113</td>\n",
       "    </tr>\n",
       "    <tr>\n",
       "      <th>4</th>\n",
       "      <td>The Kinks</td>\n",
       "      <td>Days</td>\n",
       "      <td>105</td>\n",
       "    </tr>\n",
       "  </tbody>\n",
       "</table>\n",
       "</div>"
      ],
      "text/plain": [
       "            artist                  track play_count\n",
       "0      Wolf Parade           Modern World        133\n",
       "1        The Kinks        Waterloo Sunset        127\n",
       "2  Badly Drawn Boy  Once Around the Block        117\n",
       "3      The Zombies  This Will Be Our Year        113\n",
       "4        The Kinks                   Days        105"
      ]
     },
     "execution_count": 4,
     "metadata": {},
     "output_type": "execute_result"
    }
   ],
   "source": [
    "method = 'toptracks'\n",
    "request_url = url.format(method, username, key, limit, extended, page)\n",
    "artist_names = []\n",
    "track_names = []\n",
    "play_counts = []\n",
    "response = requests.get(request_url).json()\n",
    "for item in response[method]['track']:\n",
    "    artist_names.append(item['artist']['name'])\n",
    "    track_names.append(item['name'])\n",
    "    play_counts.append(item['playcount'])\n",
    "\n",
    "top_tracks = pd.DataFrame()\n",
    "top_tracks['artist'] = artist_names\n",
    "top_tracks['track'] = track_names\n",
    "top_tracks['play_count'] = play_counts\n",
    "top_tracks.to_csv('data/lastfm_top_tracks.csv', index=None, encoding='utf-8')\n",
    "top_tracks.head()"
   ]
  },
  {
   "cell_type": "code",
   "execution_count": 5,
   "metadata": {
    "collapsed": false
   },
   "outputs": [
    {
     "data": {
      "text/html": [
       "<div>\n",
       "<table border=\"1\" class=\"dataframe\">\n",
       "  <thead>\n",
       "    <tr style=\"text-align: right;\">\n",
       "      <th></th>\n",
       "      <th>artist</th>\n",
       "      <th>play_count</th>\n",
       "    </tr>\n",
       "  </thead>\n",
       "  <tbody>\n",
       "    <tr>\n",
       "      <th>0</th>\n",
       "      <td>The Kinks</td>\n",
       "      <td>2764</td>\n",
       "    </tr>\n",
       "    <tr>\n",
       "      <th>1</th>\n",
       "      <td>David Bowie</td>\n",
       "      <td>2589</td>\n",
       "    </tr>\n",
       "    <tr>\n",
       "      <th>2</th>\n",
       "      <td>The Beatles</td>\n",
       "      <td>2431</td>\n",
       "    </tr>\n",
       "    <tr>\n",
       "      <th>3</th>\n",
       "      <td>Belle and Sebastian</td>\n",
       "      <td>2296</td>\n",
       "    </tr>\n",
       "    <tr>\n",
       "      <th>4</th>\n",
       "      <td>Radiohead</td>\n",
       "      <td>2156</td>\n",
       "    </tr>\n",
       "  </tbody>\n",
       "</table>\n",
       "</div>"
      ],
      "text/plain": [
       "                artist play_count\n",
       "0            The Kinks       2764\n",
       "1          David Bowie       2589\n",
       "2          The Beatles       2431\n",
       "3  Belle and Sebastian       2296\n",
       "4            Radiohead       2156"
      ]
     },
     "execution_count": 5,
     "metadata": {},
     "output_type": "execute_result"
    }
   ],
   "source": [
    "method = 'topartists'\n",
    "request_url = url.format(method, username, key, limit, extended, page)\n",
    "artist_names = []\n",
    "play_counts = []\n",
    "response = requests.get(request_url).json()\n",
    "for item in response[method]['artist']:\n",
    "    artist_names.append(item['name'])\n",
    "    play_counts.append(item['playcount'])\n",
    "\n",
    "top_artists = pd.DataFrame()\n",
    "top_artists['artist'] = artist_names\n",
    "top_artists['play_count'] = play_counts\n",
    "top_artists.to_csv('data/lastfm_top_artists.csv', index=None, encoding='utf-8')\n",
    "top_artists.head()"
   ]
  },
  {
   "cell_type": "code",
   "execution_count": 6,
   "metadata": {
    "collapsed": false
   },
   "outputs": [
    {
     "data": {
      "text/html": [
       "<div>\n",
       "<table border=\"1\" class=\"dataframe\">\n",
       "  <thead>\n",
       "    <tr style=\"text-align: right;\">\n",
       "      <th></th>\n",
       "      <th>artist</th>\n",
       "      <th>album</th>\n",
       "      <th>play_count</th>\n",
       "    </tr>\n",
       "  </thead>\n",
       "  <tbody>\n",
       "    <tr>\n",
       "      <th>0</th>\n",
       "      <td>The Kinks</td>\n",
       "      <td>The Kink Kronikles</td>\n",
       "      <td>746</td>\n",
       "    </tr>\n",
       "    <tr>\n",
       "      <th>1</th>\n",
       "      <td>Frank Black</td>\n",
       "      <td>Teenager of the Year</td>\n",
       "      <td>704</td>\n",
       "    </tr>\n",
       "    <tr>\n",
       "      <th>2</th>\n",
       "      <td>Devo</td>\n",
       "      <td>Pioneers Who Got Scalped</td>\n",
       "      <td>690</td>\n",
       "    </tr>\n",
       "    <tr>\n",
       "      <th>3</th>\n",
       "      <td>The Zombies</td>\n",
       "      <td>Odessey and Oracle</td>\n",
       "      <td>675</td>\n",
       "    </tr>\n",
       "    <tr>\n",
       "      <th>4</th>\n",
       "      <td>Badly Drawn Boy</td>\n",
       "      <td>The Hour of Bewilderbeast</td>\n",
       "      <td>613</td>\n",
       "    </tr>\n",
       "  </tbody>\n",
       "</table>\n",
       "</div>"
      ],
      "text/plain": [
       "            artist                      album play_count\n",
       "0        The Kinks         The Kink Kronikles        746\n",
       "1      Frank Black       Teenager of the Year        704\n",
       "2             Devo   Pioneers Who Got Scalped        690\n",
       "3      The Zombies         Odessey and Oracle        675\n",
       "4  Badly Drawn Boy  The Hour of Bewilderbeast        613"
      ]
     },
     "execution_count": 6,
     "metadata": {},
     "output_type": "execute_result"
    }
   ],
   "source": [
    "method = 'topalbums'\n",
    "request_url = url.format(method, username, key, limit, extended, page)\n",
    "artist_names = []\n",
    "album_names = []\n",
    "play_counts = []\n",
    "response = requests.get(request_url).json()\n",
    "for item in response[method]['album']:\n",
    "    artist_names.append(item['artist']['name'])\n",
    "    album_names.append(item['name'])\n",
    "    play_counts.append(item['playcount'])\n",
    "\n",
    "top_albums = pd.DataFrame()\n",
    "top_albums['artist'] = artist_names\n",
    "top_albums['album'] = album_names\n",
    "top_albums['play_count'] = play_counts\n",
    "top_albums.to_csv('data/lastfm_top_albums.csv', index=None, encoding='utf-8')\n",
    "top_albums.head()"
   ]
  },
  {
   "cell_type": "markdown",
   "metadata": {},
   "source": [
    "## Now get all your scrobbles"
   ]
  },
  {
   "cell_type": "markdown",
   "metadata": {},
   "source": [
    "Last.fm provides this 'recenttracks' API method to get 'all' scrobbles. However, it seems to be pretty spotty for data from circa 2007. The best way to determine top tracks, artists, albums is with the cells above. However, the code below retrieves time series data of all scrobbles (but with the caveat of spotty data from 2007 and earlier).\n",
    "\n",
    "Sample URL: https://ws.audioscrobbler.com/2.0/?method=user.getrecenttracks&user=gboeing&api_key={}&limit=1&extended=0&page=1&format=json"
   ]
  },
  {
   "cell_type": "code",
   "execution_count": 7,
   "metadata": {
    "collapsed": false
   },
   "outputs": [],
   "source": [
    "def get_scrobbles(method='recenttracks', username=username, key=key, limit=200, extended=0, page=1, pages=0):\n",
    "    '''\n",
    "    method: api method\n",
    "    username/key: api credentials\n",
    "    limit: api lets you retrieve up to 200 records per call\n",
    "    extended: api lets you retrieve extended data for each track, 0=no, 1=yes\n",
    "    page: page of results to start retrieving at\n",
    "    pages: how many pages of results to retrieve. if 0, get as many as api can return.\n",
    "    '''\n",
    "    # initialize url and lists to contain response fields\n",
    "    url = 'https://ws.audioscrobbler.com/2.0/?method=user.get{}&user={}&api_key={}&limit={}&extended={}&page={}&format=json'\n",
    "    responses = []\n",
    "    artist_names = []\n",
    "    artist_mbids = []\n",
    "    album_names = []\n",
    "    album_mbids = []\n",
    "    track_names = []\n",
    "    track_mbids = []\n",
    "    timestamps = []\n",
    "    \n",
    "    # make first request, just to get the total number of pages\n",
    "    request_url = url.format(method, username, key, limit, extended, page)\n",
    "    response = requests.get(request_url).json()\n",
    "    total_pages = int(response[method]['@attr']['totalPages'])\n",
    "    if pages > 0:\n",
    "        total_pages = min([total_pages, pages])\n",
    "        \n",
    "    print('{} total pages to retrieve'.format(total_pages))\n",
    "    \n",
    "    # request each page of data one at a time\n",
    "    for page in range(1, int(total_pages) + 1, 1):\n",
    "        if page % 10 == 0: print(page, end=' ')\n",
    "        time.sleep(pause_duration)\n",
    "        request_url = url.format(method, username, key, limit, extended, page)\n",
    "        responses.append(requests.get(request_url))\n",
    "    \n",
    "    # parse the fields out of each scrobble in each page (aka response) of scrobbles\n",
    "    for response in responses:\n",
    "        scrobbles = response.json()\n",
    "        for scrobble in scrobbles[method]['track']:\n",
    "            # only retain completed scrobbles (aka, with timestamp and not 'now playing')\n",
    "            if 'date' in scrobble.keys():\n",
    "                artist_names.append(scrobble['artist']['#text'])\n",
    "                artist_mbids.append(scrobble['artist']['mbid'])\n",
    "                album_names.append(scrobble['album']['#text'])\n",
    "                album_mbids.append(scrobble['album']['mbid'])\n",
    "                track_names.append(scrobble['name'])\n",
    "                track_mbids.append(scrobble['mbid'])\n",
    "                timestamps.append(scrobble['date']['uts'])\n",
    "                \n",
    "    # create and populate a dataframe to contain the data\n",
    "    df = pd.DataFrame()\n",
    "    df['artist'] = artist_names\n",
    "    df['artist_mbid'] = artist_mbids\n",
    "    df['album'] = album_names\n",
    "    df['album_mbid'] = album_mbids\n",
    "    df['track'] = track_names\n",
    "    df['track_mbid'] = track_mbids\n",
    "    df['timestamp'] = timestamps\n",
    "    df['datetime'] = pd.to_datetime(df['timestamp'].astype(int), unit='s')\n",
    "    \n",
    "    return df"
   ]
  },
  {
   "cell_type": "code",
   "execution_count": 8,
   "metadata": {
    "collapsed": false
   },
   "outputs": [
    {
     "name": "stdout",
     "output_type": "stream",
     "text": [
      "1165 total pages to retrieve\n",
      "10 20 30 40 50 60 70 80 90 100 110 120 130 140 150 160 170 180 190 200 210 220 230 240 250 260 270 280 290 300 310 320 330 340 350 360 370 380 390 400 410 420 430 440 450 460 470 480 490 500 510 520 530 540 550 560 570 580 590 600 610 620 630 640 650 660 670 680 690 700 710 720 730 740 750 760 770 780 790 800 810 820 830 840 850 860 870 880 890 900 910 920 930 940 950 960 970 980 990 1000 1010 1020 1030 1040 1050 1060 1070 1080 1090 1100 1110 1120 1130 1140 1150 1160 "
     ]
    }
   ],
   "source": [
    "# get all scrobbled tracks ever, in order of recency (pages=0 to get all)\n",
    "scrobbles = get_scrobbles(pages=0)"
   ]
  },
  {
   "cell_type": "code",
   "execution_count": 9,
   "metadata": {
    "collapsed": false
   },
   "outputs": [
    {
     "name": "stdout",
     "output_type": "stream",
     "text": [
      "232,859 total rows\n"
     ]
    },
    {
     "data": {
      "text/html": [
       "<div>\n",
       "<table border=\"1\" class=\"dataframe\">\n",
       "  <thead>\n",
       "    <tr style=\"text-align: right;\">\n",
       "      <th></th>\n",
       "      <th>artist</th>\n",
       "      <th>artist_mbid</th>\n",
       "      <th>album</th>\n",
       "      <th>album_mbid</th>\n",
       "      <th>track</th>\n",
       "      <th>track_mbid</th>\n",
       "      <th>timestamp</th>\n",
       "      <th>datetime</th>\n",
       "    </tr>\n",
       "  </thead>\n",
       "  <tbody>\n",
       "    <tr>\n",
       "      <th>0</th>\n",
       "      <td>Israeli Folk Group</td>\n",
       "      <td></td>\n",
       "      <td>Crate Music, Vol. 2</td>\n",
       "      <td></td>\n",
       "      <td>Nigun A Tik</td>\n",
       "      <td></td>\n",
       "      <td>1466468768</td>\n",
       "      <td>2016-06-21 00:26:08</td>\n",
       "    </tr>\n",
       "    <tr>\n",
       "      <th>1</th>\n",
       "      <td>Jungle Fire</td>\n",
       "      <td>6052b119-dd4e-490f-9339-b22ee9c5a578</td>\n",
       "      <td>Tropicoso</td>\n",
       "      <td>1f98b804-9dd9-4d31-bbd4-4311a772fb3a</td>\n",
       "      <td>Comencemos (Let's Start)</td>\n",
       "      <td>b4e806ca-c3a1-4037-aef7-0f2f8c0c301f</td>\n",
       "      <td>1466468615</td>\n",
       "      <td>2016-06-21 00:23:35</td>\n",
       "    </tr>\n",
       "    <tr>\n",
       "      <th>2</th>\n",
       "      <td>Esquivel</td>\n",
       "      <td>cf3a09cd-6374-4050-8b70-b4de5bafd681</td>\n",
       "      <td>Esquivel! 1968</td>\n",
       "      <td></td>\n",
       "      <td>Mini Skirt</td>\n",
       "      <td>cd4b4662-5aab-4e19-a4ff-bf1599583910</td>\n",
       "      <td>1466468462</td>\n",
       "      <td>2016-06-21 00:21:02</td>\n",
       "    </tr>\n",
       "    <tr>\n",
       "      <th>3</th>\n",
       "      <td>Abaji</td>\n",
       "      <td>9f4fdaf9-07a4-432e-9453-3972578b9327</td>\n",
       "      <td>Route &amp; Roots</td>\n",
       "      <td></td>\n",
       "      <td>Route &amp; Roots</td>\n",
       "      <td></td>\n",
       "      <td>1466468411</td>\n",
       "      <td>2016-06-21 00:20:11</td>\n",
       "    </tr>\n",
       "    <tr>\n",
       "      <th>4</th>\n",
       "      <td>Urban Connection</td>\n",
       "      <td>b9dc7d83-be79-4e53-8022-d0e9b0181eb7</td>\n",
       "      <td>Urban Connection</td>\n",
       "      <td>331dc47f-5752-4d80-a2b6-b940f97f0d2e</td>\n",
       "      <td>Oblivion</td>\n",
       "      <td>bca226fc-befe-4d48-b823-772b13bc410e</td>\n",
       "      <td>1466468278</td>\n",
       "      <td>2016-06-21 00:17:58</td>\n",
       "    </tr>\n",
       "  </tbody>\n",
       "</table>\n",
       "</div>"
      ],
      "text/plain": [
       "               artist                           artist_mbid  \\\n",
       "0  Israeli Folk Group                                         \n",
       "1         Jungle Fire  6052b119-dd4e-490f-9339-b22ee9c5a578   \n",
       "2            Esquivel  cf3a09cd-6374-4050-8b70-b4de5bafd681   \n",
       "3               Abaji  9f4fdaf9-07a4-432e-9453-3972578b9327   \n",
       "4    Urban Connection  b9dc7d83-be79-4e53-8022-d0e9b0181eb7   \n",
       "\n",
       "                 album                            album_mbid  \\\n",
       "0  Crate Music, Vol. 2                                         \n",
       "1            Tropicoso  1f98b804-9dd9-4d31-bbd4-4311a772fb3a   \n",
       "2       Esquivel! 1968                                         \n",
       "3        Route & Roots                                         \n",
       "4     Urban Connection  331dc47f-5752-4d80-a2b6-b940f97f0d2e   \n",
       "\n",
       "                      track                            track_mbid   timestamp  \\\n",
       "0               Nigun A Tik                                        1466468768   \n",
       "1  Comencemos (Let's Start)  b4e806ca-c3a1-4037-aef7-0f2f8c0c301f  1466468615   \n",
       "2                Mini Skirt  cd4b4662-5aab-4e19-a4ff-bf1599583910  1466468462   \n",
       "3             Route & Roots                                        1466468411   \n",
       "4                  Oblivion  bca226fc-befe-4d48-b823-772b13bc410e  1466468278   \n",
       "\n",
       "             datetime  \n",
       "0 2016-06-21 00:26:08  \n",
       "1 2016-06-21 00:23:35  \n",
       "2 2016-06-21 00:21:02  \n",
       "3 2016-06-21 00:20:11  \n",
       "4 2016-06-21 00:17:58  "
      ]
     },
     "execution_count": 9,
     "metadata": {},
     "output_type": "execute_result"
    }
   ],
   "source": [
    "# save the dataset\n",
    "scrobbles.to_csv('data/lastfm_scrobbles.csv', index=None, encoding='utf-8')\n",
    "print('{:,} total rows'.format(len(scrobbles)))\n",
    "scrobbles.head()"
   ]
  },
  {
   "cell_type": "code",
   "execution_count": null,
   "metadata": {
    "collapsed": true
   },
   "outputs": [],
   "source": []
  }
 ],
 "metadata": {
  "kernelspec": {
   "display_name": "Python 3",
   "language": "python",
   "name": "python3"
  },
  "language_info": {
   "codemirror_mode": {
    "name": "ipython",
    "version": 3
   },
   "file_extension": ".py",
   "mimetype": "text/x-python",
   "name": "python",
   "nbconvert_exporter": "python",
   "pygments_lexer": "ipython3",
   "version": "3.5.1"
  }
 },
 "nbformat": 4,
 "nbformat_minor": 0
}
