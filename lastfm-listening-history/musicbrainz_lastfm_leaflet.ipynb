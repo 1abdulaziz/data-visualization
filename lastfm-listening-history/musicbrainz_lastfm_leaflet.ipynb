{
 "cells": [
  {
   "cell_type": "markdown",
   "metadata": {},
   "source": [
    "# Leaflet web map of Last.fm artists\n",
    "\n",
    "Convert the geocoded CSV file of artists produced by [musicbrainz_geocoder.ipynb](musicbrainz_geocoder.ipynb) to a GeoJS"
   ]
  },
  {
   "cell_type": "code",
   "execution_count": 9,
   "metadata": {
    "collapsed": true
   },
   "outputs": [],
   "source": [
    "import pandas as pd, json\n",
    "from IPython.display import IFrame"
   ]
  },
  {
   "cell_type": "code",
   "execution_count": 2,
   "metadata": {
    "collapsed": false
   },
   "outputs": [
    {
     "name": "stdout",
     "output_type": "stream",
     "text": [
      "12,507 total rows\n",
      "5,851 rows with lat-long\n",
      "1,931 unique lat-longs\n"
     ]
    }
   ],
   "source": [
    "# load the geocoded data set of artists\n",
    "df = pd.read_csv('data/mb_geocoded.csv', encoding='utf-8')\n",
    "print '{:,} total rows'.format(len(df))\n",
    "df = df[pd.notnull(df['place_latlng'])]\n",
    "print '{:,} rows with lat-long'.format(len(df))\n",
    "print '{:,} unique lat-longs'.format(len(df['place_latlng'].unique()))"
   ]
  },
  {
   "cell_type": "code",
   "execution_count": 3,
   "metadata": {
    "collapsed": false
   },
   "outputs": [
    {
     "data": {
      "text/html": [
       "<div>\n",
       "<table border=\"1\" class=\"dataframe\">\n",
       "  <thead>\n",
       "    <tr style=\"text-align: right;\">\n",
       "      <th></th>\n",
       "      <th>name</th>\n",
       "      <th>place_full</th>\n",
       "      <th>place_count</th>\n",
       "      <th>lat</th>\n",
       "      <th>lng</th>\n",
       "    </tr>\n",
       "  </thead>\n",
       "  <tbody>\n",
       "    <tr>\n",
       "      <th>3</th>\n",
       "      <td>The Temptations</td>\n",
       "      <td>Detroit, Wayne County, Michigan, United States</td>\n",
       "      <td>65</td>\n",
       "      <td>42.3486635</td>\n",
       "      <td>-83.0567374</td>\n",
       "    </tr>\n",
       "    <tr>\n",
       "      <th>4</th>\n",
       "      <td>Nick Cave &amp; The Bad Seeds</td>\n",
       "      <td>Melbourne, Victoria, Australia</td>\n",
       "      <td>41</td>\n",
       "      <td>-37.8142175</td>\n",
       "      <td>144.9631608</td>\n",
       "    </tr>\n",
       "    <tr>\n",
       "      <th>6</th>\n",
       "      <td>Pink Floyd</td>\n",
       "      <td>London, England, United Kingdom</td>\n",
       "      <td>238</td>\n",
       "      <td>51.5073219</td>\n",
       "      <td>-0.1276473</td>\n",
       "    </tr>\n",
       "    <tr>\n",
       "      <th>8</th>\n",
       "      <td>Houndstooth</td>\n",
       "      <td>Portland, Multnomah County, Oregon, United States</td>\n",
       "      <td>41</td>\n",
       "      <td>45.5202471</td>\n",
       "      <td>-122.6741948</td>\n",
       "    </tr>\n",
       "    <tr>\n",
       "      <th>9</th>\n",
       "      <td>Built to Spill</td>\n",
       "      <td>Boise, Ada County, Idaho, United States</td>\n",
       "      <td>4</td>\n",
       "      <td>43.61656</td>\n",
       "      <td>-116.2008349</td>\n",
       "    </tr>\n",
       "  </tbody>\n",
       "</table>\n",
       "</div>"
      ],
      "text/plain": [
       "                        name  \\\n",
       "3            The Temptations   \n",
       "4  Nick Cave & The Bad Seeds   \n",
       "6                 Pink Floyd   \n",
       "8                Houndstooth   \n",
       "9             Built to Spill   \n",
       "\n",
       "                                          place_full  place_count  \\\n",
       "3     Detroit, Wayne County, Michigan, United States           65   \n",
       "4                     Melbourne, Victoria, Australia           41   \n",
       "6                    London, England, United Kingdom          238   \n",
       "8  Portland, Multnomah County, Oregon, United States           41   \n",
       "9            Boise, Ada County, Idaho, United States            4   \n",
       "\n",
       "           lat           lng  \n",
       "3   42.3486635   -83.0567374  \n",
       "4  -37.8142175   144.9631608  \n",
       "6   51.5073219    -0.1276473  \n",
       "8   45.5202471  -122.6741948  \n",
       "9     43.61656  -116.2008349  "
      ]
     },
     "execution_count": 3,
     "metadata": {},
     "output_type": "execute_result"
    }
   ],
   "source": [
    "# determine how many times each place appears in dataset, and break latlng into discrete lat and long\n",
    "place_counts = df['place_full'].value_counts()\n",
    "df['place_count'] = df['place_full'].map(lambda x: place_counts[x])\n",
    "df['lat'] = df['place_latlng'].map(lambda x: x.split(',')[0])\n",
    "df['lng'] = df['place_latlng'].map(lambda x: x.split(',')[1])\n",
    "df = df[['name', 'place_full', 'place_count', 'lat', 'lng']]\n",
    "df.head()"
   ]
  },
  {
   "cell_type": "code",
   "execution_count": 4,
   "metadata": {
    "collapsed": false
   },
   "outputs": [],
   "source": [
    "# create html list of artists from each place\n",
    "features = []\n",
    "for place_full in df['place_full'].unique():\n",
    "    \n",
    "    # how many artists to show before saying \"...and n more\"\n",
    "    num_to_show = 3\n",
    "    line_break = u'<br />'\n",
    "    artists = u''\n",
    "    \n",
    "    place_count = place_counts[place_full]\n",
    "    names = df[df['place_full']==place_full]['name']\n",
    "    \n",
    "    if place_count <= num_to_show:\n",
    "        for name in names:\n",
    "            artists = u'{}{}{}'.format(artists, name, line_break)\n",
    "            \n",
    "    else:\n",
    "        for name in names[0:num_to_show]:\n",
    "            artists = u'{}{}{}'.format(artists, name, line_break)\n",
    "        artists = u'{}...and {} more'.format(artists, place_count - num_to_show)\n",
    "        \n",
    "    features.append([place_full, artists])\n",
    "\n",
    "df_leaflet = pd.DataFrame(features, columns=['place_full', 'artists'])"
   ]
  },
  {
   "cell_type": "code",
   "execution_count": 5,
   "metadata": {
    "collapsed": false
   },
   "outputs": [
    {
     "data": {
      "text/html": [
       "<div>\n",
       "<table border=\"1\" class=\"dataframe\">\n",
       "  <thead>\n",
       "    <tr style=\"text-align: right;\">\n",
       "      <th></th>\n",
       "      <th>place_full</th>\n",
       "      <th>artists</th>\n",
       "      <th>lat</th>\n",
       "      <th>lng</th>\n",
       "    </tr>\n",
       "  </thead>\n",
       "  <tbody>\n",
       "    <tr>\n",
       "      <th>0</th>\n",
       "      <td>Detroit, Wayne County, Michigan, United States</td>\n",
       "      <td>The Temptations&lt;br /&gt;Danny Brown&lt;br /&gt;Gore Gor...</td>\n",
       "      <td>42.3486635</td>\n",
       "      <td>-83.0567374</td>\n",
       "    </tr>\n",
       "    <tr>\n",
       "      <th>1</th>\n",
       "      <td>Melbourne, Victoria, Australia</td>\n",
       "      <td>Nick Cave &amp; The Bad Seeds&lt;br /&gt;Eddy Current Su...</td>\n",
       "      <td>-37.8142175</td>\n",
       "      <td>144.9631608</td>\n",
       "    </tr>\n",
       "    <tr>\n",
       "      <th>2</th>\n",
       "      <td>London, England, United Kingdom</td>\n",
       "      <td>Pink Floyd&lt;br /&gt;Erasure&lt;br /&gt;Roxy Music&lt;br /&gt;....</td>\n",
       "      <td>51.5073219</td>\n",
       "      <td>-0.1276473</td>\n",
       "    </tr>\n",
       "    <tr>\n",
       "      <th>3</th>\n",
       "      <td>Portland, Multnomah County, Oregon, United States</td>\n",
       "      <td>Houndstooth&lt;br /&gt;Wipers&lt;br /&gt;Blitzen Trapper&lt;b...</td>\n",
       "      <td>45.5202471</td>\n",
       "      <td>-122.6741948</td>\n",
       "    </tr>\n",
       "    <tr>\n",
       "      <th>4</th>\n",
       "      <td>Boise, Ada County, Idaho, United States</td>\n",
       "      <td>Built to Spill&lt;br /&gt;Eilen Jewell&lt;br /&gt;Paul Rev...</td>\n",
       "      <td>43.61656</td>\n",
       "      <td>-116.2008349</td>\n",
       "    </tr>\n",
       "  </tbody>\n",
       "</table>\n",
       "</div>"
      ],
      "text/plain": [
       "                                          place_full  \\\n",
       "0     Detroit, Wayne County, Michigan, United States   \n",
       "1                     Melbourne, Victoria, Australia   \n",
       "2                    London, England, United Kingdom   \n",
       "3  Portland, Multnomah County, Oregon, United States   \n",
       "4            Boise, Ada County, Idaho, United States   \n",
       "\n",
       "                                             artists          lat  \\\n",
       "0  The Temptations<br />Danny Brown<br />Gore Gor...   42.3486635   \n",
       "1  Nick Cave & The Bad Seeds<br />Eddy Current Su...  -37.8142175   \n",
       "2  Pink Floyd<br />Erasure<br />Roxy Music<br />....   51.5073219   \n",
       "3  Houndstooth<br />Wipers<br />Blitzen Trapper<b...   45.5202471   \n",
       "4  Built to Spill<br />Eilen Jewell<br />Paul Rev...     43.61656   \n",
       "\n",
       "            lng  \n",
       "0   -83.0567374  \n",
       "1   144.9631608  \n",
       "2    -0.1276473  \n",
       "3  -122.6741948  \n",
       "4  -116.2008349  "
      ]
     },
     "execution_count": 5,
     "metadata": {},
     "output_type": "execute_result"
    }
   ],
   "source": [
    "# add lat and long back to the dataframe\n",
    "place_lat_lng = {}\n",
    "df_unique = df[['place_full', 'lat', 'lng']].drop_duplicates(subset='place_full')\n",
    "for label in df_unique.index:\n",
    "    place_lat_lng[df_unique.loc[label, 'place_full']] = (df_unique.loc[label, 'lat'], df_unique.loc[label, 'lng'])\n",
    "    \n",
    "df_leaflet['lat'] = df_leaflet['place_full'].map(lambda x: place_lat_lng[x][0])\n",
    "df_leaflet['lng'] = df_leaflet['place_full'].map(lambda x: place_lat_lng[x][1])\n",
    "df_leaflet.head()"
   ]
  },
  {
   "cell_type": "markdown",
   "metadata": {},
   "source": [
    "## Write to GeoJSON for leaflet mapping"
   ]
  },
  {
   "cell_type": "code",
   "execution_count": 6,
   "metadata": {
    "collapsed": true
   },
   "outputs": [],
   "source": [
    "# function to write the dataframe out to geojson\n",
    "def df_to_geojson(df, properties, lat='latitude', lon='longitude'):\n",
    "    # create a new python dict to contain our geojson data, using geojson format\n",
    "    geojson = {'type':'FeatureCollection', 'features':[]}\n",
    "\n",
    "    # loop through each row in the dataframe and convert each row to geojson format\n",
    "    for _, row in df.iterrows():\n",
    "        # create a feature template to fill in\n",
    "        feature = {'type':'Feature',\n",
    "                   'properties':{},\n",
    "                   'geometry':{'type':'Point',\n",
    "                               'coordinates':[]}}\n",
    "\n",
    "        # fill in the coordinates\n",
    "        feature['geometry']['coordinates'] = [row[lon],row[lat]]\n",
    "\n",
    "        # for each column, get the value and add it as a new feature property\n",
    "        for prop in properties:\n",
    "            feature['properties'][prop] = row[prop]\n",
    "        \n",
    "        # add this feature (aka, converted dataframe row) to the list of features inside our dict\n",
    "        geojson['features'].append(feature)\n",
    "    \n",
    "    return geojson"
   ]
  },
  {
   "cell_type": "code",
   "execution_count": 7,
   "metadata": {
    "collapsed": false
   },
   "outputs": [
    {
     "name": "stdout",
     "output_type": "stream",
     "text": [
      "1,951 geotagged features saved to file\n"
     ]
    }
   ],
   "source": [
    "geojson = df_to_geojson(df_leaflet, df_leaflet.columns, lat='lat', lon='lng')\n",
    "\n",
    "# save the geojson result to a file\n",
    "output_filename = 'leaflet/lastfm-dataset.js'\n",
    "with open(output_filename, 'wb') as output_file:\n",
    "    output_file.write('var dataset = {};'.format(json.dumps(geojson)))\n",
    "    \n",
    "# how many features did we save to the geojson file?\n",
    "print '{:,} geotagged features saved to file'.format(len(geojson['features']))"
   ]
  },
  {
   "cell_type": "markdown",
   "metadata": {},
   "source": [
    "To see this live, visit: http://geoffboeing.com/2016/05/analyzing-lastfm-history/#more-1799"
   ]
  },
  {
   "cell_type": "code",
   "execution_count": 10,
   "metadata": {
    "collapsed": false
   },
   "outputs": [
    {
     "data": {
      "text/html": [
       "\n",
       "        <iframe\n",
       "            width=\"600\"\n",
       "            height=\"400\"\n",
       "            src=\"leaflet/lastfm-artists-map.html\"\n",
       "            frameborder=\"0\"\n",
       "            allowfullscreen\n",
       "        ></iframe>\n",
       "        "
      ],
      "text/plain": [
       "<IPython.lib.display.IFrame at 0x9d98f28>"
      ]
     },
     "execution_count": 10,
     "metadata": {},
     "output_type": "execute_result"
    }
   ],
   "source": [
    "# show the iframe of the leaflet web map here\n",
    "IFrame('leaflet/lastfm-artists-map.html', width=600, height=400)"
   ]
  },
  {
   "cell_type": "code",
   "execution_count": null,
   "metadata": {
    "collapsed": true
   },
   "outputs": [],
   "source": []
  }
 ],
 "metadata": {
  "kernelspec": {
   "display_name": "Python 2",
   "language": "python",
   "name": "python2"
  },
  "language_info": {
   "codemirror_mode": {
    "name": "ipython",
    "version": 2
   },
   "file_extension": ".py",
   "mimetype": "text/x-python",
   "name": "python",
   "nbconvert_exporter": "python",
   "pygments_lexer": "ipython2",
   "version": "2.7.11"
  }
 },
 "nbformat": 4,
 "nbformat_minor": 0
}
