{
 "cells": [
  {
   "cell_type": "markdown",
   "metadata": {},
   "source": [
    "# Leaflet web map of Last.fm artists\n",
    "\n",
    "To see the final product live, check out my article [\"Analyzing Last.fm Listening History\"](http://geoffboeing.com/2016/05/analyzing-lastfm-history/)\n",
    "\n",
    "Convert the geocoded CSV file of artists produced by [musicbrainz_geocoder.ipynb](musicbrainz_geocoder.ipynb) to a GeoJSON file for Leaflet web mapping."
   ]
  },
  {
   "cell_type": "code",
   "execution_count": 1,
   "metadata": {
    "collapsed": true
   },
   "outputs": [],
   "source": [
    "import pandas as pd, json, math, random\n",
    "from IPython.display import IFrame"
   ]
  },
  {
   "cell_type": "code",
   "execution_count": 2,
   "metadata": {
    "collapsed": false
   },
   "outputs": [
    {
     "name": "stdout",
     "output_type": "stream",
     "text": [
      "19,269 total rows\n",
      "14,478 rows with lat-long\n",
      "2,527 unique lat-longs\n"
     ]
    }
   ],
   "source": [
    "# load the geocoded data set of artists\n",
    "df = pd.read_csv('data/mb_geocoded.csv', encoding='utf-8')\n",
    "print('{:,} total rows'.format(len(df)))\n",
    "df = df[pd.notnull(df['place_latlng'])]\n",
    "print('{:,} rows with lat-long'.format(len(df)))\n",
    "print('{:,} unique lat-longs'.format(len(df['place_latlng'].unique())))"
   ]
  },
  {
   "cell_type": "code",
   "execution_count": 3,
   "metadata": {
    "collapsed": false
   },
   "outputs": [
    {
     "data": {
      "text/html": [
       "<div>\n",
       "<table border=\"1\" class=\"dataframe\">\n",
       "  <thead>\n",
       "    <tr style=\"text-align: right;\">\n",
       "      <th></th>\n",
       "      <th>name</th>\n",
       "      <th>place_full</th>\n",
       "      <th>place_count</th>\n",
       "      <th>lat</th>\n",
       "      <th>lng</th>\n",
       "    </tr>\n",
       "  </thead>\n",
       "  <tbody>\n",
       "    <tr>\n",
       "      <th>0</th>\n",
       "      <td>The School</td>\n",
       "      <td>Trondheim, Sør-Trøndelag, Norway</td>\n",
       "      <td>1</td>\n",
       "      <td>63.4305658</td>\n",
       "      <td>10.3951929</td>\n",
       "    </tr>\n",
       "    <tr>\n",
       "      <th>1</th>\n",
       "      <td>Rilo Kiley</td>\n",
       "      <td>Los Angeles, Los Angeles County, California, U...</td>\n",
       "      <td>266</td>\n",
       "      <td>34.0543942</td>\n",
       "      <td>-118.2439408</td>\n",
       "    </tr>\n",
       "    <tr>\n",
       "      <th>2</th>\n",
       "      <td>The Pipettes</td>\n",
       "      <td>United Kingdom</td>\n",
       "      <td>736</td>\n",
       "      <td>54.7023545</td>\n",
       "      <td>-3.2765752</td>\n",
       "    </tr>\n",
       "    <tr>\n",
       "      <th>3</th>\n",
       "      <td>Pete Yorn</td>\n",
       "      <td>United States</td>\n",
       "      <td>2015</td>\n",
       "      <td>39.7837304</td>\n",
       "      <td>-100.4458824</td>\n",
       "    </tr>\n",
       "    <tr>\n",
       "      <th>4</th>\n",
       "      <td>The Notwist</td>\n",
       "      <td>Weilheim in Oberbayern, Bayern, Germany</td>\n",
       "      <td>2</td>\n",
       "      <td>47.8395072</td>\n",
       "      <td>11.1416355</td>\n",
       "    </tr>\n",
       "  </tbody>\n",
       "</table>\n",
       "</div>"
      ],
      "text/plain": [
       "           name                                         place_full  \\\n",
       "0    The School                   Trondheim, Sør-Trøndelag, Norway   \n",
       "1    Rilo Kiley  Los Angeles, Los Angeles County, California, U...   \n",
       "2  The Pipettes                                     United Kingdom   \n",
       "3     Pete Yorn                                      United States   \n",
       "4   The Notwist            Weilheim in Oberbayern, Bayern, Germany   \n",
       "\n",
       "   place_count         lat           lng  \n",
       "0            1  63.4305658    10.3951929  \n",
       "1          266  34.0543942  -118.2439408  \n",
       "2          736  54.7023545    -3.2765752  \n",
       "3         2015  39.7837304  -100.4458824  \n",
       "4            2  47.8395072    11.1416355  "
      ]
     },
     "execution_count": 3,
     "metadata": {},
     "output_type": "execute_result"
    }
   ],
   "source": [
    "# determine how many times each place appears in dataset, and break latlng into discrete lat and long\n",
    "place_counts = df['place_full'].value_counts()\n",
    "df['place_count'] = df['place_full'].map(lambda x: place_counts[x])\n",
    "df['lat'] = df['place_latlng'].map(lambda x: x.split(',')[0])\n",
    "df['lng'] = df['place_latlng'].map(lambda x: x.split(',')[1])\n",
    "df = df[['name', 'place_full', 'place_count', 'lat', 'lng']]\n",
    "df.head()"
   ]
  },
  {
   "cell_type": "code",
   "execution_count": 4,
   "metadata": {
    "collapsed": false
   },
   "outputs": [],
   "source": [
    "# create html list of artists from each place\n",
    "features = []\n",
    "for place_full in df['place_full'].unique():\n",
    "    \n",
    "    # how many artists to show before saying \"...and n more\"\n",
    "    num_to_show = 3\n",
    "    line_break = '<br />'\n",
    "    artists = ''\n",
    "    \n",
    "    place_count = place_counts[place_full]\n",
    "    names = df[df['place_full']==place_full]['name']\n",
    "    \n",
    "    if place_count <= num_to_show:\n",
    "        for name in names:\n",
    "            artists = '{}{}{}'.format(artists, name, line_break)\n",
    "            \n",
    "    else:\n",
    "        for name in names[0:num_to_show]:\n",
    "            artists = '{}{}{}'.format(artists, name, line_break)\n",
    "        artists = '{}...and {:,} more'.format(artists, place_count - num_to_show)\n",
    "        \n",
    "    features.append([place_full, artists])\n",
    "\n",
    "df_leaflet = pd.DataFrame(features, columns=['place_full', 'artists'])"
   ]
  },
  {
   "cell_type": "code",
   "execution_count": 5,
   "metadata": {
    "collapsed": false
   },
   "outputs": [],
   "source": [
    "# strip off any tailing (and hence unnecessary) line breaks at the end of the artists list\n",
    "# can't use str.strip for this because it strips characters: artist names would lose trailing b's and r's\n",
    "df_leaflet['artists'] = df_leaflet['artists'].map(lambda x: x[:-len(line_break)] if x.endswith(line_break) else x)"
   ]
  },
  {
   "cell_type": "code",
   "execution_count": 6,
   "metadata": {
    "collapsed": false
   },
   "outputs": [],
   "source": [
    "# jitter either a lat or a lng within KMs of original\n",
    "def jitter(val, kms=0.5):\n",
    "    earth_radius = 6378.16\n",
    "    one_degree = (2 * math.pi * earth_radius) / 360\n",
    "    one_km = 1 / one_degree\n",
    "    lower_range = val - (kms * one_km)\n",
    "    upper_range = val + (kms * one_km)\n",
    "    return random.random() * (upper_range - lower_range) + lower_range"
   ]
  },
  {
   "cell_type": "code",
   "execution_count": 7,
   "metadata": {
    "collapsed": false
   },
   "outputs": [
    {
     "data": {
      "text/html": [
       "<div>\n",
       "<table border=\"1\" class=\"dataframe\">\n",
       "  <thead>\n",
       "    <tr style=\"text-align: right;\">\n",
       "      <th></th>\n",
       "      <th>place_full</th>\n",
       "      <th>artists</th>\n",
       "      <th>lat</th>\n",
       "      <th>lng</th>\n",
       "    </tr>\n",
       "  </thead>\n",
       "  <tbody>\n",
       "    <tr>\n",
       "      <th>0</th>\n",
       "      <td>Trondheim, Sør-Trøndelag, Norway</td>\n",
       "      <td>The School</td>\n",
       "      <td>63.4285405</td>\n",
       "      <td>10.3949752</td>\n",
       "    </tr>\n",
       "    <tr>\n",
       "      <th>1</th>\n",
       "      <td>Los Angeles, Los Angeles County, California, U...</td>\n",
       "      <td>Rilo Kiley&lt;br /&gt;Dum Dum Girls&lt;br /&gt;Julia Holte...</td>\n",
       "      <td>34.0570211</td>\n",
       "      <td>-118.2443232</td>\n",
       "    </tr>\n",
       "    <tr>\n",
       "      <th>2</th>\n",
       "      <td>United Kingdom</td>\n",
       "      <td>The Pipettes&lt;br /&gt;Gazelle Twin&lt;br /&gt;White Town...</td>\n",
       "      <td>54.7028552</td>\n",
       "      <td>-3.2732691</td>\n",
       "    </tr>\n",
       "    <tr>\n",
       "      <th>3</th>\n",
       "      <td>United States</td>\n",
       "      <td>Pete Yorn&lt;br /&gt;Mirah&lt;br /&gt;The Mantles&lt;br /&gt;......</td>\n",
       "      <td>39.7874626</td>\n",
       "      <td>-100.4432602</td>\n",
       "    </tr>\n",
       "    <tr>\n",
       "      <th>4</th>\n",
       "      <td>Weilheim in Oberbayern, Bayern, Germany</td>\n",
       "      <td>The Notwist&lt;br /&gt;Johannes Enders</td>\n",
       "      <td>47.8425415</td>\n",
       "      <td>11.1376597</td>\n",
       "    </tr>\n",
       "  </tbody>\n",
       "</table>\n",
       "</div>"
      ],
      "text/plain": [
       "                                          place_full  \\\n",
       "0                   Trondheim, Sør-Trøndelag, Norway   \n",
       "1  Los Angeles, Los Angeles County, California, U...   \n",
       "2                                     United Kingdom   \n",
       "3                                      United States   \n",
       "4            Weilheim in Oberbayern, Bayern, Germany   \n",
       "\n",
       "                                             artists         lat           lng  \n",
       "0                                         The School  63.4285405    10.3949752  \n",
       "1  Rilo Kiley<br />Dum Dum Girls<br />Julia Holte...  34.0570211  -118.2443232  \n",
       "2  The Pipettes<br />Gazelle Twin<br />White Town...  54.7028552    -3.2732691  \n",
       "3  Pete Yorn<br />Mirah<br />The Mantles<br />......  39.7874626  -100.4432602  \n",
       "4                   The Notwist<br />Johannes Enders  47.8425415    11.1376597  "
      ]
     },
     "execution_count": 7,
     "metadata": {},
     "output_type": "execute_result"
    }
   ],
   "source": [
    "# add lat and long back to the dataframe\n",
    "place_lat_lng = {}\n",
    "df_unique = df[['place_full', 'lat', 'lng']].drop_duplicates(subset='place_full')\n",
    "for label in df_unique.index:\n",
    "    place_lat_lng[df_unique.loc[label, 'place_full']] = (df_unique.loc[label, 'lat'], df_unique.loc[label, 'lng'])\n",
    "\n",
    "# extract lat & lng, convert to float, jitter, and round to 7 decimal places\n",
    "df_leaflet['lat'] = df_leaflet['place_full'].map(lambda x: '{:.7f}'.format(jitter(float(place_lat_lng[x][0]))))\n",
    "df_leaflet['lng'] = df_leaflet['place_full'].map(lambda x: '{:.7f}'.format(jitter(float(place_lat_lng[x][1]))))\n",
    "df_leaflet.head()"
   ]
  },
  {
   "cell_type": "markdown",
   "metadata": {},
   "source": [
    "## Write to GeoJSON for leaflet mapping"
   ]
  },
  {
   "cell_type": "code",
   "execution_count": 8,
   "metadata": {
    "collapsed": true
   },
   "outputs": [],
   "source": [
    "# function to write the dataframe out to geojson\n",
    "def df_to_geojson(df, properties, lat='latitude', lon='longitude'):\n",
    "    # create a new python dict to contain our geojson data, using geojson format\n",
    "    geojson = {'type':'FeatureCollection', 'features':[]}\n",
    "\n",
    "    # loop through each row in the dataframe and convert each row to geojson format\n",
    "    for _, row in df.iterrows():\n",
    "        # create a feature template to fill in\n",
    "        feature = {'type':'Feature',\n",
    "                   'properties':{},\n",
    "                   'geometry':{'type':'Point',\n",
    "                               'coordinates':[]}}\n",
    "\n",
    "        # fill in the coordinates\n",
    "        feature['geometry']['coordinates'] = [row[lon],row[lat]]\n",
    "\n",
    "        # for each column, get the value and add it as a new feature property\n",
    "        for prop in properties:\n",
    "            feature['properties'][prop] = row[prop]\n",
    "        \n",
    "        # add this feature (aka, converted dataframe row) to the list of features inside our dict\n",
    "        geojson['features'].append(feature)\n",
    "    \n",
    "    return geojson"
   ]
  },
  {
   "cell_type": "code",
   "execution_count": 9,
   "metadata": {
    "collapsed": false
   },
   "outputs": [
    {
     "name": "stdout",
     "output_type": "stream",
     "text": [
      "2,567 geotagged features saved to file\n"
     ]
    }
   ],
   "source": [
    "geojson = df_to_geojson(df_leaflet, df_leaflet.columns, lat='lat', lon='lng')\n",
    "\n",
    "# save the geojson result to a file\n",
    "output_filename = 'leaflet/lastfm-dataset.js'\n",
    "with open(output_filename, 'w') as output_file:\n",
    "    output_file.write('var dataset={};'.format(json.dumps(geojson, separators=(',',':'))))\n",
    "    \n",
    "# how many features did we save to the geojson file?\n",
    "print('{:,} geotagged features saved to file'.format(len(geojson['features'])))"
   ]
  },
  {
   "cell_type": "code",
   "execution_count": 10,
   "metadata": {
    "collapsed": false
   },
   "outputs": [
    {
     "data": {
      "text/html": [
       "\n",
       "        <iframe\n",
       "            width=\"600\"\n",
       "            height=\"400\"\n",
       "            src=\"leaflet/lastfm-artists-map.html\"\n",
       "            frameborder=\"0\"\n",
       "            allowfullscreen\n",
       "        ></iframe>\n",
       "        "
      ],
      "text/plain": [
       "<IPython.lib.display.IFrame at 0x2c5017adb00>"
      ]
     },
     "execution_count": 10,
     "metadata": {},
     "output_type": "execute_result"
    }
   ],
   "source": [
    "# show the iframe of the leaflet web map here\n",
    "IFrame('leaflet/lastfm-artists-map.html', width=600, height=400)"
   ]
  },
  {
   "cell_type": "markdown",
   "metadata": {},
   "source": [
    "To see the final product live, visit: http://geoffboeing.com/2016/05/analyzing-lastfm-history/"
   ]
  },
  {
   "cell_type": "code",
   "execution_count": null,
   "metadata": {
    "collapsed": true
   },
   "outputs": [],
   "source": []
  }
 ],
 "metadata": {
  "kernelspec": {
   "display_name": "Python 3",
   "language": "python",
   "name": "python3"
  },
  "language_info": {
   "codemirror_mode": {
    "name": "ipython",
    "version": 3
   },
   "file_extension": ".py",
   "mimetype": "text/x-python",
   "name": "python",
   "nbconvert_exporter": "python",
   "pygments_lexer": "ipython3",
   "version": "3.5.2"
  }
 },
 "nbformat": 4,
 "nbformat_minor": 0
}
