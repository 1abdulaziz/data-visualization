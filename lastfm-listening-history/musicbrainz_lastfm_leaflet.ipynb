{
 "cells": [
  {
   "cell_type": "markdown",
   "metadata": {},
   "source": [
    "# Leaflet web map of Last.fm artists\n",
    "\n",
    "To see the final product live, check out my article [\"Analyzing Last.fm Listening History\"](http://geoffboeing.com/2016/05/analyzing-lastfm-history/)\n",
    "\n",
    "Convert the geocoded CSV file of artists produced by [musicbrainz_geocoder.ipynb](musicbrainz_geocoder.ipynb) to a GeoJSON file for Leaflet web mapping."
   ]
  },
  {
   "cell_type": "code",
   "execution_count": 1,
   "metadata": {
    "collapsed": true
   },
   "outputs": [],
   "source": [
    "import pandas as pd, json, math, random\n",
    "from IPython.display import IFrame"
   ]
  },
  {
   "cell_type": "code",
   "execution_count": 2,
   "metadata": {},
   "outputs": [
    {
     "name": "stdout",
     "output_type": "stream",
     "text": [
      "19,919 total rows\n",
      "14,956 rows with lat-long\n",
      "2,611 unique lat-longs\n"
     ]
    }
   ],
   "source": [
    "# load the geocoded data set of artists\n",
    "df = pd.read_csv('data/mb_geocoded.csv', encoding='utf-8')\n",
    "print('{:,} total rows'.format(len(df)))\n",
    "df = df[pd.notnull(df['place_latlng'])]\n",
    "print('{:,} rows with lat-long'.format(len(df)))\n",
    "print('{:,} unique lat-longs'.format(len(df['place_latlng'].unique())))"
   ]
  },
  {
   "cell_type": "code",
   "execution_count": 3,
   "metadata": {},
   "outputs": [
    {
     "data": {
      "text/html": [
       "<div>\n",
       "<style>\n",
       "    .dataframe thead tr:only-child th {\n",
       "        text-align: right;\n",
       "    }\n",
       "\n",
       "    .dataframe thead th {\n",
       "        text-align: left;\n",
       "    }\n",
       "\n",
       "    .dataframe tbody tr th {\n",
       "        vertical-align: top;\n",
       "    }\n",
       "</style>\n",
       "<table border=\"1\" class=\"dataframe\">\n",
       "  <thead>\n",
       "    <tr style=\"text-align: right;\">\n",
       "      <th></th>\n",
       "      <th>name</th>\n",
       "      <th>place_full</th>\n",
       "      <th>place_count</th>\n",
       "      <th>lat</th>\n",
       "      <th>lng</th>\n",
       "    </tr>\n",
       "  </thead>\n",
       "  <tbody>\n",
       "    <tr>\n",
       "      <th>0</th>\n",
       "      <td>Isaac Albéniz</td>\n",
       "      <td>Camprodon, Girona, Catalunya, Spain</td>\n",
       "      <td>1</td>\n",
       "      <td>42.3110835</td>\n",
       "      <td>2.3651177</td>\n",
       "    </tr>\n",
       "    <tr>\n",
       "      <th>1</th>\n",
       "      <td>Ikon</td>\n",
       "      <td>United Kingdom</td>\n",
       "      <td>779</td>\n",
       "      <td>54.7023545</td>\n",
       "      <td>-3.2765752</td>\n",
       "    </tr>\n",
       "    <tr>\n",
       "      <th>2</th>\n",
       "      <td>Mise en Scene</td>\n",
       "      <td>Tel Aviv, Tel-Aviv, Israel</td>\n",
       "      <td>7</td>\n",
       "      <td>32.0804808</td>\n",
       "      <td>34.7805274</td>\n",
       "    </tr>\n",
       "    <tr>\n",
       "      <th>3</th>\n",
       "      <td>Beach House</td>\n",
       "      <td>Baltimore, Maryland, United States</td>\n",
       "      <td>20</td>\n",
       "      <td>39.2908608</td>\n",
       "      <td>-76.6108072</td>\n",
       "    </tr>\n",
       "    <tr>\n",
       "      <th>4</th>\n",
       "      <td>Washed Out</td>\n",
       "      <td>Perry, Houston County, Georgia, United States</td>\n",
       "      <td>1</td>\n",
       "      <td>32.4586695</td>\n",
       "      <td>-83.7319657</td>\n",
       "    </tr>\n",
       "  </tbody>\n",
       "</table>\n",
       "</div>"
      ],
      "text/plain": [
       "            name                                     place_full  place_count  \\\n",
       "0  Isaac Albéniz            Camprodon, Girona, Catalunya, Spain            1   \n",
       "1           Ikon                                 United Kingdom          779   \n",
       "2  Mise en Scene                     Tel Aviv, Tel-Aviv, Israel            7   \n",
       "3    Beach House             Baltimore, Maryland, United States           20   \n",
       "4     Washed Out  Perry, Houston County, Georgia, United States            1   \n",
       "\n",
       "          lat          lng  \n",
       "0  42.3110835    2.3651177  \n",
       "1  54.7023545   -3.2765752  \n",
       "2  32.0804808   34.7805274  \n",
       "3  39.2908608  -76.6108072  \n",
       "4  32.4586695  -83.7319657  "
      ]
     },
     "execution_count": 3,
     "metadata": {},
     "output_type": "execute_result"
    }
   ],
   "source": [
    "# determine how many times each place appears in dataset, and break latlng into discrete lat and long\n",
    "place_counts = df['place_full'].value_counts()\n",
    "df['place_count'] = df['place_full'].map(lambda x: place_counts[x])\n",
    "df['lat'] = df['place_latlng'].map(lambda x: x.split(',')[0])\n",
    "df['lng'] = df['place_latlng'].map(lambda x: x.split(',')[1])\n",
    "df = df[['name', 'place_full', 'place_count', 'lat', 'lng']]\n",
    "df.head()"
   ]
  },
  {
   "cell_type": "code",
   "execution_count": 4,
   "metadata": {},
   "outputs": [],
   "source": [
    "# create html list of artists from each place\n",
    "features = []\n",
    "for place_full in df['place_full'].unique():\n",
    "    \n",
    "    # how many artists to show before saying \"...and n more\"\n",
    "    num_to_show = 3\n",
    "    line_break = '<br />'\n",
    "    artists = ''\n",
    "    \n",
    "    place_count = place_counts[place_full]\n",
    "    names = df[df['place_full']==place_full]['name']\n",
    "    \n",
    "    if place_count <= num_to_show:\n",
    "        for name in names:\n",
    "            artists = '{}{}{}'.format(artists, name, line_break)\n",
    "            \n",
    "    else:\n",
    "        for name in names[0:num_to_show]:\n",
    "            artists = '{}{}{}'.format(artists, name, line_break)\n",
    "        artists = '{}...and {:,} more'.format(artists, place_count - num_to_show)\n",
    "        \n",
    "    features.append([place_full, artists])\n",
    "\n",
    "df_leaflet = pd.DataFrame(features, columns=['place_full', 'artists'])"
   ]
  },
  {
   "cell_type": "code",
   "execution_count": 5,
   "metadata": {},
   "outputs": [],
   "source": [
    "# strip off any tailing (and hence unnecessary) line breaks at the end of the artists list\n",
    "# can't use str.strip for this because it strips characters: artist names would lose trailing b's and r's\n",
    "df_leaflet['artists'] = df_leaflet['artists'].map(lambda x: x[:-len(line_break)] if x.endswith(line_break) else x)"
   ]
  },
  {
   "cell_type": "code",
   "execution_count": 6,
   "metadata": {},
   "outputs": [],
   "source": [
    "# jitter either a lat or a lng within KMs of original\n",
    "def jitter(val, kms=0.5):\n",
    "    earth_radius = 6378.16\n",
    "    one_degree = (2 * math.pi * earth_radius) / 360\n",
    "    one_km = 1 / one_degree\n",
    "    lower_range = val - (kms * one_km)\n",
    "    upper_range = val + (kms * one_km)\n",
    "    return random.random() * (upper_range - lower_range) + lower_range"
   ]
  },
  {
   "cell_type": "code",
   "execution_count": 7,
   "metadata": {},
   "outputs": [
    {
     "data": {
      "text/html": [
       "<div>\n",
       "<style>\n",
       "    .dataframe thead tr:only-child th {\n",
       "        text-align: right;\n",
       "    }\n",
       "\n",
       "    .dataframe thead th {\n",
       "        text-align: left;\n",
       "    }\n",
       "\n",
       "    .dataframe tbody tr th {\n",
       "        vertical-align: top;\n",
       "    }\n",
       "</style>\n",
       "<table border=\"1\" class=\"dataframe\">\n",
       "  <thead>\n",
       "    <tr style=\"text-align: right;\">\n",
       "      <th></th>\n",
       "      <th>place_full</th>\n",
       "      <th>artists</th>\n",
       "      <th>lat</th>\n",
       "      <th>lng</th>\n",
       "    </tr>\n",
       "  </thead>\n",
       "  <tbody>\n",
       "    <tr>\n",
       "      <th>0</th>\n",
       "      <td>Camprodon, Girona, Catalunya, Spain</td>\n",
       "      <td>Isaac Albéniz</td>\n",
       "      <td>42.3140528</td>\n",
       "      <td>2.3664995</td>\n",
       "    </tr>\n",
       "    <tr>\n",
       "      <th>1</th>\n",
       "      <td>United Kingdom</td>\n",
       "      <td>Ikon&lt;br /&gt;Dan Croll&lt;br /&gt;Kero Kero Bonito&lt;br /...</td>\n",
       "      <td>54.7013175</td>\n",
       "      <td>-3.2743845</td>\n",
       "    </tr>\n",
       "    <tr>\n",
       "      <th>2</th>\n",
       "      <td>Tel Aviv, Tel-Aviv, Israel</td>\n",
       "      <td>Mise en Scene&lt;br /&gt;Borgore&lt;br /&gt;אריק איינשטיין...</td>\n",
       "      <td>32.0849028</td>\n",
       "      <td>34.7766464</td>\n",
       "    </tr>\n",
       "    <tr>\n",
       "      <th>3</th>\n",
       "      <td>Baltimore, Maryland, United States</td>\n",
       "      <td>Beach House&lt;br /&gt;Animal Collective&lt;br /&gt;Lower ...</td>\n",
       "      <td>39.2901187</td>\n",
       "      <td>-76.6125275</td>\n",
       "    </tr>\n",
       "    <tr>\n",
       "      <th>4</th>\n",
       "      <td>Perry, Houston County, Georgia, United States</td>\n",
       "      <td>Washed Out</td>\n",
       "      <td>32.4544006</td>\n",
       "      <td>-83.7290372</td>\n",
       "    </tr>\n",
       "  </tbody>\n",
       "</table>\n",
       "</div>"
      ],
      "text/plain": [
       "                                      place_full  \\\n",
       "0            Camprodon, Girona, Catalunya, Spain   \n",
       "1                                 United Kingdom   \n",
       "2                     Tel Aviv, Tel-Aviv, Israel   \n",
       "3             Baltimore, Maryland, United States   \n",
       "4  Perry, Houston County, Georgia, United States   \n",
       "\n",
       "                                             artists         lat          lng  \n",
       "0                                      Isaac Albéniz  42.3140528    2.3664995  \n",
       "1  Ikon<br />Dan Croll<br />Kero Kero Bonito<br /...  54.7013175   -3.2743845  \n",
       "2  Mise en Scene<br />Borgore<br />אריק איינשטיין...  32.0849028   34.7766464  \n",
       "3  Beach House<br />Animal Collective<br />Lower ...  39.2901187  -76.6125275  \n",
       "4                                         Washed Out  32.4544006  -83.7290372  "
      ]
     },
     "execution_count": 7,
     "metadata": {},
     "output_type": "execute_result"
    }
   ],
   "source": [
    "# add lat and long back to the dataframe\n",
    "place_lat_lng = {}\n",
    "df_unique = df[['place_full', 'lat', 'lng']].drop_duplicates(subset='place_full')\n",
    "for label in df_unique.index:\n",
    "    place_lat_lng[df_unique.loc[label, 'place_full']] = (df_unique.loc[label, 'lat'], df_unique.loc[label, 'lng'])\n",
    "\n",
    "# extract lat & lng, convert to float, jitter, and round to 7 decimal places\n",
    "df_leaflet['lat'] = df_leaflet['place_full'].map(lambda x: '{:.7f}'.format(jitter(float(place_lat_lng[x][0]))))\n",
    "df_leaflet['lng'] = df_leaflet['place_full'].map(lambda x: '{:.7f}'.format(jitter(float(place_lat_lng[x][1]))))\n",
    "df_leaflet.head()"
   ]
  },
  {
   "cell_type": "markdown",
   "metadata": {},
   "source": [
    "## Write to GeoJSON for leaflet mapping"
   ]
  },
  {
   "cell_type": "code",
   "execution_count": 8,
   "metadata": {
    "collapsed": true
   },
   "outputs": [],
   "source": [
    "# function to write the dataframe out to geojson\n",
    "def df_to_geojson(df, properties, lat='latitude', lon='longitude'):\n",
    "    # create a new python dict to contain our geojson data, using geojson format\n",
    "    geojson = {'type':'FeatureCollection', 'features':[]}\n",
    "\n",
    "    # loop through each row in the dataframe and convert each row to geojson format\n",
    "    for _, row in df.iterrows():\n",
    "        # create a feature template to fill in\n",
    "        feature = {'type':'Feature',\n",
    "                   'properties':{},\n",
    "                   'geometry':{'type':'Point',\n",
    "                               'coordinates':[]}}\n",
    "\n",
    "        # fill in the coordinates\n",
    "        feature['geometry']['coordinates'] = [row[lon],row[lat]]\n",
    "\n",
    "        # for each column, get the value and add it as a new feature property\n",
    "        for prop in properties:\n",
    "            feature['properties'][prop] = row[prop]\n",
    "        \n",
    "        # add this feature (aka, converted dataframe row) to the list of features inside our dict\n",
    "        geojson['features'].append(feature)\n",
    "    \n",
    "    return geojson"
   ]
  },
  {
   "cell_type": "code",
   "execution_count": 9,
   "metadata": {},
   "outputs": [
    {
     "name": "stdout",
     "output_type": "stream",
     "text": [
      "2,653 geotagged features saved to file\n"
     ]
    }
   ],
   "source": [
    "geojson = df_to_geojson(df_leaflet, df_leaflet.columns, lat='lat', lon='lng')\n",
    "\n",
    "# save the geojson result to a file\n",
    "output_filename = 'leaflet/lastfm-dataset.js'\n",
    "with open(output_filename, 'w') as output_file:\n",
    "    output_file.write('var dataset={};'.format(json.dumps(geojson, separators=(',',':'))))\n",
    "    \n",
    "# how many features did we save to the geojson file?\n",
    "print('{:,} geotagged features saved to file'.format(len(geojson['features'])))"
   ]
  },
  {
   "cell_type": "code",
   "execution_count": 10,
   "metadata": {},
   "outputs": [
    {
     "data": {
      "text/html": [
       "\n",
       "        <iframe\n",
       "            width=\"600\"\n",
       "            height=\"400\"\n",
       "            src=\"leaflet/lastfm-artists-map.html\"\n",
       "            frameborder=\"0\"\n",
       "            allowfullscreen\n",
       "        ></iframe>\n",
       "        "
      ],
      "text/plain": [
       "<IPython.lib.display.IFrame at 0x24db09ec240>"
      ]
     },
     "execution_count": 10,
     "metadata": {},
     "output_type": "execute_result"
    }
   ],
   "source": [
    "# show the iframe of the leaflet web map here\n",
    "IFrame('leaflet/lastfm-artists-map.html', width=600, height=400)"
   ]
  },
  {
   "cell_type": "markdown",
   "metadata": {},
   "source": [
    "To see the final product live, visit: http://geoffboeing.com/2016/05/analyzing-lastfm-history/"
   ]
  },
  {
   "cell_type": "code",
   "execution_count": null,
   "metadata": {
    "collapsed": true
   },
   "outputs": [],
   "source": []
  }
 ],
 "metadata": {
  "anaconda-cloud": {},
  "kernelspec": {
   "display_name": "Python 3",
   "language": "python",
   "name": "python3"
  },
  "language_info": {
   "codemirror_mode": {
    "name": "ipython",
    "version": 3
   },
   "file_extension": ".py",
   "mimetype": "text/x-python",
   "name": "python",
   "nbconvert_exporter": "python",
   "pygments_lexer": "ipython3",
   "version": "3.6.1"
  }
 },
 "nbformat": 4,
 "nbformat_minor": 1
}
