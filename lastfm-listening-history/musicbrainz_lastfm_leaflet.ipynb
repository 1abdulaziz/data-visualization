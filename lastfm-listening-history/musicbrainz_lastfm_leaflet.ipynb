{
 "cells": [
  {
   "cell_type": "markdown",
   "metadata": {},
   "source": [
    "# Leaflet web map of Last.fm artists\n",
    "\n",
    "To see the final product live, check out my article [\"Analyzing Last.fm Listening History\"](http://geoffboeing.com/2016/05/analyzing-lastfm-history/)\n",
    "\n",
    "Convert the geocoded CSV file of artists produced by [musicbrainz_geocoder.ipynb](musicbrainz_geocoder.ipynb) to a GeoJSON file for Leaflet web mapping."
   ]
  },
  {
   "cell_type": "code",
   "execution_count": 1,
   "metadata": {
    "collapsed": true
   },
   "outputs": [],
   "source": [
    "import pandas as pd, json\n",
    "from IPython.display import IFrame"
   ]
  },
  {
   "cell_type": "code",
   "execution_count": 2,
   "metadata": {
    "collapsed": false
   },
   "outputs": [
    {
     "name": "stdout",
     "output_type": "stream",
     "text": [
      "13,716 total rows\n",
      "6,078 rows with lat-long\n",
      "1,986 unique lat-longs\n"
     ]
    }
   ],
   "source": [
    "# load the geocoded data set of artists\n",
    "df = pd.read_csv('data/mb_geocoded.csv', encoding='utf-8')\n",
    "print('{:,} total rows'.format(len(df)))\n",
    "df = df[pd.notnull(df['place_latlng'])]\n",
    "print('{:,} rows with lat-long'.format(len(df)))\n",
    "print('{:,} unique lat-longs'.format(len(df['place_latlng'].unique())))"
   ]
  },
  {
   "cell_type": "code",
   "execution_count": 3,
   "metadata": {
    "collapsed": false
   },
   "outputs": [
    {
     "data": {
      "text/html": [
       "<div>\n",
       "<table border=\"1\" class=\"dataframe\">\n",
       "  <thead>\n",
       "    <tr style=\"text-align: right;\">\n",
       "      <th></th>\n",
       "      <th>name</th>\n",
       "      <th>place_full</th>\n",
       "      <th>place_count</th>\n",
       "      <th>lat</th>\n",
       "      <th>lng</th>\n",
       "    </tr>\n",
       "  </thead>\n",
       "  <tbody>\n",
       "    <tr>\n",
       "      <th>8</th>\n",
       "      <td>Nelson Pinedo</td>\n",
       "      <td>Barranquilla, Atlántico, Colombia</td>\n",
       "      <td>2</td>\n",
       "      <td>11.04667645</td>\n",
       "      <td>-74.8490503668463</td>\n",
       "    </tr>\n",
       "    <tr>\n",
       "      <th>13</th>\n",
       "      <td>Kentucky AFC</td>\n",
       "      <td>Wales, United Kingdom</td>\n",
       "      <td>14</td>\n",
       "      <td>52.2928116</td>\n",
       "      <td>-3.7389299</td>\n",
       "    </tr>\n",
       "    <tr>\n",
       "      <th>14</th>\n",
       "      <td>Dick Lee</td>\n",
       "      <td>Central Singapore, Singapore</td>\n",
       "      <td>1</td>\n",
       "      <td>1.2904527</td>\n",
       "      <td>103.852038</td>\n",
       "    </tr>\n",
       "    <tr>\n",
       "      <th>22</th>\n",
       "      <td>Wang Fandi</td>\n",
       "      <td>Shanghai, China</td>\n",
       "      <td>1</td>\n",
       "      <td>31.2253441</td>\n",
       "      <td>121.4888922</td>\n",
       "    </tr>\n",
       "    <tr>\n",
       "      <th>31</th>\n",
       "      <td>Николай Иванович Эрденко</td>\n",
       "      <td>Kursk, Kurskaya oblast', Russia</td>\n",
       "      <td>1</td>\n",
       "      <td>51.8727516</td>\n",
       "      <td>36.8972315</td>\n",
       "    </tr>\n",
       "  </tbody>\n",
       "</table>\n",
       "</div>"
      ],
      "text/plain": [
       "                        name                         place_full  place_count  \\\n",
       "8              Nelson Pinedo  Barranquilla, Atlántico, Colombia            2   \n",
       "13              Kentucky AFC              Wales, United Kingdom           14   \n",
       "14                  Dick Lee       Central Singapore, Singapore            1   \n",
       "22                Wang Fandi                    Shanghai, China            1   \n",
       "31  Николай Иванович Эрденко    Kursk, Kurskaya oblast', Russia            1   \n",
       "\n",
       "            lat                lng  \n",
       "8   11.04667645  -74.8490503668463  \n",
       "13   52.2928116         -3.7389299  \n",
       "14    1.2904527         103.852038  \n",
       "22   31.2253441        121.4888922  \n",
       "31   51.8727516         36.8972315  "
      ]
     },
     "execution_count": 3,
     "metadata": {},
     "output_type": "execute_result"
    }
   ],
   "source": [
    "# determine how many times each place appears in dataset, and break latlng into discrete lat and long\n",
    "place_counts = df['place_full'].value_counts()\n",
    "df['place_count'] = df['place_full'].map(lambda x: place_counts[x])\n",
    "df['lat'] = df['place_latlng'].map(lambda x: x.split(',')[0])\n",
    "df['lng'] = df['place_latlng'].map(lambda x: x.split(',')[1])\n",
    "df = df[['name', 'place_full', 'place_count', 'lat', 'lng']]\n",
    "df.head()"
   ]
  },
  {
   "cell_type": "code",
   "execution_count": 4,
   "metadata": {
    "collapsed": false
   },
   "outputs": [],
   "source": [
    "# create html list of artists from each place\n",
    "features = []\n",
    "for place_full in df['place_full'].unique():\n",
    "    \n",
    "    # how many artists to show before saying \"...and n more\"\n",
    "    num_to_show = 3\n",
    "    line_break = '<br />'\n",
    "    artists = ''\n",
    "    \n",
    "    place_count = place_counts[place_full]\n",
    "    names = df[df['place_full']==place_full]['name']\n",
    "    \n",
    "    if place_count <= num_to_show:\n",
    "        for name in names:\n",
    "            artists = '{}{}{}'.format(artists, name, line_break)\n",
    "            \n",
    "    else:\n",
    "        for name in names[0:num_to_show]:\n",
    "            artists = '{}{}{}'.format(artists, name, line_break)\n",
    "        artists = '{}...and {} more'.format(artists, place_count - num_to_show)\n",
    "        \n",
    "    features.append([place_full, artists])\n",
    "\n",
    "df_leaflet = pd.DataFrame(features, columns=['place_full', 'artists'])\n",
    "df_leaflet['artists'] = df_leaflet['artists'].str.strip(line_break)"
   ]
  },
  {
   "cell_type": "code",
   "execution_count": 5,
   "metadata": {
    "collapsed": false
   },
   "outputs": [
    {
     "data": {
      "text/html": [
       "<div>\n",
       "<table border=\"1\" class=\"dataframe\">\n",
       "  <thead>\n",
       "    <tr style=\"text-align: right;\">\n",
       "      <th></th>\n",
       "      <th>place_full</th>\n",
       "      <th>artists</th>\n",
       "      <th>lat</th>\n",
       "      <th>lng</th>\n",
       "    </tr>\n",
       "  </thead>\n",
       "  <tbody>\n",
       "    <tr>\n",
       "      <th>0</th>\n",
       "      <td>Barranquilla, Atlántico, Colombia</td>\n",
       "      <td>Nelson Pinedo&lt;br /&gt;Shakira</td>\n",
       "      <td>11.04667645</td>\n",
       "      <td>-74.8490503668463</td>\n",
       "    </tr>\n",
       "    <tr>\n",
       "      <th>1</th>\n",
       "      <td>Wales, United Kingdom</td>\n",
       "      <td>Kentucky AFC&lt;br /&gt;Radio Luxembourg&lt;br /&gt;Elin F...</td>\n",
       "      <td>52.2928116</td>\n",
       "      <td>-3.7389299</td>\n",
       "    </tr>\n",
       "    <tr>\n",
       "      <th>2</th>\n",
       "      <td>Central Singapore, Singapore</td>\n",
       "      <td>Dick Lee</td>\n",
       "      <td>1.2904527</td>\n",
       "      <td>103.852038</td>\n",
       "    </tr>\n",
       "    <tr>\n",
       "      <th>3</th>\n",
       "      <td>Shanghai, China</td>\n",
       "      <td>Wang Fandi</td>\n",
       "      <td>31.2253441</td>\n",
       "      <td>121.4888922</td>\n",
       "    </tr>\n",
       "    <tr>\n",
       "      <th>4</th>\n",
       "      <td>Kursk, Kurskaya oblast', Russia</td>\n",
       "      <td>Николай Иванович Эрденко</td>\n",
       "      <td>51.8727516</td>\n",
       "      <td>36.8972315</td>\n",
       "    </tr>\n",
       "  </tbody>\n",
       "</table>\n",
       "</div>"
      ],
      "text/plain": [
       "                          place_full  \\\n",
       "0  Barranquilla, Atlántico, Colombia   \n",
       "1              Wales, United Kingdom   \n",
       "2       Central Singapore, Singapore   \n",
       "3                    Shanghai, China   \n",
       "4    Kursk, Kurskaya oblast', Russia   \n",
       "\n",
       "                                             artists          lat  \\\n",
       "0                         Nelson Pinedo<br />Shakira  11.04667645   \n",
       "1  Kentucky AFC<br />Radio Luxembourg<br />Elin F...   52.2928116   \n",
       "2                                           Dick Lee    1.2904527   \n",
       "3                                         Wang Fandi   31.2253441   \n",
       "4                           Николай Иванович Эрденко   51.8727516   \n",
       "\n",
       "                 lng  \n",
       "0  -74.8490503668463  \n",
       "1         -3.7389299  \n",
       "2         103.852038  \n",
       "3        121.4888922  \n",
       "4         36.8972315  "
      ]
     },
     "execution_count": 5,
     "metadata": {},
     "output_type": "execute_result"
    }
   ],
   "source": [
    "# add lat and long back to the dataframe\n",
    "place_lat_lng = {}\n",
    "df_unique = df[['place_full', 'lat', 'lng']].drop_duplicates(subset='place_full')\n",
    "for label in df_unique.index:\n",
    "    place_lat_lng[df_unique.loc[label, 'place_full']] = (df_unique.loc[label, 'lat'], df_unique.loc[label, 'lng'])\n",
    "    \n",
    "df_leaflet['lat'] = df_leaflet['place_full'].map(lambda x: place_lat_lng[x][0])\n",
    "df_leaflet['lng'] = df_leaflet['place_full'].map(lambda x: place_lat_lng[x][1])\n",
    "df_leaflet.head()"
   ]
  },
  {
   "cell_type": "markdown",
   "metadata": {},
   "source": [
    "## Write to GeoJSON for leaflet mapping"
   ]
  },
  {
   "cell_type": "code",
   "execution_count": 6,
   "metadata": {
    "collapsed": true
   },
   "outputs": [],
   "source": [
    "# function to write the dataframe out to geojson\n",
    "def df_to_geojson(df, properties, lat='latitude', lon='longitude'):\n",
    "    # create a new python dict to contain our geojson data, using geojson format\n",
    "    geojson = {'type':'FeatureCollection', 'features':[]}\n",
    "\n",
    "    # loop through each row in the dataframe and convert each row to geojson format\n",
    "    for _, row in df.iterrows():\n",
    "        # create a feature template to fill in\n",
    "        feature = {'type':'Feature',\n",
    "                   'properties':{},\n",
    "                   'geometry':{'type':'Point',\n",
    "                               'coordinates':[]}}\n",
    "\n",
    "        # fill in the coordinates\n",
    "        feature['geometry']['coordinates'] = [row[lon],row[lat]]\n",
    "\n",
    "        # for each column, get the value and add it as a new feature property\n",
    "        for prop in properties:\n",
    "            feature['properties'][prop] = row[prop]\n",
    "        \n",
    "        # add this feature (aka, converted dataframe row) to the list of features inside our dict\n",
    "        geojson['features'].append(feature)\n",
    "    \n",
    "    return geojson"
   ]
  },
  {
   "cell_type": "code",
   "execution_count": 7,
   "metadata": {
    "collapsed": false
   },
   "outputs": [
    {
     "name": "stdout",
     "output_type": "stream",
     "text": [
      "2,006 geotagged features saved to file\n"
     ]
    }
   ],
   "source": [
    "geojson = df_to_geojson(df_leaflet, df_leaflet.columns, lat='lat', lon='lng')\n",
    "\n",
    "# save the geojson result to a file\n",
    "output_filename = 'leaflet/lastfm-dataset.js'\n",
    "with open(output_filename, 'w') as output_file:\n",
    "    output_file.write('var dataset = {};'.format(json.dumps(geojson)))\n",
    "    \n",
    "# how many features did we save to the geojson file?\n",
    "print('{:,} geotagged features saved to file'.format(len(geojson['features'])))"
   ]
  },
  {
   "cell_type": "code",
   "execution_count": 8,
   "metadata": {
    "collapsed": false
   },
   "outputs": [
    {
     "data": {
      "text/html": [
       "\n",
       "        <iframe\n",
       "            width=\"600\"\n",
       "            height=\"400\"\n",
       "            src=\"leaflet/lastfm-artists-map.html\"\n",
       "            frameborder=\"0\"\n",
       "            allowfullscreen\n",
       "        ></iframe>\n",
       "        "
      ],
      "text/plain": [
       "<IPython.lib.display.IFrame at 0x1fda04def28>"
      ]
     },
     "execution_count": 8,
     "metadata": {},
     "output_type": "execute_result"
    }
   ],
   "source": [
    "# show the iframe of the leaflet web map here\n",
    "IFrame('leaflet/lastfm-artists-map.html', width=600, height=400)"
   ]
  },
  {
   "cell_type": "markdown",
   "metadata": {},
   "source": [
    "To see the final product live, visit: http://geoffboeing.com/2016/05/analyzing-lastfm-history/"
   ]
  },
  {
   "cell_type": "code",
   "execution_count": null,
   "metadata": {
    "collapsed": true
   },
   "outputs": [],
   "source": []
  }
 ],
 "metadata": {
  "kernelspec": {
   "display_name": "Python 3",
   "language": "python",
   "name": "python3"
  },
  "language_info": {
   "codemirror_mode": {
    "name": "ipython",
    "version": 3
   },
   "file_extension": ".py",
   "mimetype": "text/x-python",
   "name": "python",
   "nbconvert_exporter": "python",
   "pygments_lexer": "ipython3",
   "version": "3.5.1"
  }
 },
 "nbformat": 4,
 "nbformat_minor": 0
}
