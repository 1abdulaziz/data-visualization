{
 "cells": [
  {
   "cell_type": "markdown",
   "metadata": {},
   "source": [
    "# MusicBrainz place geocoder\n",
    "\n",
    "This notebook loads a set of artists from musicbrainz, gets each's place name (ie, either where they're from or where they're most associated with - as determined in other notebook), and geocodes that place name to lat long. Then it maps the artists.\n",
    "\n",
    "Nominatim API documentation: https://wiki.openstreetmap.org/wiki/Nominatim\n",
    "\n",
    "Sample Nominatim query: https://nominatim.openstreetmap.org/search?format=json&q=brixton,london,england"
   ]
  },
  {
   "cell_type": "code",
   "execution_count": 1,
   "metadata": {
    "collapsed": false
   },
   "outputs": [],
   "source": [
    "import pandas as pd, numpy as np, matplotlib.pyplot as plt, time, requests\n",
    "from mpl_toolkits.basemap import Basemap\n",
    "from geopy.distance import great_circle\n",
    "\n",
    "%matplotlib inline\n",
    "pause = 0.75"
   ]
  },
  {
   "cell_type": "markdown",
   "metadata": {},
   "source": [
    "## Define geocoding functions\n",
    "\n",
    "Nominatim and Google APIs"
   ]
  },
  {
   "cell_type": "code",
   "execution_count": 2,
   "metadata": {
    "collapsed": true
   },
   "outputs": [],
   "source": [
    "def geocode_nominatim(address):\n",
    "    time.sleep(pause)\n",
    "    url = u'https://nominatim.openstreetmap.org/search?format=json&q={}'\n",
    "    request = url.format(address)\n",
    "    response = requests.get(request)\n",
    "    data = response.json()\n",
    "    if len(data) > 0:\n",
    "        return '{},{}'.format(data[0]['lat'], data[0]['lon'])"
   ]
  },
  {
   "cell_type": "code",
   "execution_count": 3,
   "metadata": {
    "collapsed": false
   },
   "outputs": [],
   "source": [
    "def geocode_google(address):\n",
    "    time.sleep(pause)\n",
    "    url = u'http://maps.googleapis.com/maps/api/geocode/json?sensor=false&address={}'\n",
    "    request = url.format(address)\n",
    "    response = requests.get(request)\n",
    "    data = response.json()\n",
    "    if len(data['results']) > 0:\n",
    "        latitude = data['results'][0]['geometry']['location']['lat']\n",
    "        longitude = data['results'][0]['geometry']['location']['lng']\n",
    "        return '{},{}'.format(latitude, longitude)"
   ]
  },
  {
   "cell_type": "markdown",
   "metadata": {},
   "source": [
    "## Test it"
   ]
  },
  {
   "cell_type": "code",
   "execution_count": 4,
   "metadata": {
    "collapsed": false
   },
   "outputs": [],
   "source": [
    "address = u\"Brixton, London, England, United Kingdom\"\n",
    "latlng_google = geocode_google(address)\n",
    "latlng_nominatim = geocode_nominatim(address)"
   ]
  },
  {
   "cell_type": "code",
   "execution_count": 5,
   "metadata": {
    "collapsed": false
   },
   "outputs": [
    {
     "name": "stdout",
     "output_type": "stream",
     "text": [
      "51.4612794,-0.1156148 google\n",
      "51.4568044,-0.1167958 nominatim\n",
      "0.31 miles apart\n"
     ]
    }
   ],
   "source": [
    "print '{} google'.format(latlng_google)\n",
    "print '{} nominatim'.format(latlng_nominatim)\n",
    "print '{} miles apart'.format(round(great_circle(latlng_google, latlng_nominatim).miles, 2))"
   ]
  },
  {
   "cell_type": "markdown",
   "metadata": {},
   "source": [
    "## Run it"
   ]
  },
  {
   "cell_type": "code",
   "execution_count": 6,
   "metadata": {
    "collapsed": false
   },
   "outputs": [
    {
     "name": "stdout",
     "output_type": "stream",
     "text": [
      "12,492 total artists\n",
      "2,016 unique places\n"
     ]
    }
   ],
   "source": [
    "artists = pd.read_csv('data/mb.csv', encoding='utf-8')\n",
    "print '{:,} total artists'.format(len(artists))\n",
    "\n",
    "# drop nans and get the unique set of places\n",
    "addresses = pd.Series(artists['place_full'].dropna().sort_values().unique())\n",
    "print '{:,} unique places'.format(len(addresses))"
   ]
  },
  {
   "cell_type": "code",
   "execution_count": null,
   "metadata": {
    "collapsed": false
   },
   "outputs": [
    {
     "name": "stdout",
     "output_type": "stream",
     "text": [
      "91 countries with more detail\n",
      "1,943 unique addresses to geocode\n"
     ]
    }
   ],
   "source": [
    "def get_country_if_more_detail(address):\n",
    "    tokens = address.split(',')\n",
    "    if len(tokens) > 1:\n",
    "        return tokens[-1].strip()\n",
    "\n",
    "# if a place contains only country name, check if that country name exists with more detail elsewhere in the list of places\n",
    "# countries_with_more_detail is a list of all the countries that appear at end of comma-separated address strings\n",
    "countries_with_more_detail = pd.Series(addresses.map(get_country_if_more_detail).dropna().sort_values().unique())\n",
    "print '{:,} countries with more detail'.format(len(countries_with_more_detail))\n",
    "\n",
    "# if so, discard the instance that is country name only - this country is represented elsewhere in list with finer grain info\n",
    "# ie, keep 'estonia' if there is no 'talinn, estonia' elsewhere in list, \n",
    "# but discard 'russia' if 'moscow, russia' exists elsewhere in the list\n",
    "addresses_to_geocode = addresses[~addresses.isin(countries_with_more_detail)]\n",
    "print '{:,} unique addresses to geocode'.format(len(addresses_to_geocode))"
   ]
  },
  {
   "cell_type": "code",
   "execution_count": null,
   "metadata": {
    "collapsed": false
   },
   "outputs": [
    {
     "name": "stdout",
     "output_type": "stream",
     "text": [
      "0 10 20 30 40 50"
     ]
    }
   ],
   "source": [
    "# geocode (with nominatim) each retained address (ie, full place name string)\n",
    "start_time = time.time()\n",
    "\n",
    "latlng_dict = {}\n",
    "for address, n in zip(addresses_to_geocode, range(len(addresses_to_geocode))):\n",
    "    if n % 10 == 0: print n,\n",
    "    latlng_dict[address] = geocode_nominatim(address)\n",
    "\n",
    "finish_time = time.time()"
   ]
  },
  {
   "cell_type": "code",
   "execution_count": null,
   "metadata": {
    "collapsed": false
   },
   "outputs": [],
   "source": [
    "print 'nominatim geocoded {:,} addresses in {:,} seconds'.format(len(addresses_to_geocode), int(finish_time-start_time))\n",
    "print 'received {:,} non-null lat-longs'.format(len([key for key in latlng_dict if latlng_dict[key] is not None]))"
   ]
  },
  {
   "cell_type": "code",
   "execution_count": null,
   "metadata": {
    "collapsed": false
   },
   "outputs": [],
   "source": [
    "# which addresses failed to geocode successfully?\n",
    "addresses_to_geocode = [ key for key in latlng_dict if latlng_dict[key] is None ]\n",
    "addresses_to_geocode"
   ]
  },
  {
   "cell_type": "code",
   "execution_count": null,
   "metadata": {
    "collapsed": false
   },
   "outputs": [],
   "source": [
    "# now geocode (with google) each address that failed with nominatim\n",
    "if len(addresses_to_geocode) < 2500:\n",
    "    start_time = time.time()\n",
    "    for address, n in zip(addresses_to_geocode, range(len(addresses_to_geocode))):\n",
    "        if n % 10 == 0: print n,\n",
    "        latlng_dict[address] = geocode_google(address)\n",
    "    finish_time = time.time()"
   ]
  },
  {
   "cell_type": "code",
   "execution_count": null,
   "metadata": {
    "collapsed": false
   },
   "outputs": [],
   "source": [
    "print 'google geocoded {:,} addresses in {:,} seconds'.format(len(addresses_to_geocode), int(finish_time-start_time))\n",
    "print 'received {:,} non-null lat-longs'.format(len([key for key in latlng_dict if latlng_dict[key] is not None]))"
   ]
  },
  {
   "cell_type": "code",
   "execution_count": null,
   "metadata": {
    "collapsed": false
   },
   "outputs": [],
   "source": [
    "# for each artist, if their place appears in the geocoded dict, pull the latlng value from dict into new df column\n",
    "def get_latlng_by_address(address):\n",
    "    try:\n",
    "        return latlng_dict[address]\n",
    "    except:\n",
    "        return None\n",
    "\n",
    "artists['place_latlng'] = artists['place_full'].map(get_latlng_by_address)\n",
    "artists[['name', 'place_full', 'place_latlng']].sort_values(by='place_full').head()"
   ]
  },
  {
   "cell_type": "code",
   "execution_count": null,
   "metadata": {
    "collapsed": true
   },
   "outputs": [],
   "source": [
    "artists.to_csv('data/mb_geocoded.csv', index=False, encoding='utf-8')"
   ]
  },
  {
   "cell_type": "markdown",
   "metadata": {},
   "source": [
    "## Map it"
   ]
  },
  {
   "cell_type": "code",
   "execution_count": null,
   "metadata": {
    "collapsed": false
   },
   "outputs": [],
   "source": [
    "# get discrete vectors of lats and lons, for easy x-y scatter-plotting\n",
    "lats = artists['place_latlng'].dropna().map(lambda x: float(x.split(',')[0]))\n",
    "lons = artists['place_latlng'].dropna().map(lambda x: float(x.split(',')[1]))"
   ]
  },
  {
   "cell_type": "code",
   "execution_count": null,
   "metadata": {
    "collapsed": true
   },
   "outputs": [],
   "source": [
    "# define map colors\n",
    "land_color = '#f5f5f3'\n",
    "water_color = '#cdd2d4'\n",
    "coastline_color = '#f5f5f3'\n",
    "border_color = '#bbbbbb'\n",
    "meridian_color = '#f5f5f3'\n",
    "marker_fill_color = 'r'\n",
    "marker_edge_color = 'None'"
   ]
  },
  {
   "cell_type": "code",
   "execution_count": null,
   "metadata": {
    "collapsed": false
   },
   "outputs": [],
   "source": [
    "# create the plot\n",
    "fig = plt.figure(figsize=(20, 10))\n",
    "ax = fig.add_subplot(111, axisbg='#ffffff', frame_on=False)\n",
    "ax.set_title('Last.fm Artist Origins', fontsize=20, color='#333333')\n",
    "\n",
    "# draw the basemap and its features\n",
    "m = Basemap(projection='kav7', lon_0=0, resolution='l', area_thresh=10000)\n",
    "m.drawmapboundary(color=border_color, fill_color=water_color)\n",
    "m.drawcoastlines(color=coastline_color)\n",
    "m.drawcountries(color=border_color)\n",
    "m.fillcontinents(color=land_color, lake_color=water_color)\n",
    "m.drawparallels(np.arange(-90., 120., 30.), color=meridian_color)\n",
    "m.drawmeridians(np.arange(0., 420., 60.), color=meridian_color)\n",
    "\n",
    "# project our points from each dataset then concatenate and scatter plot them\n",
    "x, y = m(lons.values, lats.values)\n",
    "m.scatter(x, y, s=8, color=marker_fill_color, edgecolor=marker_edge_color, alpha=1, zorder=3)\n",
    "\n",
    "# show the map\n",
    "plt.savefig('images/lastfm_artists_origins_map.png', dpi=96, bbox_inches='tight', pad_inches=0.2)\n",
    "plt.show()"
   ]
  },
  {
   "cell_type": "code",
   "execution_count": null,
   "metadata": {
    "collapsed": true
   },
   "outputs": [],
   "source": []
  }
 ],
 "metadata": {
  "kernelspec": {
   "display_name": "Python 2",
   "language": "python",
   "name": "python2"
  },
  "language_info": {
   "codemirror_mode": {
    "name": "ipython",
    "version": 2
   },
   "file_extension": ".py",
   "mimetype": "text/x-python",
   "name": "python",
   "nbconvert_exporter": "python",
   "pygments_lexer": "ipython2",
   "version": "2.7.11"
  }
 },
 "nbformat": 4,
 "nbformat_minor": 0
}
