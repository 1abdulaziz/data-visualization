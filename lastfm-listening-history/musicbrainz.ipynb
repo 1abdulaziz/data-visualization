{
 "cells": [
  {
   "cell_type": "markdown",
   "metadata": {},
   "source": [
    "# MusicBrainz artist lookup\n",
    "\n",
    "Documentation:\n",
    " - Web service: https://wiki.musicbrainz.org/Development/XML_Web_Service/Version_2/Search\n",
    " - Artist entities: https://musicbrainz.org/doc/Artist\n",
    " - Area entities: https://musicbrainz.org/doc/Area\n",
    "\n",
    "Sample queries:\n",
    " - Artist: https://musicbrainz.org/ws/2/artist/d4659efb-b8eb-4f03-95e9-f69ce35967a9\n",
    " - Area: https://musicbrainz.org/ws/2/area/0a70f24b-1263-4341-8d70-17b8df84154f?inc=area-rels"
   ]
  },
  {
   "cell_type": "code",
   "execution_count": 1,
   "metadata": {
    "collapsed": true
   },
   "outputs": [],
   "source": [
    "import pandas as pd, requests, time, json\n",
    "\n",
    "pause_standard = 0.1\n",
    "pause_exceeded_rate = 19"
   ]
  },
  {
   "cell_type": "code",
   "execution_count": 2,
   "metadata": {
    "collapsed": true
   },
   "outputs": [],
   "source": [
    "# configure URLs and user-agent header\n",
    "artist_name_url = u'https://musicbrainz.org/ws/2/artist/?query=artist:{}&fmt=json'\n",
    "artist_id_url = u'https://musicbrainz.org/ws/2/artist/{}?fmt=json'\n",
    "area_id_url = u'https://musicbrainz.org/ws/2/area/{}?inc=area-rels&fmt=json'\n",
    "headers = {'User-Agent': 'Mozilla/5.0 (Macintosh; Intel Mac OS X 10_10_1) AppleWebKit/537.36 (KHTML, like Gecko) Chrome/39.0.2171.95 Safari/537.36'}"
   ]
  },
  {
   "cell_type": "code",
   "execution_count": 3,
   "metadata": {
    "collapsed": true
   },
   "outputs": [],
   "source": [
    "def make_request(url, headers=headers):\n",
    "    \n",
    "    global pause_standard\n",
    "    global pause_exceeded_rate\n",
    "    \n",
    "    time.sleep(pause_standard)\n",
    "    #print url\n",
    "    response = requests.get(url, headers=headers)\n",
    "    \n",
    "    if response.status_code == 200: #if status OK\n",
    "        return {'status_code':response.status_code, 'json':response.json()}\n",
    "    \n",
    "    elif response.status_code == 503: #if status error (server busy or rate limit exceeded)\n",
    "        if 'exceeding the allowable rate limit' in response.json()['error']:\n",
    "            #print '\\n{}\\n{}\\npausing {} secs and re-try\\n'.format(response.status_code, response.json(), pause_exceeded_rate)\n",
    "            pause_standard = pause_standard + 0.1\n",
    "            print 'pause_standard={}'.format(pause_standard),\n",
    "            time.sleep(pause_exceeded_rate)\n",
    "        return make_request(url)\n",
    "    \n",
    "    else: #if other status code, print info and return None for caller to handle\n",
    "        print '\\nmake_request error code {} {}\\n'.format(response.status_code, response.json())\n",
    "        return None"
   ]
  },
  {
   "cell_type": "code",
   "execution_count": 4,
   "metadata": {
    "collapsed": true
   },
   "outputs": [],
   "source": [
    "def geocode(address):\n",
    "    time.sleep(pause) #pause for some duration before each request, to not hammer their server\n",
    "    url = u'http://maps.googleapis.com/maps/api/geocode/json?address={}&sensor=false' #api url with placeholders\n",
    "    request = url.format(address) #fill in the placeholder with a variable\n",
    "    response = requests.get(request) #send the request to the server and get the response\n",
    "    data = json.loads(response.text) #convert the response json string into a dict\n",
    "    \n",
    "    if len(data['results']) > 0: #if google was able to geolocate our address, extract lat-long from result\n",
    "        latitude = data['results'][0]['geometry']['location']['lat']\n",
    "        longitude = data['results'][0]['geometry']['location']['lng']\n",
    "        return '{},{}'.format(latitude, longitude)"
   ]
  },
  {
   "cell_type": "code",
   "execution_count": 5,
   "metadata": {
    "collapsed": true
   },
   "outputs": [],
   "source": [
    "def get_artist_id_by_name(name):\n",
    "    try:\n",
    "        response = make_request(artist_name_url.format(name))\n",
    "        if response is not None:\n",
    "            result = response['json']\n",
    "            artist_id = result['artists'][0]['id']\n",
    "            return artist_id\n",
    "    except:\n",
    "        print 'get_artist_id_by_name error: {}'.format(response)"
   ]
  },
  {
   "cell_type": "code",
   "execution_count": 6,
   "metadata": {
    "collapsed": true
   },
   "outputs": [],
   "source": [
    "def get_artist_by_id(artist_id):\n",
    "    try:\n",
    "        response = make_request(artist_id_url.format(artist_id))\n",
    "        if response is not None:\n",
    "            result = response['json']\n",
    "            data = {'id':artist_id,\n",
    "                    'name':result['name'],            \n",
    "                    'type':result['type'],\n",
    "                    'gender':result['gender'],\n",
    "                    'country':result['country'],\n",
    "                    'begin_date':None,\n",
    "                    'end_date':None,\n",
    "                    'area_id':None,\n",
    "                    'area_name':None,\n",
    "                    'area_name_full':None,\n",
    "                    'area_latlng':None,\n",
    "                    'begin_area_id':None,\n",
    "                    'begin_area_name':None,\n",
    "                    'begin_area_name_full':None,\n",
    "                    'begin_area_latlng':None,\n",
    "                    'place':None,\n",
    "                    'place_id':None,\n",
    "                    'place_full':None,\n",
    "                    'place_latlng':None}\n",
    "\n",
    "            if result['life-span'] is not None and 'begin' in result['life-span'] and 'end' in result['life-span']:\n",
    "                data['begin_date'] = result['life-span']['begin']\n",
    "                data['end_date'] = result['life-span']['end']\n",
    "            if result['area'] is not None and 'id' in result['area'] and 'name' in result['area']:\n",
    "                data['area_id'] = result['area']['id']\n",
    "                data['area_name'] = result['area']['name']\n",
    "            if result['begin_area'] is not None and 'id' in result['begin_area'] and 'name' in result['begin_area']:\n",
    "                data['begin_area_id'] = result['begin_area']['id']\n",
    "                data['begin_area_name'] = result['begin_area']['name']\n",
    "            \n",
    "            # populate place with begin_area_name if it's not null, else area_name if it's not null, else None\n",
    "            if data['begin_area_name'] is not None:\n",
    "                data['place'] = data['begin_area_name']\n",
    "                data['place_id'] = data['begin_area_id']\n",
    "            elif data['area_name'] is not None:\n",
    "                data['place'] = data['area_name']\n",
    "                data['place_id'] = data['area_id']\n",
    "            \n",
    "            return data\n",
    "    \n",
    "    except:\n",
    "        print 'get_artist_by_id error: {}'.format(response)"
   ]
  },
  {
   "cell_type": "code",
   "execution_count": 7,
   "metadata": {
    "collapsed": true
   },
   "outputs": [],
   "source": [
    "def get_area(area_id, area_str=''):\n",
    "    try: \n",
    "        response = make_request(area_id_url.format(area_id))\n",
    "        if response is not None:\n",
    "            result = response['json']\n",
    "            \n",
    "            if area_str == '':\n",
    "                area_str = result['name']\n",
    "            \n",
    "            if 'relations' in result:\n",
    "                for relation in result['relations']:\n",
    "                    if relation['direction']=='backward' and relation['type']=='part of':\n",
    "                        area_id = relation['area']['id']\n",
    "                        area_str = u'{}, {}'.format(area_str, relation['area']['name'])\n",
    "                        return area_id, area_str\n",
    "            else:\n",
    "                print 'get_area no relations error: {}'.format(result)\n",
    "            return None, area_str\n",
    "    except:\n",
    "        print 'get_area error: {}'.format(response)"
   ]
  },
  {
   "cell_type": "code",
   "execution_count": 8,
   "metadata": {
    "collapsed": true
   },
   "outputs": [],
   "source": [
    "def get_place_full_name_by_id(area_id):\n",
    "    area_name=''\n",
    "    while area_id is not None:\n",
    "        area_id, area_name = get_area(area_id, area_name)\n",
    "    return area_name"
   ]
  },
  {
   "cell_type": "markdown",
   "metadata": {},
   "source": [
    "## Test it with a demo"
   ]
  },
  {
   "cell_type": "code",
   "execution_count": 9,
   "metadata": {
    "collapsed": false
   },
   "outputs": [
    {
     "data": {
      "text/plain": [
       "u'Brixton, Lambeth, London, England, United Kingdom'"
      ]
     },
     "execution_count": 9,
     "metadata": {},
     "output_type": "execute_result"
    }
   ],
   "source": [
    "name = 'david bowie'\n",
    "artist_id = get_artist_id_by_name(name)\n",
    "artist = get_artist_by_id(artist_id)\n",
    "artist['place_full'] = get_place_full_name_by_id(artist['place_id'])\n",
    "artist['place_full']"
   ]
  },
  {
   "cell_type": "markdown",
   "metadata": {},
   "source": [
    "## Now run it"
   ]
  },
  {
   "cell_type": "code",
   "execution_count": 10,
   "metadata": {
    "collapsed": true
   },
   "outputs": [],
   "source": [
    "df = pd.DataFrame(columns=['id', 'name', 'type', 'gender', 'country', 'begin_date', 'end_date', \n",
    "                           'begin_area_name', 'begin_area_name_full', 'begin_area_latlng', \n",
    "                           'area_name', 'area_name_full', 'area_latlng',\n",
    "                           'place_id', 'place', 'place_full', 'place_latlng'])"
   ]
  },
  {
   "cell_type": "code",
   "execution_count": null,
   "metadata": {
    "collapsed": false
   },
   "outputs": [
    {
     "data": {
      "text/plain": [
       "12484"
      ]
     },
     "execution_count": 11,
     "metadata": {},
     "output_type": "execute_result"
    }
   ],
   "source": [
    "scrobbles = pd.read_csv('data/lastfm_scrobbles.csv', encoding='utf-8')\n",
    "artist_ids = scrobbles['artist_mbid'].dropna().unique()\n",
    "len(artist_ids)"
   ]
  },
  {
   "cell_type": "code",
   "execution_count": null,
   "metadata": {
    "collapsed": false
   },
   "outputs": [
    {
     "name": "stdout",
     "output_type": "stream",
     "text": [
      "0 10 pause_standard=0.2 20 30 pause_standard=0.3 40 pause_standard=0.4 50 60 70 80 90 100 110 120 130 140 150 160 170 180 190 200 210 220 230 240 250 260 270 280 290 300 310 320 330 340 350 360 370 380 390 400 410 420 430 440 450 460 470 480 490 500 510 520 530 540 550 560 570 580 590 600 610 620 630 640 650 660 670 680 690 700 710 720 730 pause_standard=0.5 740 750 760 770 780 790 800 810 820 830 840 850 860 870 880 890 900 910 920 930 940 950 960 970 980 990 1000 1010 1020 1030 1040 1050 1060 1070 1080 1090 1100 1110 1120 1130 1140 1150 1160"
     ]
    }
   ],
   "source": [
    "start_time = time.time()\n",
    "\n",
    "for artist_id, n in zip(artist_ids, range(len(artist_ids))):\n",
    "    \n",
    "    if n % 10 == 0 :\n",
    "        print n,\n",
    "        df.to_csv('data/mb.csv', index=False, encoding='utf-8')\n",
    "        \n",
    "    try:\n",
    "        # get the artist info object\n",
    "        artist = get_artist_by_id(artist_id)\n",
    "        \n",
    "        # create a new df row containing the data from this artist object\n",
    "        df.loc[n] = [artist['id'], artist['name'], artist['type'], artist['gender'], artist['country'], \n",
    "                     artist['begin_date'], artist['end_date'],\n",
    "                     artist['begin_area_name'], artist['begin_area_name_full'], artist['begin_area_latlng'],\n",
    "                     artist['area_name'], artist['area_name_full'], artist['area_latlng'],\n",
    "                     artist['place_id'], artist['place'], artist['place_full'], artist['place_latlng']]\n",
    "        \n",
    "        # update the row's place_full cell with the full place name\n",
    "        df.loc[n, 'place_full'] = get_place_full_name_by_id(artist['place_id'])\n",
    "        \n",
    "    except:\n",
    "        print '#{} failed'.format(n)\n",
    "        pass\n",
    "\n",
    "df.to_csv('data/mb.csv', index=False, encoding='utf-8')\n",
    "finish_time = time.time()"
   ]
  },
  {
   "cell_type": "code",
   "execution_count": null,
   "metadata": {
    "collapsed": false
   },
   "outputs": [],
   "source": [
    "print 'processed {:,} artists in {:,} seconds'.format(len(artist_ids), round(finish_time-start_time, 2))\n",
    "df"
   ]
  }
 ],
 "metadata": {
  "kernelspec": {
   "display_name": "Python 2",
   "language": "python",
   "name": "python2"
  },
  "language_info": {
   "codemirror_mode": {
    "name": "ipython",
    "version": 2
   },
   "file_extension": ".py",
   "mimetype": "text/x-python",
   "name": "python",
   "nbconvert_exporter": "python",
   "pygments_lexer": "ipython2",
   "version": "2.7.11"
  }
 },
 "nbformat": 4,
 "nbformat_minor": 0
}
