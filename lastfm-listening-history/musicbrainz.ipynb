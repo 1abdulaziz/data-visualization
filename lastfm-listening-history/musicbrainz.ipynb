{
 "cells": [
  {
   "cell_type": "markdown",
   "metadata": {},
   "source": [
    "https://wiki.musicbrainz.org/Development/XML_Web_Service/Version_2/Search"
   ]
  },
  {
   "cell_type": "markdown",
   "metadata": {},
   "source": [
    "https://musicbrainz.org/doc/Artist\n",
    "\n",
    "https://musicbrainz.org/doc/Area\n",
    "\n",
    "https://musicbrainz.org/ws/2/area/0a70f24b-1263-4341-8d70-17b8df84154f?inc=area-rels\n",
    "\n",
    "https://musicbrainz.org/ws/2/artist/d4659efb-b8eb-4f03-95e9-f69ce35967a9"
   ]
  },
  {
   "cell_type": "code",
   "execution_count": 1,
   "metadata": {
    "collapsed": true
   },
   "outputs": [],
   "source": [
    "import pandas as pd, requests, time, json"
   ]
  },
  {
   "cell_type": "code",
   "execution_count": 2,
   "metadata": {
    "collapsed": true
   },
   "outputs": [],
   "source": [
    "pause = 0.2\n",
    "artist_name_url = 'https://musicbrainz.org/ws/2/artist/?query=artist:{}&fmt=json'\n",
    "artist_id_url = 'https://musicbrainz.org/ws/2/artist/{}?fmt=json'\n",
    "area_id_url = 'https://musicbrainz.org/ws/2/area/{}?inc=area-rels&fmt=json'"
   ]
  },
  {
   "cell_type": "code",
   "execution_count": 3,
   "metadata": {
    "collapsed": true
   },
   "outputs": [],
   "source": [
    "def make_request(url):\n",
    "    time.sleep(pause)\n",
    "    return requests.get(url).json()"
   ]
  },
  {
   "cell_type": "code",
   "execution_count": 4,
   "metadata": {
    "collapsed": true
   },
   "outputs": [],
   "source": [
    "def geocode(address):\n",
    "    time.sleep(pause) #pause for some duration before each request, to not hammer their server\n",
    "    url = 'http://maps.googleapis.com/maps/api/geocode/json?address={}&sensor=false' #api url with placeholders\n",
    "    request = url.format(address) #fill in the placeholder with a variable\n",
    "    response = requests.get(request) #send the request to the server and get the response\n",
    "    data = json.loads(response.text) #convert the response json string into a dict\n",
    "    \n",
    "    if len(data['results']) > 0: #if google was able to geolocate our address, extract lat-long from result\n",
    "        latitude = data['results'][0]['geometry']['location']['lat']\n",
    "        longitude = data['results'][0]['geometry']['location']['lng']\n",
    "        return '{},{}'.format(latitude, longitude)"
   ]
  },
  {
   "cell_type": "code",
   "execution_count": 5,
   "metadata": {
    "collapsed": true
   },
   "outputs": [],
   "source": [
    "def get_area(area_id, area_str=''):\n",
    "    response = make_request(area_id_url.format(area_id))\n",
    "    if 'relations' in response:\n",
    "        for relation in response['relations']:\n",
    "            if relation['direction']=='backward' and relation['type']=='part of':\n",
    "                return relation['area']['id'], '{}, {}'.format(area_str, relation['area']['name'])\n",
    "    return None, area_str"
   ]
  },
  {
   "cell_type": "code",
   "execution_count": 6,
   "metadata": {
    "collapsed": true
   },
   "outputs": [],
   "source": [
    "def get_artist_id_by_name(name):\n",
    "    response = make_request(artist_name_url.format(name))\n",
    "    artist_id = response['artists'][0]['id']\n",
    "    return artist_id"
   ]
  },
  {
   "cell_type": "code",
   "execution_count": 7,
   "metadata": {
    "collapsed": true
   },
   "outputs": [],
   "source": [
    "def get_artist_by_id(artist_id):\n",
    "    response = make_request(artist_id_url.format(artist_id))\n",
    "    data = {'id':artist_id,\n",
    "            'name':response['name'],            \n",
    "            'type':response['type'],\n",
    "            'gender':response['gender'],\n",
    "            'country':response['country'],\n",
    "            'begin_date':response['life-span']['begin'],\n",
    "            'end_date':response['life-span']['end'],\n",
    "            'area_id':response['area']['id'],\n",
    "            'area_name':response['area']['name'],\n",
    "            'area_name_full':None,\n",
    "            'area_latlng':None,\n",
    "            'begin_area_id':response['begin_area']['id'],\n",
    "            'begin_area_name':response['begin_area']['name'],\n",
    "            'begin_area_name_full':None,\n",
    "            'begin_area_latlng':None}\n",
    "    return data"
   ]
  },
  {
   "cell_type": "code",
   "execution_count": 8,
   "metadata": {
    "collapsed": true
   },
   "outputs": [],
   "source": [
    "df = pd.DataFrame(columns=['name', 'type', 'gender', 'country', 'begin_date', 'end_date', \n",
    "                           'begin_area_name', 'begin_area_name_full', 'begin_area_latlng', \n",
    "                           'area_name', 'area_name_full', 'area_latlng'])"
   ]
  },
  {
   "cell_type": "code",
   "execution_count": 9,
   "metadata": {
    "collapsed": true
   },
   "outputs": [],
   "source": [
    "artist_names = ['modest mouse', 'david byrne', 'pink floyd', 'tinariwen', 'david bowie']"
   ]
  },
  {
   "cell_type": "code",
   "execution_count": 10,
   "metadata": {
    "collapsed": true
   },
   "outputs": [],
   "source": [
    "for name in artist_names:\n",
    "    \n",
    "    artist_id = get_artist_id_by_name(name)\n",
    "    artist = get_artist_by_id(artist_id)\n",
    "    \n",
    "    begin_area_id = artist['begin_area_id']\n",
    "    begin_area_name = artist['begin_area_name']\n",
    "    while begin_area_id is not None:\n",
    "        begin_area_id, begin_area_name = get_area(begin_area_id, begin_area_name)\n",
    "    artist['begin_area_name_full'] = begin_area_name\n",
    "    artist['begin_area_latlng'] = geocode(begin_area_name)\n",
    "    \n",
    "    area_id = artist['area_id']\n",
    "    area_name = artist['area_name']\n",
    "    while area_id is not None:\n",
    "        area_id, area_name = get_area(area_id, area_name)\n",
    "    artist['area_name_full'] = area_name\n",
    "    artist['area_latlng'] = geocode(area_name)\n",
    "    #if artist['country'] is None, save this country element as its value?\n",
    "    \n",
    "    df.loc[len(df)] = [artist['name'], artist['type'], artist['gender'], artist['country'], \n",
    "                       artist['begin_date'], artist['end_date'],\n",
    "                       artist['begin_area_name'], artist['begin_area_name_full'], artist['begin_area_latlng'],\n",
    "                       artist['area_name'], artist['area_name_full'], artist['area_latlng']]"
   ]
  },
  {
   "cell_type": "code",
   "execution_count": 11,
   "metadata": {
    "collapsed": false
   },
   "outputs": [
    {
     "data": {
      "text/html": [
       "<div>\n",
       "<table border=\"1\" class=\"dataframe\">\n",
       "  <thead>\n",
       "    <tr style=\"text-align: right;\">\n",
       "      <th></th>\n",
       "      <th>name</th>\n",
       "      <th>type</th>\n",
       "      <th>gender</th>\n",
       "      <th>country</th>\n",
       "      <th>begin_date</th>\n",
       "      <th>end_date</th>\n",
       "      <th>begin_area_name</th>\n",
       "      <th>begin_area_name_full</th>\n",
       "      <th>begin_area_latlng</th>\n",
       "      <th>area_name</th>\n",
       "      <th>area_name_full</th>\n",
       "      <th>area_latlng</th>\n",
       "    </tr>\n",
       "  </thead>\n",
       "  <tbody>\n",
       "    <tr>\n",
       "      <th>0</th>\n",
       "      <td>Modest Mouse</td>\n",
       "      <td>Group</td>\n",
       "      <td>None</td>\n",
       "      <td>None</td>\n",
       "      <td>1993</td>\n",
       "      <td>None</td>\n",
       "      <td>Issaquah</td>\n",
       "      <td>Issaquah, King County, Washington, United States</td>\n",
       "      <td>47.5301011,-122.0326191</td>\n",
       "      <td>Portland</td>\n",
       "      <td>Portland, Multnomah County, Oregon, United States</td>\n",
       "      <td>45.5230622,-122.6764816</td>\n",
       "    </tr>\n",
       "    <tr>\n",
       "      <th>1</th>\n",
       "      <td>David Byrne</td>\n",
       "      <td>Person</td>\n",
       "      <td>Male</td>\n",
       "      <td>US</td>\n",
       "      <td>1952-05-14</td>\n",
       "      <td>None</td>\n",
       "      <td>Dumbarton</td>\n",
       "      <td>Dumbarton, West Dunbartonshire, Scotland, Unit...</td>\n",
       "      <td>55.945287,-4.564554</td>\n",
       "      <td>United States</td>\n",
       "      <td>United States</td>\n",
       "      <td>37.09024,-95.712891</td>\n",
       "    </tr>\n",
       "    <tr>\n",
       "      <th>2</th>\n",
       "      <td>Pink Floyd</td>\n",
       "      <td>Group</td>\n",
       "      <td>None</td>\n",
       "      <td>GB</td>\n",
       "      <td>1965</td>\n",
       "      <td>2014</td>\n",
       "      <td>London</td>\n",
       "      <td>London, England, United Kingdom</td>\n",
       "      <td>51.5073509,-0.1277583</td>\n",
       "      <td>United Kingdom</td>\n",
       "      <td>United Kingdom</td>\n",
       "      <td>55.378051,-3.435973</td>\n",
       "    </tr>\n",
       "    <tr>\n",
       "      <th>3</th>\n",
       "      <td>Tinariwen</td>\n",
       "      <td>Group</td>\n",
       "      <td>None</td>\n",
       "      <td>ML</td>\n",
       "      <td>1982</td>\n",
       "      <td>None</td>\n",
       "      <td>Kidal</td>\n",
       "      <td>Kidal, Mali</td>\n",
       "      <td>18.4520713,1.4096535</td>\n",
       "      <td>Mali</td>\n",
       "      <td>Mali</td>\n",
       "      <td>17.570692,-3.996166</td>\n",
       "    </tr>\n",
       "    <tr>\n",
       "      <th>4</th>\n",
       "      <td>David Bowie</td>\n",
       "      <td>Person</td>\n",
       "      <td>Male</td>\n",
       "      <td>GB</td>\n",
       "      <td>1947-01-08</td>\n",
       "      <td>2016-01-10</td>\n",
       "      <td>Brixton</td>\n",
       "      <td>Brixton, Lambeth, London, England, United Kingdom</td>\n",
       "      <td>51.4612794,-0.1156148</td>\n",
       "      <td>United Kingdom</td>\n",
       "      <td>United Kingdom</td>\n",
       "      <td>55.378051,-3.435973</td>\n",
       "    </tr>\n",
       "  </tbody>\n",
       "</table>\n",
       "</div>"
      ],
      "text/plain": [
       "           name    type gender country  begin_date    end_date  \\\n",
       "0  Modest Mouse   Group   None    None        1993        None   \n",
       "1   David Byrne  Person   Male      US  1952-05-14        None   \n",
       "2    Pink Floyd   Group   None      GB        1965        2014   \n",
       "3     Tinariwen   Group   None      ML        1982        None   \n",
       "4   David Bowie  Person   Male      GB  1947-01-08  2016-01-10   \n",
       "\n",
       "  begin_area_name                               begin_area_name_full  \\\n",
       "0        Issaquah   Issaquah, King County, Washington, United States   \n",
       "1       Dumbarton  Dumbarton, West Dunbartonshire, Scotland, Unit...   \n",
       "2          London                    London, England, United Kingdom   \n",
       "3           Kidal                                        Kidal, Mali   \n",
       "4         Brixton  Brixton, Lambeth, London, England, United Kingdom   \n",
       "\n",
       "         begin_area_latlng       area_name  \\\n",
       "0  47.5301011,-122.0326191        Portland   \n",
       "1      55.945287,-4.564554   United States   \n",
       "2    51.5073509,-0.1277583  United Kingdom   \n",
       "3     18.4520713,1.4096535            Mali   \n",
       "4    51.4612794,-0.1156148  United Kingdom   \n",
       "\n",
       "                                      area_name_full              area_latlng  \n",
       "0  Portland, Multnomah County, Oregon, United States  45.5230622,-122.6764816  \n",
       "1                                      United States      37.09024,-95.712891  \n",
       "2                                     United Kingdom      55.378051,-3.435973  \n",
       "3                                               Mali      17.570692,-3.996166  \n",
       "4                                     United Kingdom      55.378051,-3.435973  "
      ]
     },
     "execution_count": 11,
     "metadata": {},
     "output_type": "execute_result"
    }
   ],
   "source": [
    "df.to_csv('data/mb.csv', index=False, encoding='utf-8')\n",
    "df.head()"
   ]
  },
  {
   "cell_type": "code",
   "execution_count": null,
   "metadata": {
    "collapsed": true
   },
   "outputs": [],
   "source": []
  }
 ],
 "metadata": {
  "kernelspec": {
   "display_name": "Python 2",
   "language": "python",
   "name": "python2"
  },
  "language_info": {
   "codemirror_mode": {
    "name": "ipython",
    "version": 2
   },
   "file_extension": ".py",
   "mimetype": "text/x-python",
   "name": "python",
   "nbconvert_exporter": "python",
   "pygments_lexer": "ipython2",
   "version": "2.7.11"
  }
 },
 "nbformat": 4,
 "nbformat_minor": 0
}
