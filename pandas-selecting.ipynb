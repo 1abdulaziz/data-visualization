{
 "metadata": {
  "name": "",
  "signature": "sha256:b933990cbd4fe1d8be71bee348790216ba42d53c74e22cb472002af9336a28f7"
 },
 "nbformat": 3,
 "nbformat_minor": 0,
 "worksheets": [
  {
   "cells": [
    {
     "cell_type": "markdown",
     "metadata": {},
     "source": [
      "Author: Geoff Boeing\n",
      "<br />\n",
      "Web: http://geoffboeing.com\n",
      "<br />\n",
      "Date: 2014-08-31\n",
      "<br />\n",
      "Description: This notebook demos selecting and slicing rows, columns, values from pandas dataframes. A prior notebook covering the basics of working with pandas is also available at <a href=\"http://nbviewer.ipython.org/github/gboeing/python-cheat-sheets/blob/master/pandas-basics.ipynb\">pandas-basics.ipynb</a>"
     ]
    },
    {
     "cell_type": "code",
     "collapsed": false,
     "input": [
      "# magic command to display matplotlib plots inline within the ipython notebook webpage\n",
      "%matplotlib inline\n",
      "\n",
      "# import necessary modules\n",
      "import pandas as pd, numpy as np, matplotlib.pyplot as plt"
     ],
     "language": "python",
     "metadata": {},
     "outputs": [],
     "prompt_number": 1
    },
    {
     "cell_type": "heading",
     "level": 1,
     "metadata": {},
     "source": [
      "Part 1 <br />\n",
      "Basics"
     ]
    },
    {
     "cell_type": "code",
     "collapsed": false,
     "input": [
      "# Operation                       Syntax         Result\n",
      "#----------------------------------------------------------\n",
      "# Select column                   df[col]        Series\n",
      "# Select row by label             df.loc[label]  Series\n",
      "# Select row by integer location  df.iloc[loc]   Series\n",
      "# Slice rows                      df[5:10]       DataFrame\n",
      "# Select rows by boolean vector   df[bool_vec]   DataFrame"
     ],
     "language": "python",
     "metadata": {},
     "outputs": [],
     "prompt_number": 2
    },
    {
     "cell_type": "code",
     "collapsed": false,
     "input": [
      "# create a pandas dataframe from the location data set\n",
      "df = pd.read_csv('data/summer-travel-gps-full.csv')\n",
      "df.head()"
     ],
     "language": "python",
     "metadata": {},
     "outputs": [
      {
       "html": [
        "<div style=\"max-height:1000px;max-width:1500px;overflow:auto;\">\n",
        "<table border=\"1\" class=\"dataframe\">\n",
        "  <thead>\n",
        "    <tr style=\"text-align: right;\">\n",
        "      <th></th>\n",
        "      <th>lat</th>\n",
        "      <th>lon</th>\n",
        "      <th>date</th>\n",
        "      <th>city</th>\n",
        "      <th>country</th>\n",
        "    </tr>\n",
        "  </thead>\n",
        "  <tbody>\n",
        "    <tr>\n",
        "      <th>0</th>\n",
        "      <td> 51.481292</td>\n",
        "      <td>-0.451011</td>\n",
        "      <td> 05/14/2014 09:07</td>\n",
        "      <td> West Drayton</td>\n",
        "      <td> United Kingdom</td>\n",
        "    </tr>\n",
        "    <tr>\n",
        "      <th>1</th>\n",
        "      <td> 51.474005</td>\n",
        "      <td>-0.450999</td>\n",
        "      <td> 05/14/2014 09:22</td>\n",
        "      <td>     Hounslow</td>\n",
        "      <td> United Kingdom</td>\n",
        "    </tr>\n",
        "    <tr>\n",
        "      <th>2</th>\n",
        "      <td> 51.478199</td>\n",
        "      <td>-0.446081</td>\n",
        "      <td> 05/14/2014 10:51</td>\n",
        "      <td>     Hounslow</td>\n",
        "      <td> United Kingdom</td>\n",
        "    </tr>\n",
        "    <tr>\n",
        "      <th>3</th>\n",
        "      <td> 51.478199</td>\n",
        "      <td>-0.446081</td>\n",
        "      <td> 05/14/2014 11:24</td>\n",
        "      <td>     Hounslow</td>\n",
        "      <td> United Kingdom</td>\n",
        "    </tr>\n",
        "    <tr>\n",
        "      <th>4</th>\n",
        "      <td> 51.474146</td>\n",
        "      <td>-0.451562</td>\n",
        "      <td> 05/14/2014 11:38</td>\n",
        "      <td>     Hounslow</td>\n",
        "      <td> United Kingdom</td>\n",
        "    </tr>\n",
        "  </tbody>\n",
        "</table>\n",
        "</div>"
       ],
       "metadata": {},
       "output_type": "pyout",
       "prompt_number": 3,
       "text": [
        "         lat       lon              date          city         country\n",
        "0  51.481292 -0.451011  05/14/2014 09:07  West Drayton  United Kingdom\n",
        "1  51.474005 -0.450999  05/14/2014 09:22      Hounslow  United Kingdom\n",
        "2  51.478199 -0.446081  05/14/2014 10:51      Hounslow  United Kingdom\n",
        "3  51.478199 -0.446081  05/14/2014 11:24      Hounslow  United Kingdom\n",
        "4  51.474146 -0.451562  05/14/2014 11:38      Hounslow  United Kingdom"
       ]
      }
     ],
     "prompt_number": 3
    },
    {
     "cell_type": "code",
     "collapsed": false,
     "input": [
      "# get a column from the dataframe by its label with the [] operator - returns column as a pandas series with the dataframe's index\n",
      "df['city'].head()"
     ],
     "language": "python",
     "metadata": {},
     "outputs": [
      {
       "metadata": {},
       "output_type": "pyout",
       "prompt_number": 4,
       "text": [
        "0    West Drayton\n",
        "1        Hounslow\n",
        "2        Hounslow\n",
        "3        Hounslow\n",
        "4        Hounslow\n",
        "Name: city, dtype: object"
       ]
      }
     ],
     "prompt_number": 4
    },
    {
     "cell_type": "code",
     "collapsed": false,
     "input": [
      "# get multiple columns by their labels by passing a list of column names within the [] operator - returns a dataframe\n",
      "df[['city', 'country']].head()"
     ],
     "language": "python",
     "metadata": {},
     "outputs": [
      {
       "html": [
        "<div style=\"max-height:1000px;max-width:1500px;overflow:auto;\">\n",
        "<table border=\"1\" class=\"dataframe\">\n",
        "  <thead>\n",
        "    <tr style=\"text-align: right;\">\n",
        "      <th></th>\n",
        "      <th>city</th>\n",
        "      <th>country</th>\n",
        "    </tr>\n",
        "  </thead>\n",
        "  <tbody>\n",
        "    <tr>\n",
        "      <th>0</th>\n",
        "      <td> West Drayton</td>\n",
        "      <td> United Kingdom</td>\n",
        "    </tr>\n",
        "    <tr>\n",
        "      <th>1</th>\n",
        "      <td>     Hounslow</td>\n",
        "      <td> United Kingdom</td>\n",
        "    </tr>\n",
        "    <tr>\n",
        "      <th>2</th>\n",
        "      <td>     Hounslow</td>\n",
        "      <td> United Kingdom</td>\n",
        "    </tr>\n",
        "    <tr>\n",
        "      <th>3</th>\n",
        "      <td>     Hounslow</td>\n",
        "      <td> United Kingdom</td>\n",
        "    </tr>\n",
        "    <tr>\n",
        "      <th>4</th>\n",
        "      <td>     Hounslow</td>\n",
        "      <td> United Kingdom</td>\n",
        "    </tr>\n",
        "  </tbody>\n",
        "</table>\n",
        "</div>"
       ],
       "metadata": {},
       "output_type": "pyout",
       "prompt_number": 5,
       "text": [
        "           city         country\n",
        "0  West Drayton  United Kingdom\n",
        "1      Hounslow  United Kingdom\n",
        "2      Hounslow  United Kingdom\n",
        "3      Hounslow  United Kingdom\n",
        "4      Hounslow  United Kingdom"
       ]
      }
     ],
     "prompt_number": 5
    },
    {
     "cell_type": "code",
     "collapsed": false,
     "input": [
      "# get a value using the [] operator for a column label then a row label\n",
      "df['city'][0]"
     ],
     "language": "python",
     "metadata": {},
     "outputs": [
      {
       "metadata": {},
       "output_type": "pyout",
       "prompt_number": 6,
       "text": [
        "'West Drayton'"
       ]
      }
     ],
     "prompt_number": 6
    },
    {
     "cell_type": "code",
     "collapsed": false,
     "input": [
      "# use .loc to select by row label - returns the row as a series whose index is the dataframe column labels\n",
      "df.loc[0]"
     ],
     "language": "python",
     "metadata": {},
     "outputs": [
      {
       "metadata": {},
       "output_type": "pyout",
       "prompt_number": 7,
       "text": [
        "lat                51.48129\n",
        "lon              -0.4510112\n",
        "date       05/14/2014 09:07\n",
        "city           West Drayton\n",
        "country      United Kingdom\n",
        "Name: 0, dtype: object"
       ]
      }
     ],
     "prompt_number": 7
    },
    {
     "cell_type": "code",
     "collapsed": false,
     "input": [
      "# use .loc to select by row label and column label\n",
      "df.loc[0, 'country']"
     ],
     "language": "python",
     "metadata": {},
     "outputs": [
      {
       "metadata": {},
       "output_type": "pyout",
       "prompt_number": 8,
       "text": [
        "'United Kingdom'"
       ]
      }
     ],
     "prompt_number": 8
    },
    {
     "cell_type": "code",
     "collapsed": false,
     "input": [
      "# 0:3 is a slice of rows with label 0 to label 3\n",
      "# ['city', 'date'] is a list of column labels\n",
      "df.loc[0:3, ['city', 'date']]"
     ],
     "language": "python",
     "metadata": {},
     "outputs": [
      {
       "html": [
        "<div style=\"max-height:1000px;max-width:1500px;overflow:auto;\">\n",
        "<table border=\"1\" class=\"dataframe\">\n",
        "  <thead>\n",
        "    <tr style=\"text-align: right;\">\n",
        "      <th></th>\n",
        "      <th>city</th>\n",
        "      <th>date</th>\n",
        "    </tr>\n",
        "  </thead>\n",
        "  <tbody>\n",
        "    <tr>\n",
        "      <th>0</th>\n",
        "      <td> West Drayton</td>\n",
        "      <td> 05/14/2014 09:07</td>\n",
        "    </tr>\n",
        "    <tr>\n",
        "      <th>1</th>\n",
        "      <td>     Hounslow</td>\n",
        "      <td> 05/14/2014 09:22</td>\n",
        "    </tr>\n",
        "    <tr>\n",
        "      <th>2</th>\n",
        "      <td>     Hounslow</td>\n",
        "      <td> 05/14/2014 10:51</td>\n",
        "    </tr>\n",
        "    <tr>\n",
        "      <th>3</th>\n",
        "      <td>     Hounslow</td>\n",
        "      <td> 05/14/2014 11:24</td>\n",
        "    </tr>\n",
        "  </tbody>\n",
        "</table>\n",
        "</div>"
       ],
       "metadata": {},
       "output_type": "pyout",
       "prompt_number": 9,
       "text": [
        "           city              date\n",
        "0  West Drayton  05/14/2014 09:07\n",
        "1      Hounslow  05/14/2014 09:22\n",
        "2      Hounslow  05/14/2014 10:51\n",
        "3      Hounslow  05/14/2014 11:24"
       ]
      }
     ],
     "prompt_number": 9
    },
    {
     "cell_type": "code",
     "collapsed": false,
     "input": [
      "# slice by rows and columns\n",
      "df.loc[0:3, 'date':'country']"
     ],
     "language": "python",
     "metadata": {},
     "outputs": [
      {
       "html": [
        "<div style=\"max-height:1000px;max-width:1500px;overflow:auto;\">\n",
        "<table border=\"1\" class=\"dataframe\">\n",
        "  <thead>\n",
        "    <tr style=\"text-align: right;\">\n",
        "      <th></th>\n",
        "      <th>date</th>\n",
        "      <th>city</th>\n",
        "      <th>country</th>\n",
        "    </tr>\n",
        "  </thead>\n",
        "  <tbody>\n",
        "    <tr>\n",
        "      <th>0</th>\n",
        "      <td> 05/14/2014 09:07</td>\n",
        "      <td> West Drayton</td>\n",
        "      <td> United Kingdom</td>\n",
        "    </tr>\n",
        "    <tr>\n",
        "      <th>1</th>\n",
        "      <td> 05/14/2014 09:22</td>\n",
        "      <td>     Hounslow</td>\n",
        "      <td> United Kingdom</td>\n",
        "    </tr>\n",
        "    <tr>\n",
        "      <th>2</th>\n",
        "      <td> 05/14/2014 10:51</td>\n",
        "      <td>     Hounslow</td>\n",
        "      <td> United Kingdom</td>\n",
        "    </tr>\n",
        "    <tr>\n",
        "      <th>3</th>\n",
        "      <td> 05/14/2014 11:24</td>\n",
        "      <td>     Hounslow</td>\n",
        "      <td> United Kingdom</td>\n",
        "    </tr>\n",
        "  </tbody>\n",
        "</table>\n",
        "</div>"
       ],
       "metadata": {},
       "output_type": "pyout",
       "prompt_number": 10,
       "text": [
        "               date          city         country\n",
        "0  05/14/2014 09:07  West Drayton  United Kingdom\n",
        "1  05/14/2014 09:22      Hounslow  United Kingdom\n",
        "2  05/14/2014 10:51      Hounslow  United Kingdom\n",
        "3  05/14/2014 11:24      Hounslow  United Kingdom"
       ]
      }
     ],
     "prompt_number": 10
    },
    {
     "cell_type": "code",
     "collapsed": false,
     "input": [
      "# use list comprehension to select every nth row\n",
      "n = 250\n",
      "df.loc[[i * n for i in range(len(df)/n + 1)], ['city', 'country']]"
     ],
     "language": "python",
     "metadata": {},
     "outputs": [
      {
       "html": [
        "<div style=\"max-height:1000px;max-width:1500px;overflow:auto;\">\n",
        "<table border=\"1\" class=\"dataframe\">\n",
        "  <thead>\n",
        "    <tr style=\"text-align: right;\">\n",
        "      <th></th>\n",
        "      <th>city</th>\n",
        "      <th>country</th>\n",
        "    </tr>\n",
        "  </thead>\n",
        "  <tbody>\n",
        "    <tr>\n",
        "      <th>0   </th>\n",
        "      <td> West Drayton</td>\n",
        "      <td> United Kingdom</td>\n",
        "    </tr>\n",
        "    <tr>\n",
        "      <th>250 </th>\n",
        "      <td>        Porto</td>\n",
        "      <td>       Portugal</td>\n",
        "    </tr>\n",
        "    <tr>\n",
        "      <th>500 </th>\n",
        "      <td>    Barcelona</td>\n",
        "      <td>          Spain</td>\n",
        "    </tr>\n",
        "    <tr>\n",
        "      <th>750 </th>\n",
        "      <td>       Prague</td>\n",
        "      <td> Czech Republic</td>\n",
        "    </tr>\n",
        "    <tr>\n",
        "      <th>1000</th>\n",
        "      <td>  Kirchzarten</td>\n",
        "      <td>        Germany</td>\n",
        "    </tr>\n",
        "    <tr>\n",
        "      <th>1250</th>\n",
        "      <td>    Barcelona</td>\n",
        "      <td>          Spain</td>\n",
        "    </tr>\n",
        "    <tr>\n",
        "      <th>1500</th>\n",
        "      <td>      Prizren</td>\n",
        "      <td>         Kosovo</td>\n",
        "    </tr>\n",
        "    <tr>\n",
        "      <th>1750</th>\n",
        "      <td>     Istanbul</td>\n",
        "      <td>         Turkey</td>\n",
        "    </tr>\n",
        "  </tbody>\n",
        "</table>\n",
        "</div>"
       ],
       "metadata": {},
       "output_type": "pyout",
       "prompt_number": 11,
       "text": [
        "              city         country\n",
        "0     West Drayton  United Kingdom\n",
        "250          Porto        Portugal\n",
        "500      Barcelona           Spain\n",
        "750         Prague  Czech Republic\n",
        "1000   Kirchzarten         Germany\n",
        "1250     Barcelona           Spain\n",
        "1500       Prizren          Kosovo\n",
        "1750      Istanbul          Turkey"
       ]
      }
     ],
     "prompt_number": 11
    },
    {
     "cell_type": "code",
     "collapsed": false,
     "input": [
      "# you can set values with .loc as well\n",
      "print df.loc[0, 'city']\n",
      "df.loc[0, 'city'] = 'London'\n",
      "print df.loc[0, 'city']"
     ],
     "language": "python",
     "metadata": {},
     "outputs": [
      {
       "output_type": "stream",
       "stream": "stdout",
       "text": [
        "West Drayton\n",
        "London\n"
       ]
      }
     ],
     "prompt_number": 12
    },
    {
     "cell_type": "code",
     "collapsed": false,
     "input": [
      "# you can use .loc with setting values to append a row to the dataframe\n",
      "# by assigning to a row label that does not currently exist in the index\n",
      "print df.tail(3)\n",
      "\n",
      "df.loc[len(df)] = 0\n",
      "print df.tail(3)\n",
      "\n",
      "df.loc[2100] = 1\n",
      "print df.tail(3)"
     ],
     "language": "python",
     "metadata": {},
     "outputs": [
      {
       "output_type": "stream",
       "stream": "stdout",
       "text": [
        "            lat        lon              date    city  country\n",
        "1756  48.356285  11.791710  07/09/2014 13:17  Munich  Germany\n",
        "1757  48.355328  11.791710  07/09/2014 13:18  Munich  Germany\n",
        "1758  48.357110  11.791346  07/09/2014 13:20  Munich  Germany\n",
        "            lat        lon              date    city  country\n",
        "1757  48.355328  11.791710  07/09/2014 13:18  Munich  Germany\n",
        "1758  48.357110  11.791346  07/09/2014 13:20  Munich  Germany\n",
        "1759   0.000000   0.000000                 0       0        0\n",
        "           lat        lon              date    city  country\n",
        "1758  48.35711  11.791346  07/09/2014 13:20  Munich  Germany\n",
        "1759   0.00000   0.000000                 0       0        0\n",
        "2100   1.00000   1.000000                 1       1        1\n"
       ]
      }
     ],
     "prompt_number": 13
    },
    {
     "cell_type": "code",
     "collapsed": false,
     "input": [
      "# use .iloc for integer based indexing\n",
      "# get the value from the row in position 3 and the column in position 2\n",
      "df.iloc[3, 2]"
     ],
     "language": "python",
     "metadata": {},
     "outputs": [
      {
       "metadata": {},
       "output_type": "pyout",
       "prompt_number": 14,
       "text": [
        "'05/14/2014 11:24'"
       ]
      }
     ],
     "prompt_number": 14
    },
    {
     "cell_type": "code",
     "collapsed": false,
     "input": [
      "# you can use .iloc with slices too\n",
      "# slice rows from position 112 to 115 and columns from position 2 to 4\n",
      "# iloc is not inclusive, so for example \"from 2 to 4\" will return positions 2 and 3 (but not 4)\n",
      "df.iloc[112:115, 2:4]"
     ],
     "language": "python",
     "metadata": {},
     "outputs": [
      {
       "html": [
        "<div style=\"max-height:1000px;max-width:1500px;overflow:auto;\">\n",
        "<table border=\"1\" class=\"dataframe\">\n",
        "  <thead>\n",
        "    <tr style=\"text-align: right;\">\n",
        "      <th></th>\n",
        "      <th>date</th>\n",
        "      <th>city</th>\n",
        "    </tr>\n",
        "  </thead>\n",
        "  <tbody>\n",
        "    <tr>\n",
        "      <th>112</th>\n",
        "      <td> 05/16/2014 07:03</td>\n",
        "      <td> Lisbon</td>\n",
        "    </tr>\n",
        "    <tr>\n",
        "      <th>113</th>\n",
        "      <td> 05/16/2014 07:33</td>\n",
        "      <td> Lisbon</td>\n",
        "    </tr>\n",
        "    <tr>\n",
        "      <th>114</th>\n",
        "      <td> 05/16/2014 08:03</td>\n",
        "      <td> Lisbon</td>\n",
        "    </tr>\n",
        "  </tbody>\n",
        "</table>\n",
        "</div>"
       ],
       "metadata": {},
       "output_type": "pyout",
       "prompt_number": 15,
       "text": [
        "                 date    city\n",
        "112  05/16/2014 07:03  Lisbon\n",
        "113  05/16/2014 07:33  Lisbon\n",
        "114  05/16/2014 08:03  Lisbon"
       ]
      }
     ],
     "prompt_number": 15
    },
    {
     "cell_type": "code",
     "collapsed": false,
     "input": [
      "# you can use iloc to select every nth row from a data set\n",
      "n = 300\n",
      "df.iloc[range(0, len(df), n)]"
     ],
     "language": "python",
     "metadata": {},
     "outputs": [
      {
       "html": [
        "<div style=\"max-height:1000px;max-width:1500px;overflow:auto;\">\n",
        "<table border=\"1\" class=\"dataframe\">\n",
        "  <thead>\n",
        "    <tr style=\"text-align: right;\">\n",
        "      <th></th>\n",
        "      <th>lat</th>\n",
        "      <th>lon</th>\n",
        "      <th>date</th>\n",
        "      <th>city</th>\n",
        "      <th>country</th>\n",
        "    </tr>\n",
        "  </thead>\n",
        "  <tbody>\n",
        "    <tr>\n",
        "      <th>0   </th>\n",
        "      <td> 51.481292</td>\n",
        "      <td> -0.451011</td>\n",
        "      <td> 05/14/2014 09:07</td>\n",
        "      <td>    London</td>\n",
        "      <td> United Kingdom</td>\n",
        "    </tr>\n",
        "    <tr>\n",
        "      <th>300 </th>\n",
        "      <td> 41.377091</td>\n",
        "      <td>  2.151175</td>\n",
        "      <td> 05/20/2014 03:18</td>\n",
        "      <td> Barcelona</td>\n",
        "      <td>          Spain</td>\n",
        "    </tr>\n",
        "    <tr>\n",
        "      <th>600 </th>\n",
        "      <td> 50.052338</td>\n",
        "      <td> 19.946220</td>\n",
        "      <td> 05/31/2014 21:10</td>\n",
        "      <td>    Krakow</td>\n",
        "      <td>         Poland</td>\n",
        "    </tr>\n",
        "    <tr>\n",
        "      <th>900 </th>\n",
        "      <td> 48.561181</td>\n",
        "      <td>  9.059672</td>\n",
        "      <td> 06/09/2014 15:12</td>\n",
        "      <td>  T\u00fcbingen</td>\n",
        "      <td>        Germany</td>\n",
        "    </tr>\n",
        "    <tr>\n",
        "      <th>1200</th>\n",
        "      <td> 41.378301</td>\n",
        "      <td>  2.187443</td>\n",
        "      <td> 06/17/2014 16:37</td>\n",
        "      <td> Barcelona</td>\n",
        "      <td>          Spain</td>\n",
        "    </tr>\n",
        "    <tr>\n",
        "      <th>1500</th>\n",
        "      <td> 42.208201</td>\n",
        "      <td> 20.735993</td>\n",
        "      <td> 06/30/2014 08:27</td>\n",
        "      <td>   Prizren</td>\n",
        "      <td>         Kosovo</td>\n",
        "    </tr>\n",
        "  </tbody>\n",
        "</table>\n",
        "</div>"
       ],
       "metadata": {},
       "output_type": "pyout",
       "prompt_number": 16,
       "text": [
        "            lat        lon              date       city         country\n",
        "0     51.481292  -0.451011  05/14/2014 09:07     London  United Kingdom\n",
        "300   41.377091   2.151175  05/20/2014 03:18  Barcelona           Spain\n",
        "600   50.052338  19.946220  05/31/2014 21:10     Krakow          Poland\n",
        "900   48.561181   9.059672  06/09/2014 15:12   T\u00fcbingen         Germany\n",
        "1200  41.378301   2.187443  06/17/2014 16:37  Barcelona           Spain\n",
        "1500  42.208201  20.735993  06/30/2014 08:27    Prizren          Kosovo"
       ]
      }
     ],
     "prompt_number": 16
    },
    {
     "cell_type": "code",
     "collapsed": false,
     "input": [
      "# it's easier to tell the difference between .loc and .iloc if the index labels aren't the same as their positions\n",
      "df.index = df.index ** 2"
     ],
     "language": "python",
     "metadata": {},
     "outputs": [],
     "prompt_number": 17
    },
    {
     "cell_type": "code",
     "collapsed": false,
     "input": [
      "# this returns the rows with labels between 4 and 9 (.loc is inclusive)\n",
      "df.loc[4:9]"
     ],
     "language": "python",
     "metadata": {},
     "outputs": [
      {
       "html": [
        "<div style=\"max-height:1000px;max-width:1500px;overflow:auto;\">\n",
        "<table border=\"1\" class=\"dataframe\">\n",
        "  <thead>\n",
        "    <tr style=\"text-align: right;\">\n",
        "      <th></th>\n",
        "      <th>lat</th>\n",
        "      <th>lon</th>\n",
        "      <th>date</th>\n",
        "      <th>city</th>\n",
        "      <th>country</th>\n",
        "    </tr>\n",
        "  </thead>\n",
        "  <tbody>\n",
        "    <tr>\n",
        "      <th>4</th>\n",
        "      <td> 51.478199</td>\n",
        "      <td>-0.446081</td>\n",
        "      <td> 05/14/2014 10:51</td>\n",
        "      <td> Hounslow</td>\n",
        "      <td> United Kingdom</td>\n",
        "    </tr>\n",
        "    <tr>\n",
        "      <th>9</th>\n",
        "      <td> 51.478199</td>\n",
        "      <td>-0.446081</td>\n",
        "      <td> 05/14/2014 11:24</td>\n",
        "      <td> Hounslow</td>\n",
        "      <td> United Kingdom</td>\n",
        "    </tr>\n",
        "  </tbody>\n",
        "</table>\n",
        "</div>"
       ],
       "metadata": {},
       "output_type": "pyout",
       "prompt_number": 18,
       "text": [
        "         lat       lon              date      city         country\n",
        "4  51.478199 -0.446081  05/14/2014 10:51  Hounslow  United Kingdom\n",
        "9  51.478199 -0.446081  05/14/2014 11:24  Hounslow  United Kingdom"
       ]
      }
     ],
     "prompt_number": 18
    },
    {
     "cell_type": "code",
     "collapsed": false,
     "input": [
      "# this returns rows with labels in positions 4 through 8 (not through 9, because .iloc is not inclusive)\n",
      "df.iloc[4:9]"
     ],
     "language": "python",
     "metadata": {},
     "outputs": [
      {
       "html": [
        "<div style=\"max-height:1000px;max-width:1500px;overflow:auto;\">\n",
        "<table border=\"1\" class=\"dataframe\">\n",
        "  <thead>\n",
        "    <tr style=\"text-align: right;\">\n",
        "      <th></th>\n",
        "      <th>lat</th>\n",
        "      <th>lon</th>\n",
        "      <th>date</th>\n",
        "      <th>city</th>\n",
        "      <th>country</th>\n",
        "    </tr>\n",
        "  </thead>\n",
        "  <tbody>\n",
        "    <tr>\n",
        "      <th>16</th>\n",
        "      <td> 51.474146</td>\n",
        "      <td>-0.451562</td>\n",
        "      <td> 05/14/2014 11:38</td>\n",
        "      <td> Hounslow</td>\n",
        "      <td> United Kingdom</td>\n",
        "    </tr>\n",
        "    <tr>\n",
        "      <th>25</th>\n",
        "      <td> 51.480146</td>\n",
        "      <td>-0.441103</td>\n",
        "      <td> 05/14/2014 12:23</td>\n",
        "      <td> Hounslow</td>\n",
        "      <td> United Kingdom</td>\n",
        "    </tr>\n",
        "    <tr>\n",
        "      <th>36</th>\n",
        "      <td> 51.479669</td>\n",
        "      <td>-0.441024</td>\n",
        "      <td> 05/14/2014 12:38</td>\n",
        "      <td> Hounslow</td>\n",
        "      <td> United Kingdom</td>\n",
        "    </tr>\n",
        "    <tr>\n",
        "      <th>49</th>\n",
        "      <td> 38.781775</td>\n",
        "      <td>-9.137544</td>\n",
        "      <td> 05/14/2014 15:11</td>\n",
        "      <td>   Lisbon</td>\n",
        "      <td>       Portugal</td>\n",
        "    </tr>\n",
        "    <tr>\n",
        "      <th>64</th>\n",
        "      <td> 38.774422</td>\n",
        "      <td>-9.129195</td>\n",
        "      <td> 05/14/2014 15:25</td>\n",
        "      <td>   Lisbon</td>\n",
        "      <td>       Portugal</td>\n",
        "    </tr>\n",
        "  </tbody>\n",
        "</table>\n",
        "</div>"
       ],
       "metadata": {},
       "output_type": "pyout",
       "prompt_number": 19,
       "text": [
        "          lat       lon              date      city         country\n",
        "16  51.474146 -0.451562  05/14/2014 11:38  Hounslow  United Kingdom\n",
        "25  51.480146 -0.441103  05/14/2014 12:23  Hounslow  United Kingdom\n",
        "36  51.479669 -0.441024  05/14/2014 12:38  Hounslow  United Kingdom\n",
        "49  38.781775 -9.137544  05/14/2014 15:11    Lisbon        Portugal\n",
        "64  38.774422 -9.129195  05/14/2014 15:25    Lisbon        Portugal"
       ]
      }
     ],
     "prompt_number": 19
    },
    {
     "cell_type": "code",
     "collapsed": false,
     "input": [
      "# .ix lets you do a hybrid of integer or label based indexing\n",
      "# but it's an older method, so use .loc or .iloc based on your specific needs instead\n",
      "df.ix[4, 'city']"
     ],
     "language": "python",
     "metadata": {},
     "outputs": [
      {
       "metadata": {},
       "output_type": "pyout",
       "prompt_number": 20,
       "text": [
        "'Hounslow'"
       ]
      }
     ],
     "prompt_number": 20
    },
    {
     "cell_type": "code",
     "collapsed": false,
     "input": [
      "# which is faster? let's time it:\n",
      "%timeit df['city'][9]\n",
      "%timeit df.loc[9, 'city':'country']\n",
      "%timeit df.iloc[3, 4:5]\n",
      "\n",
      "%timeit df[['city', 'country']]\n",
      "%timeit df.loc[:, 'city':'country']\n",
      "%timeit df.iloc[:, 4:5]"
     ],
     "language": "python",
     "metadata": {},
     "outputs": [
      {
       "output_type": "stream",
       "stream": "stdout",
       "text": [
        "100000 loops, best of 3: 5.89 \u00b5s per loop\n",
        "1000 loops, best of 3: 201 \u00b5s per loop"
       ]
      },
      {
       "output_type": "stream",
       "stream": "stdout",
       "text": [
        "\n",
        "10000 loops, best of 3: 168 \u00b5s per loop"
       ]
      },
      {
       "output_type": "stream",
       "stream": "stdout",
       "text": [
        "\n",
        "1000 loops, best of 3: 282 \u00b5s per loop"
       ]
      },
      {
       "output_type": "stream",
       "stream": "stdout",
       "text": [
        "\n",
        "10000 loops, best of 3: 151 \u00b5s per loop"
       ]
      },
      {
       "output_type": "stream",
       "stream": "stdout",
       "text": [
        "\n",
        "10000 loops, best of 3: 113 \u00b5s per loop"
       ]
      },
      {
       "output_type": "stream",
       "stream": "stdout",
       "text": [
        "\n"
       ]
      }
     ],
     "prompt_number": 21
    },
    {
     "cell_type": "code",
     "collapsed": false,
     "input": [
      "# to access the values of an object directly, use the .values object attribute\n",
      "df['city'][0:2].values"
     ],
     "language": "python",
     "metadata": {},
     "outputs": [
      {
       "metadata": {},
       "output_type": "pyout",
       "prompt_number": 22,
       "text": [
        "array(['London', 'Hounslow'], dtype=object)"
       ]
      }
     ],
     "prompt_number": 22
    },
    {
     "cell_type": "heading",
     "level": 1,
     "metadata": {},
     "source": [
      "Part 2 <br />\n",
      "How to select rows based on different column values"
     ]
    },
    {
     "cell_type": "code",
     "collapsed": false,
     "input": [
      "# load a reduced set of gps data\n",
      "rs = pd.read_csv('data/summer-travel-gps-simplified.csv')\n",
      "rs.tail()"
     ],
     "language": "python",
     "metadata": {},
     "outputs": [
      {
       "html": [
        "<div style=\"max-height:1000px;max-width:1500px;overflow:auto;\">\n",
        "<table border=\"1\" class=\"dataframe\">\n",
        "  <thead>\n",
        "    <tr style=\"text-align: right;\">\n",
        "      <th></th>\n",
        "      <th>lat</th>\n",
        "      <th>lon</th>\n",
        "      <th>date</th>\n",
        "      <th>city</th>\n",
        "      <th>country</th>\n",
        "    </tr>\n",
        "  </thead>\n",
        "  <tbody>\n",
        "    <tr>\n",
        "      <th>173</th>\n",
        "      <td> 41.044556</td>\n",
        "      <td> 28.983286</td>\n",
        "      <td> 07/08/2014 16:44</td>\n",
        "      <td> Istanbul</td>\n",
        "      <td>  Turkey</td>\n",
        "    </tr>\n",
        "    <tr>\n",
        "      <th>174</th>\n",
        "      <td> 41.008992</td>\n",
        "      <td> 28.968268</td>\n",
        "      <td> 07/08/2014 20:03</td>\n",
        "      <td> Istanbul</td>\n",
        "      <td>  Turkey</td>\n",
        "    </tr>\n",
        "    <tr>\n",
        "      <th>175</th>\n",
        "      <td> 41.043487</td>\n",
        "      <td> 28.985488</td>\n",
        "      <td> 07/08/2014 22:18</td>\n",
        "      <td> Istanbul</td>\n",
        "      <td>  Turkey</td>\n",
        "    </tr>\n",
        "    <tr>\n",
        "      <th>176</th>\n",
        "      <td> 40.977637</td>\n",
        "      <td> 28.823879</td>\n",
        "      <td> 07/09/2014 09:03</td>\n",
        "      <td> Istanbul</td>\n",
        "      <td>  Turkey</td>\n",
        "    </tr>\n",
        "    <tr>\n",
        "      <th>177</th>\n",
        "      <td> 48.357110</td>\n",
        "      <td> 11.791346</td>\n",
        "      <td> 07/09/2014 13:20</td>\n",
        "      <td>   Munich</td>\n",
        "      <td> Germany</td>\n",
        "    </tr>\n",
        "  </tbody>\n",
        "</table>\n",
        "</div>"
       ],
       "metadata": {},
       "output_type": "pyout",
       "prompt_number": 23,
       "text": [
        "           lat        lon              date      city  country\n",
        "173  41.044556  28.983286  07/08/2014 16:44  Istanbul   Turkey\n",
        "174  41.008992  28.968268  07/08/2014 20:03  Istanbul   Turkey\n",
        "175  41.043487  28.985488  07/08/2014 22:18  Istanbul   Turkey\n",
        "176  40.977637  28.823879  07/09/2014 09:03  Istanbul   Turkey\n",
        "177  48.357110  11.791346  07/09/2014 13:20    Munich  Germany"
       ]
      }
     ],
     "prompt_number": 23
    },
    {
     "cell_type": "code",
     "collapsed": false,
     "input": [
      "# pandas logical operators are: | for or, & for and, and ~ for not\n",
      "# these must be grouped by using parentheses\n",
      "# what cities were visited in spain that were not barcelona?\n",
      "not_bcn = rs[~(rs['city']=='Barcelona') & (rs['country']=='Spain')]\n",
      "not_bcn['city'].unique()"
     ],
     "language": "python",
     "metadata": {},
     "outputs": [
      {
       "metadata": {},
       "output_type": "pyout",
       "prompt_number": 24,
       "text": [
        "array(['El Prat de Llobregat', 'Viladecans', 'Hospitalet de Llobregat'], dtype=object)"
       ]
      }
     ],
     "prompt_number": 24
    },
    {
     "cell_type": "code",
     "collapsed": false,
     "input": [
      "# bitwise OR returns a series of boolean values that act as a mask to filter the dataframe\n",
      "# True means return (aka, select) the row with that index label, False means do not return it\n",
      "((rs['city']=='Munich') | (rs['country']=='Serbia')).tail()"
     ],
     "language": "python",
     "metadata": {},
     "outputs": [
      {
       "metadata": {},
       "output_type": "pyout",
       "prompt_number": 25,
       "text": [
        "173    False\n",
        "174    False\n",
        "175    False\n",
        "176    False\n",
        "177     True\n",
        "dtype: bool"
       ]
      }
     ],
     "prompt_number": 25
    },
    {
     "cell_type": "code",
     "collapsed": false,
     "input": [
      "# select rows where either the city is munich, or the country is serbia\n",
      "rs[(rs['city']=='Munich') | (rs['country']=='Serbia')]"
     ],
     "language": "python",
     "metadata": {},
     "outputs": [
      {
       "html": [
        "<div style=\"max-height:1000px;max-width:1500px;overflow:auto;\">\n",
        "<table border=\"1\" class=\"dataframe\">\n",
        "  <thead>\n",
        "    <tr style=\"text-align: right;\">\n",
        "      <th></th>\n",
        "      <th>lat</th>\n",
        "      <th>lon</th>\n",
        "      <th>date</th>\n",
        "      <th>city</th>\n",
        "      <th>country</th>\n",
        "    </tr>\n",
        "  </thead>\n",
        "  <tbody>\n",
        "    <tr>\n",
        "      <th>139</th>\n",
        "      <td> 44.821164</td>\n",
        "      <td> 20.289821</td>\n",
        "      <td> 06/21/2014 01:59</td>\n",
        "      <td>  Belgrade</td>\n",
        "      <td>  Serbia</td>\n",
        "    </tr>\n",
        "    <tr>\n",
        "      <th>140</th>\n",
        "      <td> 44.820414</td>\n",
        "      <td> 20.463465</td>\n",
        "      <td> 06/21/2014 18:44</td>\n",
        "      <td>  Belgrade</td>\n",
        "      <td>  Serbia</td>\n",
        "    </tr>\n",
        "    <tr>\n",
        "      <th>141</th>\n",
        "      <td> 44.761583</td>\n",
        "      <td> 19.577904</td>\n",
        "      <td> 06/22/2014 07:58</td>\n",
        "      <td> Slep\u010devi\u0107</td>\n",
        "      <td>  Serbia</td>\n",
        "    </tr>\n",
        "    <tr>\n",
        "      <th>177</th>\n",
        "      <td> 48.357110</td>\n",
        "      <td> 11.791346</td>\n",
        "      <td> 07/09/2014 13:20</td>\n",
        "      <td>    Munich</td>\n",
        "      <td> Germany</td>\n",
        "    </tr>\n",
        "  </tbody>\n",
        "</table>\n",
        "</div>"
       ],
       "metadata": {},
       "output_type": "pyout",
       "prompt_number": 26,
       "text": [
        "           lat        lon              date       city  country\n",
        "139  44.821164  20.289821  06/21/2014 01:59   Belgrade   Serbia\n",
        "140  44.820414  20.463465  06/21/2014 18:44   Belgrade   Serbia\n",
        "141  44.761583  19.577904  06/22/2014 07:58  Slep\u010devi\u0107   Serbia\n",
        "177  48.357110  11.791346  07/09/2014 13:20     Munich  Germany"
       ]
      }
     ],
     "prompt_number": 26
    },
    {
     "cell_type": "code",
     "collapsed": false,
     "input": [
      "# how many observations are west of the prime meridian?\n",
      "len(rs[rs['lon'] < 0])"
     ],
     "language": "python",
     "metadata": {},
     "outputs": [
      {
       "metadata": {},
       "output_type": "pyout",
       "prompt_number": 27,
       "text": [
        "24"
       ]
      }
     ],
     "prompt_number": 27
    },
    {
     "cell_type": "code",
     "collapsed": false,
     "input": [
      "# get all rows that contain a city that starts with the letter G, using a lambda function\n",
      "row_mask = rs['city'].map(lambda x: x.startswith('G'))\n",
      "rs[row_mask]"
     ],
     "language": "python",
     "metadata": {},
     "outputs": [
      {
       "html": [
        "<div style=\"max-height:1000px;max-width:1500px;overflow:auto;\">\n",
        "<table border=\"1\" class=\"dataframe\">\n",
        "  <thead>\n",
        "    <tr style=\"text-align: right;\">\n",
        "      <th></th>\n",
        "      <th>lat</th>\n",
        "      <th>lon</th>\n",
        "      <th>date</th>\n",
        "      <th>city</th>\n",
        "      <th>country</th>\n",
        "    </tr>\n",
        "  </thead>\n",
        "  <tbody>\n",
        "    <tr>\n",
        "      <th>62 </th>\n",
        "      <td> 50.273632</td>\n",
        "      <td> 18.729429</td>\n",
        "      <td> 06/02/2014 06:39</td>\n",
        "      <td>     Gliwice</td>\n",
        "      <td>  Poland</td>\n",
        "    </tr>\n",
        "    <tr>\n",
        "      <th>114</th>\n",
        "      <td> 48.282940</td>\n",
        "      <td>  8.199630</td>\n",
        "      <td> 06/10/2014 13:33</td>\n",
        "      <td>      Gutach</td>\n",
        "      <td> Germany</td>\n",
        "    </tr>\n",
        "    <tr>\n",
        "      <th>115</th>\n",
        "      <td> 48.389029</td>\n",
        "      <td>  8.021342</td>\n",
        "      <td> 06/10/2014 13:48</td>\n",
        "      <td>  Gengenbach</td>\n",
        "      <td> Germany</td>\n",
        "    </tr>\n",
        "    <tr>\n",
        "      <th>152</th>\n",
        "      <td> 40.187825</td>\n",
        "      <td> 20.079303</td>\n",
        "      <td> 07/04/2014 17:42</td>\n",
        "      <td> Gjirokast\u00ebr</td>\n",
        "      <td> Albania</td>\n",
        "    </tr>\n",
        "  </tbody>\n",
        "</table>\n",
        "</div>"
       ],
       "metadata": {},
       "output_type": "pyout",
       "prompt_number": 28,
       "text": [
        "           lat        lon              date         city  country\n",
        "62   50.273632  18.729429  06/02/2014 06:39      Gliwice   Poland\n",
        "114  48.282940   8.199630  06/10/2014 13:33       Gutach  Germany\n",
        "115  48.389029   8.021342  06/10/2014 13:48   Gengenbach  Germany\n",
        "152  40.187825  20.079303  07/04/2014 17:42  Gjirokast\u00ebr  Albania"
       ]
      }
     ],
     "prompt_number": 28
    },
    {
     "cell_type": "code",
     "collapsed": false,
     "input": [
      "# select all rows with certain city names using .isin([list])\n",
      "row_mask = rs['city'].isin(['Munich', 'Berat', 'Maia', 'Sarajevo'])\n",
      "rs[row_mask]"
     ],
     "language": "python",
     "metadata": {},
     "outputs": [
      {
       "html": [
        "<div style=\"max-height:1000px;max-width:1500px;overflow:auto;\">\n",
        "<table border=\"1\" class=\"dataframe\">\n",
        "  <thead>\n",
        "    <tr style=\"text-align: right;\">\n",
        "      <th></th>\n",
        "      <th>lat</th>\n",
        "      <th>lon</th>\n",
        "      <th>date</th>\n",
        "      <th>city</th>\n",
        "      <th>country</th>\n",
        "    </tr>\n",
        "  </thead>\n",
        "  <tbody>\n",
        "    <tr>\n",
        "      <th>23 </th>\n",
        "      <td> 41.237205</td>\n",
        "      <td> -8.672173</td>\n",
        "      <td> 05/18/2014 19:55</td>\n",
        "      <td>     Maia</td>\n",
        "      <td>               Portugal</td>\n",
        "    </tr>\n",
        "    <tr>\n",
        "      <th>142</th>\n",
        "      <td> 43.859459</td>\n",
        "      <td> 18.425962</td>\n",
        "      <td> 06/22/2014 21:12</td>\n",
        "      <td> Sarajevo</td>\n",
        "      <td> Bosnia and Herzegovina</td>\n",
        "    </tr>\n",
        "    <tr>\n",
        "      <th>143</th>\n",
        "      <td> 43.858562</td>\n",
        "      <td> 18.397478</td>\n",
        "      <td> 06/23/2014 14:12</td>\n",
        "      <td> Sarajevo</td>\n",
        "      <td> Bosnia and Herzegovina</td>\n",
        "    </tr>\n",
        "    <tr>\n",
        "      <th>151</th>\n",
        "      <td> 40.702184</td>\n",
        "      <td> 19.946288</td>\n",
        "      <td> 07/04/2014 08:14</td>\n",
        "      <td>    Berat</td>\n",
        "      <td>                Albania</td>\n",
        "    </tr>\n",
        "    <tr>\n",
        "      <th>177</th>\n",
        "      <td> 48.357110</td>\n",
        "      <td> 11.791346</td>\n",
        "      <td> 07/09/2014 13:20</td>\n",
        "      <td>   Munich</td>\n",
        "      <td>                Germany</td>\n",
        "    </tr>\n",
        "  </tbody>\n",
        "</table>\n",
        "</div>"
       ],
       "metadata": {},
       "output_type": "pyout",
       "prompt_number": 29,
       "text": [
        "           lat        lon              date      city                 country\n",
        "23   41.237205  -8.672173  05/18/2014 19:55      Maia                Portugal\n",
        "142  43.859459  18.425962  06/22/2014 21:12  Sarajevo  Bosnia and Herzegovina\n",
        "143  43.858562  18.397478  06/23/2014 14:12  Sarajevo  Bosnia and Herzegovina\n",
        "151  40.702184  19.946288  07/04/2014 08:14     Berat                 Albania\n",
        "177  48.357110  11.791346  07/09/2014 13:20    Munich                 Germany"
       ]
      }
     ],
     "prompt_number": 29
    },
    {
     "cell_type": "heading",
     "level": 1,
     "metadata": {},
     "source": [
      "Part 3 <br />\n",
      "How to select based on a date-time index"
     ]
    },
    {
     "cell_type": "code",
     "collapsed": false,
     "input": [
      "# load the location data set, indexed by the date field\n",
      "dt = pd.read_csv('data/summer-travel-gps-full.csv', index_col='date', parse_dates=True)\n",
      "len(dt)"
     ],
     "language": "python",
     "metadata": {},
     "outputs": [
      {
       "metadata": {},
       "output_type": "pyout",
       "prompt_number": 30,
       "text": [
        "1759"
       ]
      }
     ],
     "prompt_number": 30
    },
    {
     "cell_type": "code",
     "collapsed": false,
     "input": [
      "# 1759 rows - but is the timestamp index unique?\n",
      "dt.index.is_unique"
     ],
     "language": "python",
     "metadata": {},
     "outputs": [
      {
       "metadata": {},
       "output_type": "pyout",
       "prompt_number": 31,
       "text": [
        "False"
       ]
      }
     ],
     "prompt_number": 31
    },
    {
     "cell_type": "code",
     "collapsed": false,
     "input": [
      "# the index is not unique - drop duplicates\n",
      "dt.drop_duplicates(inplace=True)\n",
      "len(dt)"
     ],
     "language": "python",
     "metadata": {},
     "outputs": [
      {
       "metadata": {},
       "output_type": "pyout",
       "prompt_number": 32,
       "text": [
        "1750"
       ]
      }
     ],
     "prompt_number": 32
    },
    {
     "cell_type": "code",
     "collapsed": false,
     "input": [
      "# the .weekday attribute determines which day of the week a date is\n",
      "# 0 is sunday and 6 is saturday, M-F are 1-5\n",
      "# use bitwise OR to create a boolean array of which rows are a weekend date\n",
      "weekend_mask = (dt.index.weekday==6) | (dt.index.weekday==0)\n",
      "weekends = dt[weekend_mask]\n",
      "weekdays = dt[~weekend_mask]"
     ],
     "language": "python",
     "metadata": {},
     "outputs": [],
     "prompt_number": 33
    },
    {
     "cell_type": "code",
     "collapsed": false,
     "input": [
      "hourly_share = pd.DataFrame(columns=['weekday', 'weekend'])\n",
      "\n",
      "# calculate what share of the weekday observations each hour has\n",
      "weekday_hourly = weekdays.groupby(weekdays.index.hour).size()\n",
      "hourly_share['weekday'] = weekday_hourly / sum(weekday_hourly)\n",
      "\n",
      "# calculate what share of the weekend observations each hour has\n",
      "weekend_hourly = weekends.groupby(weekends.index.hour).size()\n",
      "hourly_share['weekend'] = weekend_hourly / sum(weekend_hourly)\n",
      "\n",
      "# format the x-axis ticks like 0:00 times and plot the data\n",
      "hourly_share.index = [s + ':00' for s in hourly_share.index.astype(str)]\n",
      "hourly_share.plot(figsize=[9, 4], kind='bar', stacked=False, alpha=0.7, title='Share of observations, by hour')"
     ],
     "language": "python",
     "metadata": {},
     "outputs": [
      {
       "metadata": {},
       "output_type": "pyout",
       "prompt_number": 34,
       "text": [
        "<matplotlib.axes.AxesSubplot at 0x72aa290>"
       ]
      },
      {
       "metadata": {},
       "output_type": "display_data",
       "png": "[encoded data removed]",
       "text": [
        "<matplotlib.figure.Figure at 0x72ead30>"
       ]
      }
     ],
     "prompt_number": 34
    },
    {
     "cell_type": "code",
     "collapsed": false,
     "input": [
      "# calculate and plot the number of observations each day of the week has\n",
      "daily_count = dt.groupby(dt.index.weekday).size()\n",
      "daily_count.index = ['Sunday', 'Monday', 'Tuesday', 'Wednesday', 'Thursday', 'Friday', 'Saturday']\n",
      "daily_count.plot(figsize=[8, 5], kind='bar', title='Number of observations, by day of week')"
     ],
     "language": "python",
     "metadata": {},
     "outputs": [
      {
       "metadata": {},
       "output_type": "pyout",
       "prompt_number": 35,
       "text": [
        "<matplotlib.axes.AxesSubplot at 0x988dff0>"
       ]
      },
      {
       "metadata": {},
       "output_type": "display_data",
       "png": "[encoded data removed]",
       "text": [
        "<matplotlib.figure.Figure at 0x9881e50>"
       ]
      }
     ],
     "prompt_number": 35
    },
    {
     "cell_type": "code",
     "collapsed": false,
     "input": [],
     "language": "python",
     "metadata": {},
     "outputs": [],
     "prompt_number": 35
    }
   ],
   "metadata": {}
  }
 ]
}