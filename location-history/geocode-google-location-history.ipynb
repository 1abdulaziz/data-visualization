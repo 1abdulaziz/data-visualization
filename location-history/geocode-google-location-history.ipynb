{
 "cells": [
  {
   "cell_type": "markdown",
   "metadata": {},
   "source": [
    "In the previous notebook, we clustered the location history data to reduce the size of the data set. This reduced set was saved as location-history-clustered.csv. Now we'll reverse-geocode it. \n",
    "\n",
    "First, copy that csv file and call the copy google-history-to-geocode.csv. We'll use this file as our working file to do the reverse-geocoding. As Google limits you to 2,500 requests per day, we might need to do the entire data set in multiple passes. Hence the working file."
   ]
  },
  {
   "cell_type": "code",
   "execution_count": 1,
   "metadata": {
    "collapsed": true
   },
   "outputs": [],
   "source": [
    "import pandas as pd\n",
    "import time, requests, json"
   ]
  },
  {
   "cell_type": "markdown",
   "metadata": {},
   "source": [
    "## Load the working file for geocoding"
   ]
  },
  {
   "cell_type": "code",
   "execution_count": 2,
   "metadata": {
    "collapsed": true
   },
   "outputs": [],
   "source": [
    "pause = 0.15\n",
    "use_second_geocoder = True\n",
    "max_requests = 2500\n",
    "\n",
    "working_file = 'data/google-history-to-geocode.csv'"
   ]
  },
  {
   "cell_type": "code",
   "execution_count": 3,
   "metadata": {
    "collapsed": false
   },
   "outputs": [
    {
     "name": "stdout",
     "output_type": "stream",
     "text": [
      "2,471 rows in dataset\n"
     ]
    }
   ],
   "source": [
    "df = pd.read_csv(working_file, encoding='utf-8')\n",
    "print '{:,} rows in dataset'.format(len(df))"
   ]
  },
  {
   "cell_type": "markdown",
   "metadata": {},
   "source": [
    "## Prep the data for geocoding"
   ]
  },
  {
   "cell_type": "code",
   "execution_count": 4,
   "metadata": {
    "collapsed": false
   },
   "outputs": [
    {
     "data": {
      "text/html": [
       "<div>\n",
       "<table border=\"1\" class=\"dataframe\">\n",
       "  <thead>\n",
       "    <tr style=\"text-align: right;\">\n",
       "      <th></th>\n",
       "      <th>lat</th>\n",
       "      <th>lon</th>\n",
       "      <th>datetime</th>\n",
       "      <th>city</th>\n",
       "      <th>state</th>\n",
       "      <th>country</th>\n",
       "      <th>geocode_results</th>\n",
       "      <th>geocode_results_nominatum</th>\n",
       "      <th>latlng</th>\n",
       "      <th>neighborhood</th>\n",
       "    </tr>\n",
       "  </thead>\n",
       "  <tbody>\n",
       "    <tr>\n",
       "      <th>0</th>\n",
       "      <td>39.755774</td>\n",
       "      <td>-86.140522</td>\n",
       "      <td>2015-06-12 11:48:29</td>\n",
       "      <td>Indianapolis</td>\n",
       "      <td>Indiana</td>\n",
       "      <td>United States</td>\n",
       "      <td>{\"geometry\": {\"location\": {\"lat\": 39.755858, \"...</td>\n",
       "      <td>NaN</td>\n",
       "      <td>39.7557743,-86.140522</td>\n",
       "      <td>North Square Neighborhood</td>\n",
       "    </tr>\n",
       "    <tr>\n",
       "      <th>1</th>\n",
       "      <td>37.880680</td>\n",
       "      <td>-122.301846</td>\n",
       "      <td>2015-10-17 19:01:26</td>\n",
       "      <td>Berkeley</td>\n",
       "      <td>California</td>\n",
       "      <td>United States</td>\n",
       "      <td>{\"geometry\": {\"location\": {\"lat\": 37.880606, \"...</td>\n",
       "      <td>NaN</td>\n",
       "      <td>37.8806796,-122.3018459</td>\n",
       "      <td>Northwest Berkeley</td>\n",
       "    </tr>\n",
       "    <tr>\n",
       "      <th>2</th>\n",
       "      <td>37.863481</td>\n",
       "      <td>-122.273217</td>\n",
       "      <td>2014-03-26 14:05:12</td>\n",
       "      <td>Berkeley</td>\n",
       "      <td>California</td>\n",
       "      <td>United States</td>\n",
       "      <td>{\"geometry\": {\"location\": {\"lat\": 37.8635293, ...</td>\n",
       "      <td>NaN</td>\n",
       "      <td>37.8634808,-122.2732173</td>\n",
       "      <td>Central Berkeley</td>\n",
       "    </tr>\n",
       "    <tr>\n",
       "      <th>3</th>\n",
       "      <td>37.363780</td>\n",
       "      <td>-120.657057</td>\n",
       "      <td>2014-12-31 14:25:00</td>\n",
       "      <td>Atwater</td>\n",
       "      <td>California</td>\n",
       "      <td>United States</td>\n",
       "      <td>{\"geometry\": {\"location_type\": \"GEOMETRIC_CENT...</td>\n",
       "      <td>NaN</td>\n",
       "      <td>37.36378,-120.6570575</td>\n",
       "      <td>NaN</td>\n",
       "    </tr>\n",
       "    <tr>\n",
       "      <th>4</th>\n",
       "      <td>33.309678</td>\n",
       "      <td>-111.902135</td>\n",
       "      <td>2014-12-28 05:35:03</td>\n",
       "      <td>Chandler</td>\n",
       "      <td>Arizona</td>\n",
       "      <td>United States</td>\n",
       "      <td>{\"geometry\": {\"location\": {\"lat\": 33.309641, \"...</td>\n",
       "      <td>NaN</td>\n",
       "      <td>33.3096777,-111.9021354</td>\n",
       "      <td>NaN</td>\n",
       "    </tr>\n",
       "  </tbody>\n",
       "</table>\n",
       "</div>"
      ],
      "text/plain": [
       "         lat         lon             datetime          city       state  \\\n",
       "0  39.755774  -86.140522  2015-06-12 11:48:29  Indianapolis     Indiana   \n",
       "1  37.880680 -122.301846  2015-10-17 19:01:26      Berkeley  California   \n",
       "2  37.863481 -122.273217  2014-03-26 14:05:12      Berkeley  California   \n",
       "3  37.363780 -120.657057  2014-12-31 14:25:00       Atwater  California   \n",
       "4  33.309678 -111.902135  2014-12-28 05:35:03      Chandler     Arizona   \n",
       "\n",
       "         country                                    geocode_results  \\\n",
       "0  United States  {\"geometry\": {\"location\": {\"lat\": 39.755858, \"...   \n",
       "1  United States  {\"geometry\": {\"location\": {\"lat\": 37.880606, \"...   \n",
       "2  United States  {\"geometry\": {\"location\": {\"lat\": 37.8635293, ...   \n",
       "3  United States  {\"geometry\": {\"location_type\": \"GEOMETRIC_CENT...   \n",
       "4  United States  {\"geometry\": {\"location\": {\"lat\": 33.309641, \"...   \n",
       "\n",
       "   geocode_results_nominatum                   latlng  \\\n",
       "0                        NaN    39.7557743,-86.140522   \n",
       "1                        NaN  37.8806796,-122.3018459   \n",
       "2                        NaN  37.8634808,-122.2732173   \n",
       "3                        NaN    37.36378,-120.6570575   \n",
       "4                        NaN  33.3096777,-111.9021354   \n",
       "\n",
       "                neighborhood  \n",
       "0  North Square Neighborhood  \n",
       "1         Northwest Berkeley  \n",
       "2           Central Berkeley  \n",
       "3                        NaN  \n",
       "4                        NaN  "
      ]
     },
     "execution_count": 4,
     "metadata": {},
     "output_type": "execute_result"
    }
   ],
   "source": [
    "# create city, state, country columns only if they don't already exist\n",
    "new_cols = ['city', 'state', 'country', 'geocode_results', 'geocode_results_nominatum']\n",
    "for col in new_cols:\n",
    "    if not col in df.columns:\n",
    "        df[col] = None\n",
    "        \n",
    "# drop the locations and timestamp_ms columns if they are still here\n",
    "cols_to_remove = ['locations', 'timestamp_ms']\n",
    "for col in cols_to_remove:\n",
    "    if col in df.columns:\n",
    "        df.drop(col, axis=1, inplace=True)\n",
    "        \n",
    "df.head()"
   ]
  },
  {
   "cell_type": "code",
   "execution_count": 5,
   "metadata": {
    "collapsed": false
   },
   "outputs": [],
   "source": [
    "# put latlng in the format google likes so it's easy to call their api\n",
    "df['latlng'] = df.apply(lambda row: '{},{}'.format(row['lat'], row['lon']), axis=1)"
   ]
  },
  {
   "cell_type": "code",
   "execution_count": 6,
   "metadata": {
    "collapsed": false
   },
   "outputs": [],
   "source": [
    "# if this isn't the first pass through the reverse-geocoder, we will already have some saved results\n",
    "# they were saved as json strings, so load them as python dicts now to work with them\n",
    "f = lambda x: json.loads(x) if (isinstance(x, str) or isinstance(x, unicode)) else x\n",
    "df['geocode_results'] = df['geocode_results'].map(f)"
   ]
  },
  {
   "cell_type": "code",
   "execution_count": 7,
   "metadata": {
    "collapsed": false
   },
   "outputs": [
    {
     "name": "stdout",
     "output_type": "stream",
     "text": [
      "14 out of 2,471 rows lack reverse-geocode results\n",
      "We will attempt to reverse-geocode up to 2,500 rows\n"
     ]
    }
   ],
   "source": [
    "ungeocoded_rows = df[pd.isnull(df['geocode_results']) & pd.isnull(df['geocode_results_nominatum'])]\n",
    "print '{:,} out of {:,} rows lack reverse-geocode results'.format(len(ungeocoded_rows), len(df))\n",
    "print 'We will attempt to reverse-geocode up to {:,} rows'.format(max_requests)"
   ]
  },
  {
   "cell_type": "markdown",
   "metadata": {
    "collapsed": true
   },
   "source": [
    "## Now reverse-geocode the google location history to city/country"
   ]
  },
  {
   "cell_type": "code",
   "execution_count": 8,
   "metadata": {
    "collapsed": false
   },
   "outputs": [],
   "source": [
    "# pass the Google API latlng data to reverse geocode it\n",
    "count_requests = 0\n",
    "def reverse_geocode(row):\n",
    "    global count_requests\n",
    "    if row.name % 100 == 0: print row.name,\n",
    "    \n",
    "    # first check if either geocode result column already has data\n",
    "    if pd.notnull(row['geocode_results']):\n",
    "        return row['geocode_results']\n",
    "    elif pd.notnull(row['geocode_results_nominatum']):\n",
    "        return None\n",
    "    elif count_requests < max_requests:\n",
    "        # this row has not yet been reverse geocoded and we have not yet made the max # of requests\n",
    "        time.sleep(pause)\n",
    "        url = 'https://maps.googleapis.com/maps/api/geocode/json?latlng={}'\n",
    "        request = url.format(row['latlng'])\n",
    "        response = requests.get(request)\n",
    "        count_requests += 1\n",
    "        data = json.loads(response.text)\n",
    "        if len(data['results']) > 0:\n",
    "            return data['results'][0] #if we got results, return the first result"
   ]
  },
  {
   "cell_type": "code",
   "execution_count": 9,
   "metadata": {
    "collapsed": false
   },
   "outputs": [
    {
     "name": "stdout",
     "output_type": "stream",
     "text": [
      "0 100 200 300 400 500 600 700 800 900 1000 1100 1200 1300 1400 1500 1600 1700 1800 1900 2000 2100 2200 2300 2400\n"
     ]
    }
   ],
   "source": [
    "df['geocode_results'] = df.apply(reverse_geocode, axis=1)"
   ]
  },
  {
   "cell_type": "code",
   "execution_count": 10,
   "metadata": {
    "collapsed": false
   },
   "outputs": [
    {
     "name": "stdout",
     "output_type": "stream",
     "text": [
      "14 out of 2,471 rows lack reverse-geocode results\n"
     ]
    }
   ],
   "source": [
    "ungeocoded_rows = df[pd.isnull(df['geocode_results']) & pd.isnull(df['geocode_results_nominatum'])]\n",
    "print '{:,} out of {:,} rows lack reverse-geocode results'.format(len(ungeocoded_rows), len(df))"
   ]
  },
  {
   "cell_type": "markdown",
   "metadata": {},
   "source": [
    "## Now parse city, state, country from the results"
   ]
  },
  {
   "cell_type": "code",
   "execution_count": 11,
   "metadata": {
    "collapsed": true
   },
   "outputs": [],
   "source": [
    "def get_neighborhood(row):\n",
    "    if pd.notnull(row['geocode_results']):\n",
    "        if 'address_components' in row['geocode_results']:\n",
    "            for component in row['geocode_results']['address_components']:\n",
    "                if 'neighborhood' in component['types']:\n",
    "                    return component['long_name']\n",
    "                elif 'sublocality_level_1' in component['types']:\n",
    "                    return component['long_name']\n",
    "                elif 'sublocality_level_2' in component['types']:\n",
    "                    return component['long_name']                \n",
    "                \n",
    "# to find city, return the finest-grain address component \n",
    "# google returns these components in order from finest to coarsest grained\n",
    "def get_city(row):\n",
    "    if pd.notnull(row['geocode_results']):\n",
    "        if 'address_components' in row['geocode_results']:\n",
    "            for component in row['geocode_results']['address_components']:\n",
    "                if 'locality' in component['types']:\n",
    "                    return component['long_name']\n",
    "                elif 'postal_town' in component['types']:\n",
    "                    return component['long_name']              \n",
    "                elif 'administrative_area_level_5' in component['types']:\n",
    "                    return component['long_name']\n",
    "                elif 'administrative_area_level_4' in component['types']:\n",
    "                    return component['long_name']\n",
    "                elif 'administrative_area_level_3' in component['types']:\n",
    "                    return component['long_name']\n",
    "                elif 'administrative_area_level_2' in component['types']:\n",
    "                    return component['long_name']\n",
    "\n",
    "# to find state, you want the lowest-level admin area available\n",
    "# but, google returns admin areas listed from highest-level to lowest\n",
    "# so you can't just return as soon as you find the first match\n",
    "# this is is opposite of the previous, because this time we want the coarsest-grain match\n",
    "# otherwise we end up with counties and so forth instead of states\n",
    "def get_state(row):\n",
    "    if pd.notnull(row['geocode_results']):\n",
    "        state = None\n",
    "        if 'address_components' in row['geocode_results']:\n",
    "            for component in row['geocode_results']['address_components']:\n",
    "                if 'administrative_area_level_1' in component['types']:\n",
    "                    state = component['long_name']\n",
    "                elif 'administrative_area_level_2' in component['types']:\n",
    "                    state = component['long_name']\n",
    "                elif 'administrative_area_level_3' in component['types']:\n",
    "                    state = component['long_name']\n",
    "                elif 'locality' in component['types']:\n",
    "                    state = component['long_name']\n",
    "        return state\n",
    "\n",
    "def get_country(row):\n",
    "    if pd.notnull(row['geocode_results']):\n",
    "        if 'address_components' in row['geocode_results']:\n",
    "            for component in row['geocode_results']['address_components']:\n",
    "                if 'country' in component['types']:\n",
    "                    return component['long_name']"
   ]
  },
  {
   "cell_type": "code",
   "execution_count": 12,
   "metadata": {
    "collapsed": false
   },
   "outputs": [],
   "source": [
    "# now apply our functions to extract neighborhood, city, state, country\n",
    "df['neighborhood'] = df.apply(get_neighborhood, axis=1)\n",
    "df['city'] = df.apply(get_city, axis=1)\n",
    "df['state'] = df.apply(get_state, axis=1)\n",
    "df['country'] = df.apply(get_country, axis=1)"
   ]
  },
  {
   "cell_type": "code",
   "execution_count": 13,
   "metadata": {
    "collapsed": false
   },
   "outputs": [
    {
     "name": "stdout",
     "output_type": "stream",
     "text": [
      "14 out of 2,471 rows lack city, state, and country\n",
      "14 out of 2,471 rows lack reverse-geocode results\n"
     ]
    }
   ],
   "source": [
    "mask = pd.isnull(df['city']) & pd.isnull(df['state']) & pd.isnull(df['country'])\n",
    "print '{:,} out of {:,} rows lack city, state, and country'.format(len(df[mask]), len(df))\n",
    "ungeocoded_rows = df[pd.isnull(df['geocode_results']) & pd.isnull(df['geocode_results_nominatum'])]\n",
    "print '{:,} out of {:,} rows lack reverse-geocode results'.format(len(ungeocoded_rows), len(df))"
   ]
  },
  {
   "cell_type": "markdown",
   "metadata": {},
   "source": [
    "### If use_second_geocoder is True, use OSM Nominatum API to reverse-geocode any remaining missing rows\n",
    "\n",
    "Only do this on the final pass. This is useful for places like Kosovo that Google does not return results for."
   ]
  },
  {
   "cell_type": "code",
   "execution_count": 14,
   "metadata": {
    "collapsed": true
   },
   "outputs": [],
   "source": [
    "# pass latlng data to osm nominatum to reverse geocode it\n",
    "def reverse_geocode_nominatum(label, lat, lon):\n",
    "    print label,\n",
    "    time.sleep(pause)\n",
    "    url = 'https://nominatim.openstreetmap.org/reverse?format=json&lat={}&lon={}&zoom=18&addressdetails=1'\n",
    "    request = url.format(lat, lon)\n",
    "    response = requests.get(request)\n",
    "    data = json.loads(response.text)\n",
    "    return data"
   ]
  },
  {
   "cell_type": "code",
   "execution_count": 15,
   "metadata": {
    "collapsed": true
   },
   "outputs": [],
   "source": [
    "def parse_nominatum_data(data):\n",
    "    country = None\n",
    "    state = None\n",
    "    city = None\n",
    "    if isinstance(data, dict):\n",
    "        if 'address' in data:\n",
    "            if 'country' in data['address']:\n",
    "                country = data['address']['country']\n",
    "\n",
    "            #state\n",
    "            if 'region' in data['address']:\n",
    "                state = data['address']['region']\n",
    "            if 'state' in data['address']:\n",
    "                state = data['address']['state']\n",
    "\n",
    "            #city\n",
    "            if 'county' in data['address']:\n",
    "                county = data['address']['county']\n",
    "            if 'village' in data['address']:\n",
    "                city = data['address']['village']\n",
    "            if 'city' in data['address']:\n",
    "                city = data['address']['city']\n",
    "    return city, state, country"
   ]
  },
  {
   "cell_type": "code",
   "execution_count": 16,
   "metadata": {
    "collapsed": false
   },
   "outputs": [
    {
     "name": "stdout",
     "output_type": "stream",
     "text": [
      "164 173 462 592 646 1114 1701 1714 1824 2044 2286 2319 2362 2427\n"
     ]
    }
   ],
   "source": [
    "if use_second_geocoder:\n",
    "    df['geocode_results_nominatum'] = None\n",
    "    for label, row in df.iterrows():\n",
    "        if pd.isnull(row['geocode_results']):\n",
    "            result = reverse_geocode_nominatum(label, row['lat'], row['lon'])\n",
    "            city, state, country = parse_nominatum_data(result)\n",
    "            df.loc[label, 'city'] = city\n",
    "            df.loc[label, 'state'] = state\n",
    "            df.loc[label, 'country'] = country\n",
    "            df.loc[label, 'geocode_results_nominatum'] = json.dumps(result, ensure_ascii=False)"
   ]
  },
  {
   "cell_type": "code",
   "execution_count": 17,
   "metadata": {
    "collapsed": false
   },
   "outputs": [
    {
     "name": "stdout",
     "output_type": "stream",
     "text": [
      "0 out of 2,471 rows lack city, state, and country\n",
      "0 out of 2,471 rows lack reverse-geocode results\n"
     ]
    }
   ],
   "source": [
    "mask = pd.isnull(df['city']) & pd.isnull(df['state']) & pd.isnull(df['country'])\n",
    "print '{:,} out of {:,} rows lack city, state, and country'.format(len(df[mask]), len(df))\n",
    "ungeocoded_rows = df[pd.isnull(df['geocode_results']) & pd.isnull(df['geocode_results_nominatum'])]\n",
    "print '{:,} out of {:,} rows lack reverse-geocode results'.format(len(ungeocoded_rows), len(df))"
   ]
  },
  {
   "cell_type": "markdown",
   "metadata": {},
   "source": [
    "## Done: Save to CSV"
   ]
  },
  {
   "cell_type": "code",
   "execution_count": 18,
   "metadata": {
    "collapsed": false
   },
   "outputs": [],
   "source": [
    "# dump the geocode_results to json string before saving so it saves nicely as text\n",
    "f = lambda x: x if isinstance(x, basestring) else json.dumps(x, ensure_ascii=False)\n",
    "df['geocode_results'] = df['geocode_results'].map(f)"
   ]
  },
  {
   "cell_type": "code",
   "execution_count": 19,
   "metadata": {
    "collapsed": true
   },
   "outputs": [],
   "source": [
    "# save the entire data set to the working file\n",
    "df.to_csv(working_file, encoding='utf-8', index=False)\n",
    "\n",
    "# save the useful columns to a final output file\n",
    "cols_to_retain = ['datetime', 'neighborhood', 'city', 'state', 'country', 'lat', 'lon']\n",
    "df[cols_to_retain].to_csv('data/google-location-history.csv', encoding='utf-8', index=False)"
   ]
  },
  {
   "cell_type": "code",
   "execution_count": null,
   "metadata": {
    "collapsed": true
   },
   "outputs": [],
   "source": []
  }
 ],
 "metadata": {
  "kernelspec": {
   "display_name": "Python 2",
   "language": "python",
   "name": "python2"
  },
  "language_info": {
   "codemirror_mode": {
    "name": "ipython",
    "version": 2
   },
   "file_extension": ".py",
   "mimetype": "text/x-python",
   "name": "python",
   "nbconvert_exporter": "python",
   "pygments_lexer": "ipython2",
   "version": "2.7.10"
  }
 },
 "nbformat": 4,
 "nbformat_minor": 0
}
