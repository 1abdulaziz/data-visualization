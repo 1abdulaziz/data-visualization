{
 "cells": [
  {
   "cell_type": "markdown",
   "metadata": {},
   "source": [
    "# Reverse-geocode Google location history\n",
    "\n",
    "In the previous notebook, we clustered the location history data to reduce the size of the data set. This reduced set was saved as 'location-history-clustered.csv'. Now we'll reverse-geocode it from lat/long to neighborhood, city, state, country. \n",
    "\n",
    "First, copy that csv file and rename the copy 'google-history-to-geocode.csv'. We'll use this file as our working file to do the reverse-geocoding. As Google limits you to 2,500 requests per day, we might need to do the entire data set in multiple passes. Hence the working file.\n",
    "\n",
    "Sample request: https://maps.googleapis.com/maps/api/geocode/json?latlng=39.9058153,-86.054788"
   ]
  },
  {
   "cell_type": "code",
   "execution_count": null,
   "metadata": {
    "collapsed": true
   },
   "outputs": [],
   "source": [
    "import pandas as pd\n",
    "import time, requests, json"
   ]
  },
  {
   "cell_type": "markdown",
   "metadata": {},
   "source": [
    "## Load the working file for geocoding"
   ]
  },
  {
   "cell_type": "code",
   "execution_count": null,
   "metadata": {
    "collapsed": true
   },
   "outputs": [],
   "source": [
    "pause = 0.15\n",
    "use_second_geocoder = False #only set True on your last pass, if multiple\n",
    "max_requests = 2500 #how many requests to make of google\n",
    "\n",
    "working_file = 'data/google-history-to-geocode.csv'"
   ]
  },
  {
   "cell_type": "code",
   "execution_count": null,
   "metadata": {
    "collapsed": false
   },
   "outputs": [],
   "source": [
    "df = pd.read_csv(working_file, encoding='utf-8')\n",
    "print '{:,} rows in dataset'.format(len(df))"
   ]
  },
  {
   "cell_type": "markdown",
   "metadata": {},
   "source": [
    "If there are more than 2,500 rows in the dataset, you need to run this notebook multiple times because Google limits you to 2,500 requests per day."
   ]
  },
  {
   "cell_type": "markdown",
   "metadata": {},
   "source": [
    "## Prep the data for geocoding"
   ]
  },
  {
   "cell_type": "code",
   "execution_count": null,
   "metadata": {
    "collapsed": false
   },
   "outputs": [],
   "source": [
    "# create city, state, country columns only if they don't already exist\n",
    "new_cols = ['city', 'state', 'country', 'geocode_results', 'geocode_results_nominatum']\n",
    "for col in new_cols:\n",
    "    if not col in df.columns:\n",
    "        df[col] = None\n",
    "        \n",
    "# drop the locations and timestamp_ms columns if they are still here\n",
    "cols_to_remove = ['locations', 'timestamp_ms']\n",
    "for col in cols_to_remove:\n",
    "    if col in df.columns:\n",
    "        df.drop(col, axis=1, inplace=True)\n",
    "        \n",
    "df.head()"
   ]
  },
  {
   "cell_type": "code",
   "execution_count": null,
   "metadata": {
    "collapsed": false
   },
   "outputs": [],
   "source": [
    "# put latlng in the format google likes so it's easy to call their api\n",
    "df['latlng'] = df.apply(lambda row: '{},{}'.format(row['lat'], row['lon']), axis=1)"
   ]
  },
  {
   "cell_type": "code",
   "execution_count": null,
   "metadata": {
    "collapsed": false
   },
   "outputs": [],
   "source": [
    "# if this isn't the first pass through the reverse-geocoder, we will already have some saved results\n",
    "# they were saved as json strings, so load them as python dicts now to work with them\n",
    "f = lambda x: json.loads(x) if (isinstance(x, str) or isinstance(x, unicode)) else x\n",
    "df['geocode_results'] = df['geocode_results'].map(f)"
   ]
  },
  {
   "cell_type": "code",
   "execution_count": null,
   "metadata": {
    "collapsed": false
   },
   "outputs": [],
   "source": [
    "ungeocoded_rows = df[pd.isnull(df['geocode_results']) & pd.isnull(df['geocode_results_nominatum'])]\n",
    "print '{:,} out of {:,} rows lack reverse-geocode results'.format(len(ungeocoded_rows), len(df))\n",
    "print 'We will attempt to reverse-geocode up to {:,} rows'.format(max_requests)"
   ]
  },
  {
   "cell_type": "markdown",
   "metadata": {
    "collapsed": true
   },
   "source": [
    "## Now reverse-geocode the google location history to city/country"
   ]
  },
  {
   "cell_type": "code",
   "execution_count": null,
   "metadata": {
    "collapsed": false
   },
   "outputs": [],
   "source": [
    "# pass the Google API latlng data to reverse geocode it\n",
    "count_requests = 0\n",
    "def reverse_geocode(row):\n",
    "    global count_requests\n",
    "    if row.name % 100 == 0: print row.name,\n",
    "    \n",
    "    # first check if either geocode result column already has data\n",
    "    if pd.notnull(row['geocode_results']):\n",
    "        return row['geocode_results']\n",
    "    elif pd.notnull(row['geocode_results_nominatum']):\n",
    "        return None\n",
    "    elif count_requests < max_requests:\n",
    "        # this row has not yet been reverse geocoded and we have not yet made the max # of requests\n",
    "        time.sleep(pause)\n",
    "        url = 'https://maps.googleapis.com/maps/api/geocode/json?latlng={}'\n",
    "        request = url.format(row['latlng'])\n",
    "        response = requests.get(request)\n",
    "        count_requests += 1\n",
    "        data = json.loads(response.text)\n",
    "        if len(data['results']) > 0:\n",
    "            return data['results'][0] #if we got results, return the first result"
   ]
  },
  {
   "cell_type": "code",
   "execution_count": null,
   "metadata": {
    "collapsed": false
   },
   "outputs": [],
   "source": [
    "df['geocode_results'] = df.apply(reverse_geocode, axis=1)"
   ]
  },
  {
   "cell_type": "code",
   "execution_count": null,
   "metadata": {
    "collapsed": false
   },
   "outputs": [],
   "source": [
    "ungeocoded_rows = df[pd.isnull(df['geocode_results']) & pd.isnull(df['geocode_results_nominatum'])]\n",
    "print '{:,} out of {:,} rows lack reverse-geocode results'.format(len(ungeocoded_rows), len(df))"
   ]
  },
  {
   "cell_type": "markdown",
   "metadata": {},
   "source": [
    "## Now parse city, state, country from the results"
   ]
  },
  {
   "cell_type": "code",
   "execution_count": null,
   "metadata": {
    "collapsed": true
   },
   "outputs": [],
   "source": [
    "def get_neighborhood(row):\n",
    "    if pd.notnull(row['geocode_results']):\n",
    "        if 'address_components' in row['geocode_results']:\n",
    "            for component in row['geocode_results']['address_components']:\n",
    "                if 'neighborhood' in component['types']:\n",
    "                    return component['long_name']\n",
    "                elif 'sublocality_level_1' in component['types']:\n",
    "                    return component['long_name']\n",
    "                elif 'sublocality_level_2' in component['types']:\n",
    "                    return component['long_name']                \n",
    "                \n",
    "# to find city, return the finest-grain address component \n",
    "# google returns these components in order from finest to coarsest grained\n",
    "def get_city(row):\n",
    "    if pd.notnull(row['geocode_results']):\n",
    "        if 'address_components' in row['geocode_results']:\n",
    "            for component in row['geocode_results']['address_components']:\n",
    "                if 'locality' in component['types']:\n",
    "                    return component['long_name']\n",
    "                elif 'postal_town' in component['types']:\n",
    "                    return component['long_name']              \n",
    "                elif 'administrative_area_level_5' in component['types']:\n",
    "                    return component['long_name']\n",
    "                elif 'administrative_area_level_4' in component['types']:\n",
    "                    return component['long_name']\n",
    "                elif 'administrative_area_level_3' in component['types']:\n",
    "                    return component['long_name']\n",
    "                elif 'administrative_area_level_2' in component['types']:\n",
    "                    return component['long_name']\n",
    "\n",
    "# to find state, you want the lowest-level admin area available\n",
    "# but, google returns admin areas listed from highest-level to lowest\n",
    "# so you can't just return as soon as you find the first match\n",
    "# this is is opposite of the previous, because this time we want the coarsest-grain match\n",
    "# otherwise we end up with counties and so forth instead of states\n",
    "def get_state(row):\n",
    "    if pd.notnull(row['geocode_results']):\n",
    "        state = None\n",
    "        if 'address_components' in row['geocode_results']:\n",
    "            for component in row['geocode_results']['address_components']:\n",
    "                if 'administrative_area_level_1' in component['types']:\n",
    "                    state = component['long_name']\n",
    "                elif 'administrative_area_level_2' in component['types']:\n",
    "                    state = component['long_name']\n",
    "                elif 'administrative_area_level_3' in component['types']:\n",
    "                    state = component['long_name']\n",
    "                elif 'locality' in component['types']:\n",
    "                    state = component['long_name']\n",
    "        return state\n",
    "\n",
    "def get_country(row):\n",
    "    if pd.notnull(row['geocode_results']):\n",
    "        if 'address_components' in row['geocode_results']:\n",
    "            for component in row['geocode_results']['address_components']:\n",
    "                if 'country' in component['types']:\n",
    "                    return component['long_name']"
   ]
  },
  {
   "cell_type": "code",
   "execution_count": null,
   "metadata": {
    "collapsed": false
   },
   "outputs": [],
   "source": [
    "# now apply our functions to extract neighborhood, city, state, country\n",
    "df['neighborhood'] = df.apply(get_neighborhood, axis=1)\n",
    "df['city'] = df.apply(get_city, axis=1)\n",
    "df['state'] = df.apply(get_state, axis=1)\n",
    "df['country'] = df.apply(get_country, axis=1)"
   ]
  },
  {
   "cell_type": "code",
   "execution_count": null,
   "metadata": {
    "collapsed": false
   },
   "outputs": [],
   "source": [
    "mask = pd.isnull(df['city']) & pd.isnull(df['state']) & pd.isnull(df['country'])\n",
    "print '{:,} out of {:,} rows lack city, state, and country'.format(len(df[mask]), len(df))\n",
    "ungeocoded_rows = df[pd.isnull(df['geocode_results']) & pd.isnull(df['geocode_results_nominatum'])]\n",
    "print '{:,} out of {:,} rows lack reverse-geocode results'.format(len(ungeocoded_rows), len(df))"
   ]
  },
  {
   "cell_type": "markdown",
   "metadata": {},
   "source": [
    "### If use_second_geocoder is True, use OSM Nominatum API to reverse-geocode any remaining missing rows\n",
    "\n",
    "Only do this on the final pass. This is useful for places like Kosovo that Google does not return results for."
   ]
  },
  {
   "cell_type": "code",
   "execution_count": null,
   "metadata": {
    "collapsed": true
   },
   "outputs": [],
   "source": [
    "# pass latlng data to osm nominatum to reverse geocode it\n",
    "def reverse_geocode_nominatum(label, lat, lon):\n",
    "    print label,\n",
    "    time.sleep(pause)\n",
    "    url = 'https://nominatim.openstreetmap.org/reverse?format=json&lat={}&lon={}&zoom=18&addressdetails=1'\n",
    "    request = url.format(lat, lon)\n",
    "    response = requests.get(request)\n",
    "    data = json.loads(response.text)\n",
    "    return data"
   ]
  },
  {
   "cell_type": "code",
   "execution_count": null,
   "metadata": {
    "collapsed": true
   },
   "outputs": [],
   "source": [
    "def parse_nominatum_data(data):\n",
    "    country = None\n",
    "    state = None\n",
    "    city = None\n",
    "    if isinstance(data, dict):\n",
    "        if 'address' in data:\n",
    "            if 'country' in data['address']:\n",
    "                country = data['address']['country']\n",
    "\n",
    "            #state\n",
    "            if 'region' in data['address']:\n",
    "                state = data['address']['region']\n",
    "            if 'state' in data['address']:\n",
    "                state = data['address']['state']\n",
    "\n",
    "            #city\n",
    "            if 'county' in data['address']:\n",
    "                county = data['address']['county']\n",
    "            if 'village' in data['address']:\n",
    "                city = data['address']['village']\n",
    "            if 'city' in data['address']:\n",
    "                city = data['address']['city']\n",
    "    return city, state, country"
   ]
  },
  {
   "cell_type": "code",
   "execution_count": null,
   "metadata": {
    "collapsed": false
   },
   "outputs": [],
   "source": [
    "if use_second_geocoder:\n",
    "    df['geocode_results_nominatum'] = None\n",
    "    for label, row in df.iterrows():\n",
    "        if pd.isnull(row['geocode_results']):\n",
    "            result = reverse_geocode_nominatum(label, row['lat'], row['lon'])\n",
    "            city, state, country = parse_nominatum_data(result)\n",
    "            df.loc[label, 'city'] = city\n",
    "            df.loc[label, 'state'] = state\n",
    "            df.loc[label, 'country'] = country\n",
    "            df.loc[label, 'geocode_results_nominatum'] = json.dumps(result, ensure_ascii=False)"
   ]
  },
  {
   "cell_type": "code",
   "execution_count": null,
   "metadata": {
    "collapsed": false
   },
   "outputs": [],
   "source": [
    "mask = pd.isnull(df['city']) & pd.isnull(df['state']) & pd.isnull(df['country'])\n",
    "print '{:,} out of {:,} rows lack city, state, and country'.format(len(df[mask]), len(df))\n",
    "ungeocoded_rows = df[pd.isnull(df['geocode_results']) & pd.isnull(df['geocode_results_nominatum'])]\n",
    "print '{:,} out of {:,} rows lack reverse-geocode results'.format(len(ungeocoded_rows), len(df))"
   ]
  },
  {
   "cell_type": "markdown",
   "metadata": {},
   "source": [
    "## Done: Save to CSV"
   ]
  },
  {
   "cell_type": "code",
   "execution_count": null,
   "metadata": {
    "collapsed": false
   },
   "outputs": [],
   "source": [
    "# dump the geocode_results to json string before saving so it saves nicely as text\n",
    "f = lambda x: x if isinstance(x, basestring) else json.dumps(x, ensure_ascii=False)\n",
    "df['geocode_results'] = df['geocode_results'].map(f)"
   ]
  },
  {
   "cell_type": "code",
   "execution_count": null,
   "metadata": {
    "collapsed": true
   },
   "outputs": [],
   "source": [
    "# save the entire data set to the working file\n",
    "df.to_csv(working_file, encoding='utf-8', index=False)\n",
    "\n",
    "# save the useful columns to a final output file\n",
    "cols_to_retain = ['datetime', 'neighborhood', 'city', 'state', 'country', 'lat', 'lon']\n",
    "df[cols_to_retain].to_csv('data/google-location-history.csv', encoding='utf-8', index=False)"
   ]
  },
  {
   "cell_type": "code",
   "execution_count": null,
   "metadata": {
    "collapsed": true
   },
   "outputs": [],
   "source": []
  }
 ],
 "metadata": {
  "kernelspec": {
   "display_name": "Python 2",
   "language": "python",
   "name": "python2"
  },
  "language_info": {
   "codemirror_mode": {
    "name": "ipython",
    "version": 2
   },
   "file_extension": ".py",
   "mimetype": "text/x-python",
   "name": "python",
   "nbconvert_exporter": "python",
   "pygments_lexer": "ipython2",
   "version": "2.7.11"
  }
 },
 "nbformat": 4,
 "nbformat_minor": 0
}
