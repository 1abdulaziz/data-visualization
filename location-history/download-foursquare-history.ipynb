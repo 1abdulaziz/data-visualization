{
 "cells": [
  {
   "cell_type": "code",
   "execution_count": 1,
   "metadata": {
    "collapsed": true
   },
   "outputs": [],
   "source": [
    "import pandas as pd\n",
    "import requests, json\n",
    "from datetime import datetime as dt\n",
    "from keys import foursquare_oauth_token"
   ]
  },
  {
   "cell_type": "code",
   "execution_count": 2,
   "metadata": {
    "collapsed": false
   },
   "outputs": [],
   "source": [
    "json_file = 'data/foursqure-checkins.json'\n",
    "url_template = 'https://api.foursquare.com/v2/users/self/checkins?limit=250&oauth_token={}&v=20160104&offset={}'"
   ]
  },
  {
   "cell_type": "code",
   "execution_count": 3,
   "metadata": {
    "collapsed": false
   },
   "outputs": [
    {
     "name": "stdout",
     "output_type": "stream",
     "text": [
      "0 250 500 750 1000 1250 1500 1750 2000 2250 2500 2750 3000 3250\n"
     ]
    }
   ],
   "source": [
    "data = []\n",
    "offset = 0\n",
    "while True:\n",
    "    response = requests.get(url_template.format(foursquare_oauth_token, offset))\n",
    "    if len(response.json()['response']['checkins']['items']) == 0:\n",
    "        break\n",
    "    data.append(response.json())\n",
    "    print offset,\n",
    "    offset += 250"
   ]
  },
  {
   "cell_type": "code",
   "execution_count": 4,
   "metadata": {
    "collapsed": false
   },
   "outputs": [],
   "source": [
    "with open(json_file, 'w') as f:\n",
    "    f.write(json.dumps(data, indent=2))"
   ]
  },
  {
   "cell_type": "markdown",
   "metadata": {},
   "source": [
    "## Now parse the responses and load into a dataframe"
   ]
  },
  {
   "cell_type": "code",
   "execution_count": 5,
   "metadata": {
    "collapsed": false
   },
   "outputs": [],
   "source": [
    "location_components = ['city', 'state', 'country', 'lat', 'lng']\n",
    "rows = []\n",
    "for response in data:\n",
    "    for item in response['response']['checkins']['items']:\n",
    "        try:\n",
    "            checkin = {}\n",
    "            checkin['venue_name'] = item['venue']['name']\n",
    "            checkin['created_at'] = item['createdAt']\n",
    "            \n",
    "            if len(item['venue']['categories']) > 0:\n",
    "                checkin['category'] = item['venue']['categories'][0]['name']\n",
    "                \n",
    "            for component in location_components:\n",
    "                if component in item['venue']['location']:\n",
    "                    checkin[component] = item['venue']['location'][component]\n",
    "                else:\n",
    "                    checkin[component] = None\n",
    "            rows.append(checkin)\n",
    "        except:\n",
    "            pass"
   ]
  },
  {
   "cell_type": "code",
   "execution_count": 6,
   "metadata": {
    "collapsed": false
   },
   "outputs": [],
   "source": [
    "df_full = pd.DataFrame(rows)\n",
    "\n",
    "# make each column that could contain non-ascii characters unicode\n",
    "df_full['category'] = df_full['category'].astype(unicode)\n",
    "df_full['city'] = df_full['city'].astype(unicode)\n",
    "df_full['state'] = df_full['state'].astype(unicode)\n",
    "\n",
    "# convert unix timestamp to date and time, then drop the timestamp column\n",
    "df_full['datetime'] = df_full['created_at'].map(lambda x: dt.fromtimestamp(x).strftime('%Y-%m-%d %H:%M'))\n",
    "df_full = df_full.drop('created_at', axis=1)\n",
    "\n",
    "# rename lng column to lon\n",
    "df_full = df_full.rename(columns={'lng':'lon'})"
   ]
  },
  {
   "cell_type": "markdown",
   "metadata": {},
   "source": [
    "## Clean up the data set then save to CSV"
   ]
  },
  {
   "cell_type": "code",
   "execution_count": 7,
   "metadata": {
    "collapsed": false
   },
   "outputs": [],
   "source": [
    "# remove health care and private homes for privacy purposes\n",
    "terms = ['doctor', 'emergency', 'urgent', 'hospital', 'medical', 'private']\n",
    "mask = False\n",
    "for term in terms:\n",
    "    mask = mask | df_full['category'].str.lower().str.contains(term)\n",
    "    \n",
    "df_filtered = df_full[~mask]"
   ]
  },
  {
   "cell_type": "code",
   "execution_count": 8,
   "metadata": {
    "collapsed": false
   },
   "outputs": [
    {
     "data": {
      "text/html": [
       "<div>\n",
       "<table border=\"1\" class=\"dataframe\">\n",
       "  <thead>\n",
       "    <tr style=\"text-align: right;\">\n",
       "      <th></th>\n",
       "      <th>category</th>\n",
       "      <th>city</th>\n",
       "      <th>country</th>\n",
       "      <th>lat</th>\n",
       "      <th>lon</th>\n",
       "      <th>state</th>\n",
       "      <th>venue_name</th>\n",
       "      <th>datetime</th>\n",
       "    </tr>\n",
       "  </thead>\n",
       "  <tbody>\n",
       "    <tr>\n",
       "      <th>0</th>\n",
       "      <td>Burger Joint</td>\n",
       "      <td>Fremont</td>\n",
       "      <td>United States</td>\n",
       "      <td>37.504152</td>\n",
       "      <td>-121.974019</td>\n",
       "      <td>CA</td>\n",
       "      <td>In-N-Out Burger</td>\n",
       "      <td>2016-01-03 19:20</td>\n",
       "    </tr>\n",
       "    <tr>\n",
       "      <th>1</th>\n",
       "      <td>Beach</td>\n",
       "      <td>Big Sur</td>\n",
       "      <td>United States</td>\n",
       "      <td>36.228096</td>\n",
       "      <td>-121.764583</td>\n",
       "      <td>CA</td>\n",
       "      <td>Partington Cove</td>\n",
       "      <td>2016-01-03 16:49</td>\n",
       "    </tr>\n",
       "    <tr>\n",
       "      <th>2</th>\n",
       "      <td>Trail</td>\n",
       "      <td>Big Sur</td>\n",
       "      <td>United States</td>\n",
       "      <td>36.250675</td>\n",
       "      <td>-121.800705</td>\n",
       "      <td>CA</td>\n",
       "      <td>Ewoldsen Trail</td>\n",
       "      <td>2016-01-03 16:49</td>\n",
       "    </tr>\n",
       "    <tr>\n",
       "      <th>3</th>\n",
       "      <td>Scenic Lookout</td>\n",
       "      <td>Big Sur</td>\n",
       "      <td>United States</td>\n",
       "      <td>36.159273</td>\n",
       "      <td>-121.671771</td>\n",
       "      <td>CA</td>\n",
       "      <td>McWay Falls</td>\n",
       "      <td>2016-01-03 16:46</td>\n",
       "    </tr>\n",
       "    <tr>\n",
       "      <th>4</th>\n",
       "      <td>Pub</td>\n",
       "      <td>Big Sur</td>\n",
       "      <td>United States</td>\n",
       "      <td>36.236673</td>\n",
       "      <td>-121.769847</td>\n",
       "      <td>CA</td>\n",
       "      <td>Big Sur Taphouse</td>\n",
       "      <td>2016-01-03 16:06</td>\n",
       "    </tr>\n",
       "  </tbody>\n",
       "</table>\n",
       "</div>"
      ],
      "text/plain": [
       "         category     city        country        lat         lon state  \\\n",
       "0    Burger Joint  Fremont  United States  37.504152 -121.974019    CA   \n",
       "1           Beach  Big Sur  United States  36.228096 -121.764583    CA   \n",
       "2           Trail  Big Sur  United States  36.250675 -121.800705    CA   \n",
       "3  Scenic Lookout  Big Sur  United States  36.159273 -121.671771    CA   \n",
       "4             Pub  Big Sur  United States  36.236673 -121.769847    CA   \n",
       "\n",
       "         venue_name          datetime  \n",
       "0   In-N-Out Burger  2016-01-03 19:20  \n",
       "1   Partington Cove  2016-01-03 16:49  \n",
       "2    Ewoldsen Trail  2016-01-03 16:49  \n",
       "3       McWay Falls  2016-01-03 16:46  \n",
       "4  Big Sur Taphouse  2016-01-03 16:06  "
      ]
     },
     "execution_count": 8,
     "metadata": {},
     "output_type": "execute_result"
    }
   ],
   "source": [
    "# remove multiple check-ins at the same location\n",
    "df_unique = df_filtered.drop_duplicates(subset=['venue_name', 'lat', 'lon'], keep='last').copy()\n",
    "df_unique.head()"
   ]
  },
  {
   "cell_type": "code",
   "execution_count": 9,
   "metadata": {
    "collapsed": true
   },
   "outputs": [],
   "source": [
    "df_unique.to_csv('data/foursquare-location-history.csv', index=False, encoding='utf-8')"
   ]
  },
  {
   "cell_type": "code",
   "execution_count": null,
   "metadata": {
    "collapsed": true
   },
   "outputs": [],
   "source": []
  }
 ],
 "metadata": {
  "kernelspec": {
   "display_name": "Python 2",
   "language": "python",
   "name": "python2"
  },
  "language_info": {
   "codemirror_mode": {
    "name": "ipython",
    "version": 2
   },
   "file_extension": ".py",
   "mimetype": "text/x-python",
   "name": "python",
   "nbconvert_exporter": "python",
   "pygments_lexer": "ipython2",
   "version": "2.7.10"
  }
 },
 "nbformat": 4,
 "nbformat_minor": 0
}
